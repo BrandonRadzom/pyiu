{
 "cells": [
  {
   "cell_type": "markdown",
   "metadata": {
    "id": "pXESEBkLhrHL"
   },
   "source": [
    "# Anaconda and IDEs\n",
    "## PyIU Advanced Python Workshop\n",
    "\n",
    "Author: Daniel Ornelas\n",
    "\n",
    "Last Modified: 4/17/2025\n",
    "\n",
    "This notebook outlines how to install a popular Python distribution called Anaconda and describes how to use two different Integrated Development Environments (IDEs)."
   ]
  },
  {
   "cell_type": "markdown",
   "metadata": {
    "id": "RSlxR0tizIwB"
   },
   "source": [
    "Welcome to the PyIU Advanced Python Workshop! This section will teach you how to download and use conda environments as well as Integrated Development\n",
    "Environments (or IDEs), both of which are powerful tools for managing Python on one's computer."
   ]
  },
  {
   "cell_type": "markdown",
   "metadata": {
    "id": "tu_yCTE51AxT"
   },
   "source": [
    "The first thing we will want to do is download and install \"conda\" on our computer. Conda is an environment manager for Python. Environments in Python are very powerful tools which allow you to store specific versions of software in their own space. Conda is incredibly useful for easily downloading Python packages, and environments make dealing with conflicting versions of software much easier.\n",
    "\n",
    "We will use a Python distribution called Anaconda which includes the Python programming language, several popular libraries and IDEs, and conda as well.\n",
    "To begin downloading Anaconda **follow this link**: [Anaconda Download](https://www.anaconda.com/download)"
   ]
  },
  {
   "cell_type": "markdown",
   "metadata": {
    "id": "qVDCTWAy4WpF"
   },
   "source": [
    "When you follow the link, you should come to the Anaconda downloads page. On the right side where it says \"Provide email to download Distribution\" **click on the small gray link at the bottom** which says \"Skip registration.\""
   ]
  },
  {
   "cell_type": "markdown",
   "metadata": {
    "id": "y4Z0N-t9QkGb"
   },
   "source": [
    "You should be taken to a new page which has rows of Anaconda installations for different OS. **Click on the version which corresponds to your OS**, and has \"Graphical Installer\" in the name."
   ]
  },
  {
   "cell_type": "markdown",
   "metadata": {
    "id": "aaapTll-460-"
   },
   "source": [
    "**Follow the installation prompts**, accepting the defaults (unless you want to specify a different filepath). Make sure to read the entire Software License Agreement from top to bottom. Once it has finished you can close it."
   ]
  },
  {
   "cell_type": "markdown",
   "metadata": {
    "id": "AD1RTOE5TWQc"
   },
   "source": [
    "Now that we have Anaconda downloaded, we want to run the application of course! **Select one of the following set of steps based on your OS**.\n",
    "\n",
    "<u>Mac users</u>:\n",
    "\n",
    "**Open your utilities folder** (if you do not know where this is, click on an empty patch of your Desktop and then \"Go\" at the top of your screen). **Open up the \"terminal\" application**, and once it is open **type \"anaconda-navigator &\"** and hit enter.\n",
    "\n",
    "<u>Windows users</u>:\n",
    "\n",
    "In the bottom left **search bar type \"anaconda prompt\" and click** on the application. Once it opens, **type \"conda activate base\"**. Finally, **type \"anaconda-navigator &\"** and hit enter."
   ]
  },
  {
   "cell_type": "markdown",
   "metadata": {
    "id": "LtGrnKfXZpEt"
   },
   "source": [
    "What we have just done is run the anaconda navigator application, which is a menu for all the features of anaconda, and used \"&\" so that it returns our terminal shell in case we want to use it simultaneously."
   ]
  },
  {
   "cell_type": "markdown",
   "metadata": {
    "id": "0ssswVh146-j"
   },
   "source": [
    "Now what we want to do is open up one of the Integrated Development Environments that comes installed with Anaconda. IDEs are applications which allow you to write Python codes. They are vast improvements to a simple text editor, and often have amazing features to make your coding faster, more efficient, and more successful! You can use conda to check what IDEs and packages you have installed in your current environment by typing \"conda list\"."
   ]
  },
  {
   "cell_type": "markdown",
   "metadata": {
    "id": "jGx9HvDtyey-"
   },
   "source": [
    "In the anaconda navigator, **click on the \"Launch\"** button under where it says **Jupyter Notebook**. Jupyter is a popular IDE which allows you to run code blocked out into cells, which can save you a lot of time both running and debugging. Jupyter should open up in a web browser."
   ]
  },
  {
   "cell_type": "markdown",
   "metadata": {
    "id": "v9OJJ_llzODL"
   },
   "source": [
    "**Click on \"New\"** on the right, then **\"Notebook\"** to create a new program. **Double-click** the new program, and select \"Py3\" as your kernel to begin coding."
   ]
  },
  {
   "cell_type": "markdown",
   "metadata": {
    "id": "urYQ6y76zm06"
   },
   "source": [
    "Jupyter notebook allows you to create new cells above and below your current cell with *Esc-a* and *Esc-b* respectively. You can hit *Esc-x* to delete the current cell (without saving, be careful!). You can also hit *Ctrl-Enter* to run a single cell, or *Esc-Ctrl-a-Ctrl-Enter* to run all cells."
   ]
  },
  {
   "cell_type": "markdown",
   "metadata": {
    "id": "M5DvQ6GNYMrB"
   },
   "source": [
    "When you are done coding in Jupyter, **close the browser windows** in which it is open, and **click back on the terminal/anaconda prompt** that has anaconda navigator running. This time, we want to install a fun 3D python package called \"vpython\". But, in order to avoid messy version control problems, let's do it in a new conda environment, and not our base environment.\n",
    "\n",
    "**Type \"conda create --name newenv1 --clone base\"** and hit enter. Once it has finished, **type \"conda install -c conda-forge vpython\"** and allow it to install."
   ]
  },
  {
   "cell_type": "markdown",
   "metadata": {
    "id": "h9JSVencs_Co"
   },
   "source": [
    "Now, from the terminal **type \"spyder &\"**. Spyder is another popular and easy to use IDE. This time we are choosing to run it from the terminal, *but you can also run it from anaconda-navigator like we did before*. It should open an application with three sections. Copy and paste the following code into the left section and click the green arrow in the top left of the application to run it."
   ]
  },
  {
   "cell_type": "code",
   "execution_count": null,
   "metadata": {
    "id": "ygyanvmEsqM-"
   },
   "outputs": [],
   "source": [
    "from vpython import *\n",
    "\n",
    "ball = sphere(pos=vec(0,0,0), radius=0.2, make_trail = True)\n",
    "velocity = vec(0.33, 0.5, -0.67)\n",
    "dt = 0.1\n",
    "\n",
    "N = 0\n",
    "def stop():\n",
    "    global N\n",
    "    N += 1000\n",
    "scene.bind(\"click\", stop)\n",
    "\n",
    "while N < 1000:\n",
    "    N += 1\n",
    "    rate(60)\n",
    "\n",
    "    if(ball.pos.x <= -1 or ball.pos.x >= 1):\n",
    "        velocity.x *= -1\n",
    "    if(ball.pos.y <= -1 or ball.pos.y >= 1):\n",
    "        velocity.y *= -1\n",
    "    if(ball.pos.z <= -1 or ball.pos.z >= 1):\n",
    "        velocity.z *= -1\n",
    "\n",
    "    ball.pos = ball.pos + velocity * dt"
   ]
  },
  {
   "cell_type": "markdown",
   "metadata": {
    "id": "DQ63-PGqw1XG"
   },
   "source": [
    "While the code is running it should create a 3D sphere bouncing around in a new browser window. To stop the animation early, you can click anywhere in the animation. To run the animation again, close the browser tab it opened and click the green arrow again. Feel free to visit [Vpython](vpython.org) for more fun things to do with 3D plotting!"
   ]
  },
  {
   "cell_type": "markdown",
   "metadata": {
    "id": "oaEft1C_44kn"
   },
   "source": [
    "Congratulations, you have now installed anaconda, which includes conda for creating and updating environments, as well as Spyder and Jupyter as IDEs!"
   ]
  },
  {
   "cell_type": "markdown",
   "metadata": {
    "id": "ftkRJT-7qduW"
   },
   "source": [
    "<u>**LIST OF BUGFIXES HERE**</u>"
   ]
  },
  {
   "cell_type": "markdown",
   "metadata": {
    "id": "203NA3hEqrI_"
   },
   "source": [
    "If anaconda navigator does not run in your new environment and returns \"anaconda-navigator: command not found\":\n",
    "\n",
    "conda install anaconda-navigator"
   ]
  },
  {
   "cell_type": "markdown",
   "metadata": {
    "id": "xzw14bQNqRAC"
   },
   "source": [
    "If Spyder will not open and returns \"ValueError: failed to parse CPython sys.version\":\n",
    "\n",
    "conda update --name <MYFIPYENV> python pyzmq python.app"
   ]
  }
 ],
 "metadata": {
  "colab": {
   "authorship_tag": "ABX9TyO3RgXxDp7swZtQJiCXluGJ",
   "provenance": []
  },
  "kernelspec": {
   "display_name": "Python 3 (ipykernel)",
   "language": "python",
   "name": "python3"
  },
  "language_info": {
   "codemirror_mode": {
    "name": "ipython",
    "version": 3
   },
   "file_extension": ".py",
   "mimetype": "text/x-python",
   "name": "python",
   "nbconvert_exporter": "python",
   "pygments_lexer": "ipython3",
   "version": "3.8.18"
  }
 },
 "nbformat": 4,
 "nbformat_minor": 4
}
