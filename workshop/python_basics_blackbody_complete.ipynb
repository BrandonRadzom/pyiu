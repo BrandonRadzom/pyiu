{
 "cells": [
  {
   "cell_type": "markdown",
   "metadata": {
    "id": "hgRQPt3n151q"
   },
   "source": [
    "# Fall 2024 Advanced Python Workshop\n",
    "## Updated October 16, 2024\n",
    "### Authors: Brandon Radzom, Daniel Ornelas, Robert Howard, Lexi Gault, Kristin Baker, Sarah Popp"
   ]
  },
  {
   "cell_type": "markdown",
   "metadata": {},
   "source": [
    "## Background"
   ]
  },
  {
   "cell_type": "markdown",
   "metadata": {
    "id": "MSIsICG6tFte"
   },
   "source": [
    "The electromagnetic spectrum encompasses all light emitted from radio waves, which have the largest wavelengths, to X-rays and Gamma rays, which have the smallest wavelengths. Light that is visible with your eyes is somewhere in the middle of these two extremes, with wavelengths from 380 nanometers (nm) to roughly 700 nm (1 nm is $1\\cdot10^{-9}$m).\n",
    "![EM_spec](https://www.researchgate.net/profile/Irena-Cosic/publication/318306399/figure/fig4/AS:514050201456640@1499570526123/The-Electromagnetic-Spectrum-from-web-page-astronomersgrouporg.png)\n",
    "\n",
    "Light with shorter wavelengths, like X-rays and Gamma rays, have *more* energy than light with longer wavelengths, such as radio and microwaves. Similarly, objects that have more energy will emit more of their light at shorter wavelengths. In the physical sciences, an object that is a \"perfect emitter\" of light is called an **ideal blackbody**. Our Sun is a pretty good example of a blackbody.\n",
    "\n",
    "The spectrum (intensity of light as a function of wavelength) produced by an ideal blackbody is a function of its temperature alone. The **Planck function**, or blackbody function $B_\\lambda(T)$, describes how bright a blackbody of a given temperature $T$ is as a function of wavelength $\\lambda$, and is given as:\n",
    "$$B_\\lambda(T) = \\frac{2 h c^2}{\\lambda^5}\\frac{1}{e^{hc/\\lambda k T}-1}$$\n",
    "where $e$ is Euler's number ($e=2.7182818$), $h$ is Planck's constant, $c$ is the speed of light, and $k$ is Boltzmann's constant. More technically, the Planck function gives us the spectral radiance of a given object as a function of wavelength, which, in SI units, corresponds to W m$^{-2}$ sr$^{−1}$ Hz$^{−1}$. An important consequence of the Planck function is that blackbody objects with higher temperatures emit more of their light at smaller wavelengths (higher energies), as depicted in the figure below:\n",
    "\n",
    "![EM_spec](https://www.optotherm.com/web/image/6796-6542d306/planck-blackbody-curve.jpg)\n",
    "\n",
    "In this activity, we will explore the basics of Python by creating our own blackbody curves for several different temperatures using the Planck function. We will then compare our blackbody models with a real stellar spectrum published in [Jacoby et al. (1984)](https://ui.adsabs.harvard.edu/abs/1984ApJS...56..257J/abstract). Specifically, we will gain experience with the following Python skills, which will allow us to complete the demo:\n",
    "\n",
    "\n",
    "1. Variable definitions and types\n",
    "2. Lists\n",
    "3. Functions\n",
    "4. Loops\n",
    "5. Plotting\n",
    "\n",
    "Let's begin!\n",
    "\n",
    "\n"
   ]
  },
  {
   "cell_type": "markdown",
   "metadata": {},
   "source": [
    "#### This demo can be run in a browser using Google Colab, which does not require you to have Python installed on your computer. If you want to learn how to install Python, check out the **Installation, Environments, and IDEs** station."
   ]
  },
  {
   "cell_type": "markdown",
   "metadata": {
    "id": "5Y-Nnujl1z_h"
   },
   "source": [
    "## 1. Variables\n",
    "\n",
    "\n",
    "Perhaps the most fundamental component of any programming language is a **variable**, which allows us to store information (like the result of a calculation) in memory, and access that information at any given time. In Python, you can define a variable using the equals `=` operator.\n",
    "\n",
    "Let's start off with a simple example of storing the result of 2+1 in a variable (click Shift+Enter to run a code cell):"
   ]
  },
  {
   "cell_type": "code",
   "execution_count": 1,
   "metadata": {
    "id": "BiOaY-iEs-qV"
   },
   "outputs": [],
   "source": [
    "# define our first variable called \"variable_definition\"\n",
    "variable_definition = 2+1"
   ]
  },
  {
   "cell_type": "markdown",
   "metadata": {
    "id": "_Hk5dmVX5CN0"
   },
   "source": [
    "Generally, variable names should be descriptive, but not too long. *Remember, we are storing data to use later*, so you don't want to repeatedly type out something very long, but you still want the variable name to remind you of its contents. Note that there are special rules for acceptable formats of variable names; for example, spaces are not allowed. A full list can be found here: https://www.w3schools.com/python/python_variables_names.asp\n",
    "\n",
    "\n",
    " Let's rename our variable to \"var_sum\", which is both more concise (\"var\" is short for \"variable\") and descriptive (\"sum\" tells us that this is a sum of some numbers):\n"
   ]
  },
  {
   "cell_type": "code",
   "execution_count": 2,
   "metadata": {
    "id": "lzb72qWG6mwx"
   },
   "outputs": [],
   "source": [
    "# define new variable, var_sum\n",
    "var_sum = variable_definition"
   ]
  },
  {
   "cell_type": "markdown",
   "metadata": {
    "id": "_LNtaiEd7KKY"
   },
   "source": [
    "We can access this variable by simply typing its name, which \"calls\" its value from memory, and Python will output the result ($2+1=3$).\n",
    "\n"
   ]
  },
  {
   "cell_type": "code",
   "execution_count": 3,
   "metadata": {
    "colab": {
     "base_uri": "https://localhost:8080/"
    },
    "executionInfo": {
     "elapsed": 17,
     "status": "ok",
     "timestamp": 1727282849108,
     "user": {
      "displayName": "Brandon Radzom",
      "userId": "16267160605221472520"
     },
     "user_tz": 240
    },
    "id": "SOxP4R-U7LXq",
    "outputId": "06839735-0eec-4b3e-9e82-656904ae71ea"
   },
   "outputs": [
    {
     "data": {
      "text/plain": [
       "3"
      ]
     },
     "execution_count": 3,
     "metadata": {},
     "output_type": "execute_result"
    }
   ],
   "source": [
    "var_sum"
   ]
  },
  {
   "cell_type": "markdown",
   "metadata": {
    "id": "LfojJjQM6nXi"
   },
   "source": [
    "We can perform other operations in Python besides addition. Let's manipulate our variable with subtraction (`-`), multiplication (`*`), division (`/`), and exponentiation (`**`), and output the result as we go.\n",
    "\n",
    "We will also make use of comments, which are denoted in Python via hash symbols `#` and show up green in code cells. Any code or text that follows a `#` will not be executed when code is ran, allowing you to easily document or add notes on what specific lines of code are doing."
   ]
  },
  {
   "cell_type": "code",
   "execution_count": 4,
   "metadata": {
    "colab": {
     "base_uri": "https://localhost:8080/"
    },
    "executionInfo": {
     "elapsed": 55,
     "status": "ok",
     "timestamp": 1727282849334,
     "user": {
      "displayName": "Brandon Radzom",
      "userId": "16267160605221472520"
     },
     "user_tz": 240
    },
    "id": "XPnxqgr85SAq",
    "outputId": "bf761310-89d8-4d84-bc7c-524895c9ae63"
   },
   "outputs": [
    {
     "data": {
      "text/plain": [
       "16.0"
      ]
     },
     "execution_count": 4,
     "metadata": {},
     "output_type": "execute_result"
    }
   ],
   "source": [
    "# subtract 1 from var_sum\n",
    "var_subtract = var_sum - 1\n",
    "# output new result, should be 3-1=2\n",
    "var_subtract\n",
    "\n",
    "# multiply new result by 4\n",
    "var_mult = var_subtract * 4\n",
    "# output new result, should be 2*4=8\n",
    "var_mult\n",
    "\n",
    "# divide new result by 2\n",
    "var_div = var_mult / 2\n",
    "# output new result, should be 8/2=4\n",
    "var_div\n",
    "\n",
    "# square new result\n",
    "var_square = var_div ** 2\n",
    "# output new result, should be 4**2=16\n",
    "var_square"
   ]
  },
  {
   "cell_type": "markdown",
   "metadata": {
    "id": "Ne744Uzm5WDa"
   },
   "source": [
    "Note that only one result is output by Python at a time, so in the end, we just see 16.0. We need to use print statements using the built-in `print` command in Python in order to explicitly output our results throughout the code. Let's re-run the above cell again with such print statements:"
   ]
  },
  {
   "cell_type": "code",
   "execution_count": 5,
   "metadata": {
    "colab": {
     "base_uri": "https://localhost:8080/"
    },
    "executionInfo": {
     "elapsed": 39,
     "status": "ok",
     "timestamp": 1727282849335,
     "user": {
      "displayName": "Brandon Radzom",
      "userId": "16267160605221472520"
     },
     "user_tz": 240
    },
    "id": "6qI9_ukzCrF9",
    "outputId": "66474d4c-4c05-49c4-bbe6-3e65d212c3da"
   },
   "outputs": [
    {
     "name": "stdout",
     "output_type": "stream",
     "text": [
      "Subtraction result: 2\n",
      "Multiplication result: 8\n",
      "Division result: 4.0\n",
      "Exponent result: 16.0\n"
     ]
    }
   ],
   "source": [
    "# subtract 1 from var_sum\n",
    "var_subtract = var_sum - 1\n",
    "# output new result, should be 3-1=2\n",
    "print(\"Subtraction result:\", var_subtract)\n",
    "\n",
    "# multiply new result by 4\n",
    "var_mult = var_subtract * 4\n",
    "# output new result, should be 2*4=8\n",
    "print(\"Multiplication result:\", var_mult)\n",
    "\n",
    "# divide new result by 2\n",
    "var_div = var_mult / 2\n",
    "# output new result, should be 8/2=4\n",
    "print(\"Division result:\", var_div)\n",
    "\n",
    "# square new result\n",
    "var_square = var_div ** 2\n",
    "# output new result, should be 4**2=16\n",
    "print(\"Exponent result:\", var_square)"
   ]
  },
  {
   "cell_type": "markdown",
   "metadata": {
    "id": "XNHSnCdjDHe9"
   },
   "source": [
    "Now we can see how our result changes after each operation. Additionally, you may notice the use of quotations (\" \") within these print statements that allow us to print out text. In Python, double (\" \") or single (' ') quotations define a **type** of variable called a `string`.\n",
    "\n",
    "You may also notice within the output from our print statements that the first two results (var_subtract and var_mult) are integers, while the final two results (var_div and var_square) are decimals. Correspondingly, in Python these variables are `int` and `float` types, respectively. There are also `boolean` variables, which evaluate to either `True` or `False`. Here is a brief summary of these variable types:\n",
    "\n",
    "- `int`: Whole numbers (integers)\n",
    "- `float`: Decimal or \"floating-point\" numbers\n",
    "- `string`: Text encompassed by quotations\n",
    "- `boolean`: True or False\n",
    "\n",
    "There are many other variable types in Python. Lists, which we will cover next, represent another fundamental variable type that is built into the language.\n"
   ]
  },
  {
   "cell_type": "markdown",
   "metadata": {
    "id": "Njnrv41GqQez"
   },
   "source": [
    "Let's use what we've learned so far to define the Planck function and its relevant constants for a blackbody with the Sun's temperature ($T=5778\\ K$). Note that, just like a common calculator, we can use the key character \"e\" to denote \"ten to the power of\". For example, the quantity $2\\times 10^{-6}$ can be written succinctly as \"2e-6\" in Python, which is shorter than writing out \"2*10^(-6)\". We will make use of this notation in this notebook code."
   ]
  },
  {
   "cell_type": "code",
   "execution_count": 6,
   "metadata": {
    "colab": {
     "base_uri": "https://localhost:8080/"
    },
    "executionInfo": {
     "elapsed": 30,
     "status": "ok",
     "timestamp": 1727282849335,
     "user": {
      "displayName": "Brandon Radzom",
      "userId": "16267160605221472520"
     },
     "user_tz": 240
    },
    "id": "cf2X61ZdIJB3",
    "outputId": "c5edae33-4383-44bc-ad43-02c499cee844"
   },
   "outputs": [
    {
     "name": "stdout",
     "output_type": "stream",
     "text": [
      "The spectral radiance for the Sun at 550 nm is: 25857604854421.566 W m^-2 sr^−1 Hz^−1.\n"
     ]
    }
   ],
   "source": [
    "# first define all constants in SI units\n",
    "\n",
    "# Planck constant h in J*s\n",
    "h = 6.62607004e-34\n",
    "\n",
    "# speed of light c in m/s\n",
    "c = 299792458\n",
    "\n",
    "# Boltzmann constant k in J/K\n",
    "k = 1.38064852e-23\n",
    "\n",
    "# next, define a temperature variable for the Sun (in Kelvin)\n",
    "T = 5778\n",
    "\n",
    "# and define a wavelength (corresponding to green) in the visible (in units of meters)\n",
    "lam = 550e-9\n",
    "\n",
    "# finally, we define our Planck function (B) model for the Sun at this wavelength\n",
    "B = ((2 * h * c**2) / lam**5) * (1 / (2.7182818**(h * c / (lam * k * T)) - 1))\n",
    "\n",
    "# print the result:\n",
    "print(\"The spectral radiance for the Sun at 550 nm is:\", B,\"W m^-2 sr^−1 Hz^−1.\")"
   ]
  },
  {
   "cell_type": "markdown",
   "metadata": {
    "id": "ku9NOIDE2XXH"
   },
   "source": [
    "## 2. Lists"
   ]
  },
  {
   "cell_type": "markdown",
   "metadata": {
    "id": "ufImnFypvmw8"
   },
   "source": [
    "A `list` is another fundamental way to store information in Python. As the name suggests, they are useful for organizing many individual pieces of information into one place for later reference.\n",
    "\n",
    "Lists can be defined just like any other variable with the single equal sign operator `=.` To fill the list with **elements** at its definition call, we can use square brackets \"[ ]\" and commas. Let's make a `list` now."
   ]
  },
  {
   "cell_type": "code",
   "execution_count": 7,
   "metadata": {
    "id": "xziTW6enxZWc"
   },
   "outputs": [],
   "source": [
    "# Defining a list variable\n",
    "\n",
    "new_list1 = [5, 8, \"banana\", -22, 5, 0.1, \"hello\"]\n"
   ]
  },
  {
   "cell_type": "markdown",
   "metadata": {
    "id": "wnOI9CPbyULU"
   },
   "source": [
    "Notice that the list we just defined has more than one variable type within. In fact, it has strings, ints, and floats all together! Lists allow us to store as many variables as we want, even other lists!  "
   ]
  },
  {
   "cell_type": "code",
   "execution_count": 8,
   "metadata": {
    "colab": {
     "base_uri": "https://localhost:8080/"
    },
    "executionInfo": {
     "elapsed": 23,
     "status": "ok",
     "timestamp": 1727282849335,
     "user": {
      "displayName": "Brandon Radzom",
      "userId": "16267160605221472520"
     },
     "user_tz": 240
    },
    "id": "Gi0rO_JtzCpK",
    "outputId": "92b09f23-7a62-40e9-9b94-530fc5b2d543"
   },
   "outputs": [
    {
     "name": "stdout",
     "output_type": "stream",
     "text": [
      "['a', 'b', [1, 2, 3], 'd', [True, False]]\n"
     ]
    }
   ],
   "source": [
    "# Make a list that contains two numbers as well as the original list within\n",
    "\n",
    "list_of_lists1 = [\"a\", \"b\", [1,2,3], \"d\", [True,False]]\n",
    "\n",
    "print(list_of_lists1)"
   ]
  },
  {
   "cell_type": "markdown",
   "metadata": {
    "id": "kpBHw38IzUxJ"
   },
   "source": [
    "Of course, the real usefulness of lists is the user's ability to **index** them. This means that we can access any element in the list whenever we want and wherever it is in the list, without altering the list itself.\n",
    "\n",
    "To access an element from a list, we can call the name of the list variable followed by square brackets and an element index number."
   ]
  },
  {
   "cell_type": "code",
   "execution_count": 9,
   "metadata": {
    "colab": {
     "base_uri": "https://localhost:8080/"
    },
    "executionInfo": {
     "elapsed": 19,
     "status": "ok",
     "timestamp": 1727282849335,
     "user": {
      "displayName": "Brandon Radzom",
      "userId": "16267160605221472520"
     },
     "user_tz": 240
    },
    "id": "jFKqEYDhz_1t",
    "outputId": "1a0a9f5f-a06a-4544-d026-0e7ebb1e33d3"
   },
   "outputs": [
    {
     "name": "stdout",
     "output_type": "stream",
     "text": [
      "banana\n"
     ]
    }
   ],
   "source": [
    "# Get an item from the list\n",
    "\n",
    "item1 = new_list1[2]\n",
    "\n",
    "print(item1)"
   ]
  },
  {
   "cell_type": "markdown",
   "metadata": {
    "id": "jHZPS2cv0srA"
   },
   "source": [
    "Wait a minute, we asked for element index 2 in the example above, but it gave us the third item in the list instead? This is normal. Python starts indexing elements with the number 0, for historical reasons. Notice, this implies that the last element in a list always has an index equal to the length of the list minus one!\n",
    "\n",
    "Finally, we can access the elements in a list of lists by using the same square brackets, but this time calling several indexes one after another."
   ]
  },
  {
   "cell_type": "code",
   "execution_count": 10,
   "metadata": {
    "colab": {
     "base_uri": "https://localhost:8080/"
    },
    "executionInfo": {
     "elapsed": 15,
     "status": "ok",
     "timestamp": 1727282849335,
     "user": {
      "displayName": "Brandon Radzom",
      "userId": "16267160605221472520"
     },
     "user_tz": 240
    },
    "id": "3rfmr2lG2BTg",
    "outputId": "1089d959-0664-4440-c66e-d502954c75ca"
   },
   "outputs": [
    {
     "name": "stdout",
     "output_type": "stream",
     "text": [
      "b\n",
      "True\n"
     ]
    }
   ],
   "source": [
    "# Output the second item from \"list_of_lists1\"\n",
    "\n",
    "second_item = list_of_lists1[1]\n",
    "\n",
    "print(second_item)\n",
    "\n",
    "# Output the first item from the smaller list inside \"list_of_lists1\"\n",
    "\n",
    "first_from_list = list_of_lists1[4][0]\n",
    "\n",
    "print(first_from_list)"
   ]
  },
  {
   "cell_type": "markdown",
   "metadata": {
    "id": "VvgGLbeSlS5E"
   },
   "source": [
    "We can even get multiple values from a list by **slicing** the list using the colon symbol `:` and two index values. Note that the end point is not included in the slice."
   ]
  },
  {
   "cell_type": "code",
   "execution_count": 11,
   "metadata": {
    "colab": {
     "base_uri": "https://localhost:8080/"
    },
    "executionInfo": {
     "elapsed": 13,
     "status": "ok",
     "timestamp": 1727282849336,
     "user": {
      "displayName": "Brandon Radzom",
      "userId": "16267160605221472520"
     },
     "user_tz": 240
    },
    "id": "V0dztgkMlTEr",
    "outputId": "7af65041-f43c-44af-a563-3855d39f0fc5"
   },
   "outputs": [
    {
     "name": "stdout",
     "output_type": "stream",
     "text": [
      "[-22, 5, 0.1]\n"
     ]
    }
   ],
   "source": [
    "# Get a slice of a list\n",
    "\n",
    "print(new_list1[3:6])"
   ]
  },
  {
   "cell_type": "markdown",
   "metadata": {
    "id": "ChqgfjoT1hDW"
   },
   "source": [
    "Another useful feature of lists is that we can ask them for their length using the `len()` command. This can be very useful when slicing!"
   ]
  },
  {
   "cell_type": "code",
   "execution_count": 12,
   "metadata": {
    "colab": {
     "base_uri": "https://localhost:8080/"
    },
    "executionInfo": {
     "elapsed": 11,
     "status": "ok",
     "timestamp": 1727282849336,
     "user": {
      "displayName": "Brandon Radzom",
      "userId": "16267160605221472520"
     },
     "user_tz": 240
    },
    "id": "1e8fiAFU1gkh",
    "outputId": "262c7a3a-0f6c-416f-9d39-b20f5a124fb7"
   },
   "outputs": [
    {
     "name": "stdout",
     "output_type": "stream",
     "text": [
      "7\n",
      "[8, 'banana', -22, 5, 0.1, 'hello']\n"
     ]
    }
   ],
   "source": [
    "# Get the length of the list\n",
    "\n",
    "print(len(new_list1))\n",
    "\n",
    "# Output every item in \"new_list1\" except for the first item\n",
    "\n",
    "print(new_list1[1:len(new_list1)])"
   ]
  },
  {
   "cell_type": "markdown",
   "metadata": {
    "id": "IZU1MNUL2rZ7"
   },
   "source": [
    "We can also add to any list using the `append()` command."
   ]
  },
  {
   "cell_type": "code",
   "execution_count": 13,
   "metadata": {
    "colab": {
     "base_uri": "https://localhost:8080/"
    },
    "executionInfo": {
     "elapsed": 7,
     "status": "ok",
     "timestamp": 1727282849336,
     "user": {
      "displayName": "Brandon Radzom",
      "userId": "16267160605221472520"
     },
     "user_tz": 240
    },
    "id": "YOoAd0iI25Sm",
    "outputId": "14ecdb80-87dc-4e09-dead-9e99c428de29"
   },
   "outputs": [
    {
     "name": "stdout",
     "output_type": "stream",
     "text": [
      "[1, 2, 3]\n",
      "[1, 2, 3, 'Four']\n"
     ]
    }
   ],
   "source": [
    "# Add to the list\n",
    "\n",
    "new_list2 = [1, 2, 3]\n",
    "print(new_list2)\n",
    "\n",
    "new_list2.append(\"Four\")\n",
    "print(new_list2)"
   ]
  },
  {
   "cell_type": "markdown",
   "metadata": {
    "id": "T_CKRRFn9mxl"
   },
   "source": [
    "One way to quickly make a list of many values is to use the `range()`function. This function takes in three numbers (*start*, *end*, *step size*), which it uses to define a list. Note that the end point is not included in the list.\n",
    "\n",
    "You can turn a range of items into a list with the `list()` command."
   ]
  },
  {
   "cell_type": "code",
   "execution_count": 14,
   "metadata": {
    "colab": {
     "base_uri": "https://localhost:8080/"
    },
    "executionInfo": {
     "elapsed": 191,
     "status": "ok",
     "timestamp": 1727282849522,
     "user": {
      "displayName": "Brandon Radzom",
      "userId": "16267160605221472520"
     },
     "user_tz": 240
    },
    "id": "OpHpvCkJ9mNa",
    "outputId": "1298117a-6289-44d8-afc9-ef0dce251321"
   },
   "outputs": [
    {
     "name": "stdout",
     "output_type": "stream",
     "text": [
      "[2, 5, 8, 11, 14, 17]\n"
     ]
    }
   ],
   "source": [
    "# Make a list using range()\n",
    "\n",
    "new_list4 = list(range(2, 18, 3))\n",
    "print(new_list4)"
   ]
  },
  {
   "cell_type": "markdown",
   "metadata": {
    "id": "6Uh3qk5W6UQd"
   },
   "source": [
    "Now that we understand how lists work and how we can use them, let's define a list in which can store all of the wavelengths we will need to use for our blackbody curves. Note that we can access the last few elements in a list using negative index values, which count from the end of a list."
   ]
  },
  {
   "cell_type": "code",
   "execution_count": 15,
   "metadata": {
    "colab": {
     "base_uri": "https://localhost:8080/"
    },
    "executionInfo": {
     "elapsed": 21,
     "status": "ok",
     "timestamp": 1727282849522,
     "user": {
      "displayName": "Brandon Radzom",
      "userId": "16267160605221472520"
     },
     "user_tz": 240
    },
    "id": "WoBSBgPwr7Kw",
    "outputId": "c342aa4f-52ed-4d18-d044-f07b226b5b67"
   },
   "outputs": [
    {
     "name": "stdout",
     "output_type": "stream",
     "text": [
      "[380, 381, 382, 383] ... 700\n",
      "[380, 381, 382, 383] ... 700\n"
     ]
    }
   ],
   "source": [
    "# Make a list of wavelengths from 380 until 700, spaced by 1\n",
    "\n",
    "wavelengths = list(range(380, 701, 1))\n",
    "\n",
    "print(wavelengths[0:4], \"...\", wavelengths[len(wavelengths) - 1])\n",
    "print(wavelengths[0:4], \"...\", wavelengths[-1])"
   ]
  },
  {
   "cell_type": "markdown",
   "metadata": {
    "id": "diAESPF__mr3"
   },
   "source": [
    "Our wavelengths list is in units of nanometers, but it should be in units of meters in order to work with the SI units in the Planck function. Right now we don't have very good tools to fix this, and would have to write a line of code to edit every single element in the list (all 321 of them!). In the next section we will learn about *loops*, which will make indexing and working with lists much faster and more efficient."
   ]
  },
  {
   "cell_type": "markdown",
   "metadata": {
    "id": "Wmutv09f2fB_"
   },
   "source": [
    "## 3. Loops"
   ]
  },
  {
   "cell_type": "markdown",
   "metadata": {
    "id": "2JkeV04WSYfF"
   },
   "source": [
    "Frequently when coding, we need to iterate through the lists that we have made. This is often done using `for` loops, which can execute a set of statements, once for each item in a list (or tuples, dictionaries, sets, strings, or any other \"iterable\" object). There are also `while` loops which repeat code until a certain condition is met. In this example, we will be using `for` loops to iterate through our lists."
   ]
  },
  {
   "cell_type": "code",
   "execution_count": 16,
   "metadata": {
    "colab": {
     "base_uri": "https://localhost:8080/"
    },
    "executionInfo": {
     "elapsed": 16,
     "status": "ok",
     "timestamp": 1727282849522,
     "user": {
      "displayName": "Brandon Radzom",
      "userId": "16267160605221472520"
     },
     "user_tz": 240
    },
    "id": "3_H7wQ-qrajw",
    "outputId": "40666c8f-fa99-41c0-a82b-52e2ab57b6d5"
   },
   "outputs": [
    {
     "name": "stdout",
     "output_type": "stream",
     "text": [
      "1\n",
      "2\n",
      "3\n",
      "4\n",
      "5\n"
     ]
    }
   ],
   "source": [
    "# Let's loop through a list and print each element in the list\n",
    "nums = [1,2,3,4,5]\n",
    "for i in nums:\n",
    "  print(i)"
   ]
  },
  {
   "cell_type": "code",
   "execution_count": 17,
   "metadata": {
    "colab": {
     "base_uri": "https://localhost:8080/"
    },
    "executionInfo": {
     "elapsed": 12,
     "status": "ok",
     "timestamp": 1727282849522,
     "user": {
      "displayName": "Brandon Radzom",
      "userId": "16267160605221472520"
     },
     "user_tz": 240
    },
    "id": "BQTkoTlUU1AR",
    "outputId": "adc9e589-e7cd-4bd6-c4d8-7cdf19ae07c2"
   },
   "outputs": [
    {
     "name": "stdout",
     "output_type": "stream",
     "text": [
      "Original numbers: [1, 2, 3, 4, 5, 6, 7, 8, 9, 10]\n",
      "Squared numbers: [1, 4, 9, 16, 25, 36, 49, 64, 81, 100]\n"
     ]
    }
   ],
   "source": [
    "# We can also perform math on each element of a list and put the values into a new list\n",
    "nums = list(range(1,11,1))\n",
    "numsqrd = []\n",
    "for i in nums:\n",
    "  numsqrd.append(i**2)\n",
    "print(\"Original numbers:\",nums)\n",
    "print(\"Squared numbers:\",numsqrd)\n"
   ]
  },
  {
   "cell_type": "markdown",
   "metadata": {
    "id": "QoTCWSlYkvU2"
   },
   "source": [
    "In the above examples, we've set the \"dummy\" variable in our for loop statement to be equal to the elements in the list. We can also iterate over all the index values associated with a list, which allows us to set this variable to indexes! This is done using the syntax:\n",
    "\n",
    "```\n",
    "for i in range(len(my_list)):\n",
    "```\n",
    "Let's re-write the above code with this syntax:\n"
   ]
  },
  {
   "cell_type": "code",
   "execution_count": 18,
   "metadata": {
    "colab": {
     "base_uri": "https://localhost:8080/"
    },
    "executionInfo": {
     "elapsed": 9,
     "status": "ok",
     "timestamp": 1727282849522,
     "user": {
      "displayName": "Brandon Radzom",
      "userId": "16267160605221472520"
     },
     "user_tz": 240
    },
    "id": "aaUrxPIFkzqO",
    "outputId": "c9704e89-7213-43db-aa70-5980f13fb03c"
   },
   "outputs": [
    {
     "name": "stdout",
     "output_type": "stream",
     "text": [
      "Original numbers: [1, 2, 3, 4, 5, 6, 7, 8, 9, 10]\n",
      "Squared numbers: [1, 4, 9, 16, 25, 36, 49, 64, 81, 100]\n"
     ]
    }
   ],
   "source": [
    "# repeat above but iterate over index values\n",
    "nums = list(range(1,11,1))\n",
    "numsqrd = []\n",
    "# Make the loop\n",
    "for i in range(len(nums)):\n",
    "  numsqrd.append(nums[i]**2)\n",
    "\n",
    "print(\"Original numbers:\",nums)\n",
    "print(\"Squared numbers:\",numsqrd)"
   ]
  },
  {
   "cell_type": "markdown",
   "metadata": {
    "id": "ygzRH0Z7kz05"
   },
   "source": [
    " In general, iterating over a range of index values like this is a better, more robust way to write a `for` loop. We can combine these two iteration methods by writing a double `for` loop:"
   ]
  },
  {
   "cell_type": "code",
   "execution_count": 19,
   "metadata": {
    "colab": {
     "base_uri": "https://localhost:8080/"
    },
    "executionInfo": {
     "elapsed": 8,
     "status": "ok",
     "timestamp": 1727282849524,
     "user": {
      "displayName": "Brandon Radzom",
      "userId": "16267160605221472520"
     },
     "user_tz": 240
    },
    "id": "-j0RenbLV65g",
    "outputId": "538d4b76-5275-4224-8b0e-aa6755f239be"
   },
   "outputs": [
    {
     "name": "stdout",
     "output_type": "stream",
     "text": [
      "[[2, 4, 6, 8, 10, 12, 14, 16, 18, 20], [3, 6, 9, 12, 15, 18, 21, 24, 27, 30], [4, 8, 12, 16, 20, 24, 28, 32, 36, 40]]\n"
     ]
    }
   ],
   "source": [
    "# Sometimes you'll want to loop through multiple lists, and you can do that by embedding a loop in a loop!\n",
    "mult = [2,3,4]\n",
    "nums = list(range(1,11,1))\n",
    "\n",
    "multiples = [[],[],[]]\n",
    "for i in range(len(mult)):\n",
    "  for j in nums:\n",
    "    multiple = mult[i]*j\n",
    "    multiples[i].append(multiple)\n",
    "print(multiples)"
   ]
  },
  {
   "cell_type": "markdown",
   "metadata": {
    "id": "LpypO4SPlA7J"
   },
   "source": [
    "We won't need this for this Planck function demo, but you can also use **logic** within `for` loops. Logical or *conditional* statements in Python evaluate into `boolean` variable types: either `True` or `False`, and are written using the `if`, `elif`, and `else` keywords. Here's an example that uses conditional statements to check if each element in a list is less than 10, equal to 10, or greater than 10."
   ]
  },
  {
   "cell_type": "code",
   "execution_count": 20,
   "metadata": {
    "colab": {
     "base_uri": "https://localhost:8080/"
    },
    "executionInfo": {
     "elapsed": 175,
     "status": "ok",
     "timestamp": 1727282849694,
     "user": {
      "displayName": "Brandon Radzom",
      "userId": "16267160605221472520"
     },
     "user_tz": 240
    },
    "id": "5ib0jBEWXyBy",
    "outputId": "47e15db6-60f3-4862-f65a-16c502c99503"
   },
   "outputs": [
    {
     "name": "stdout",
     "output_type": "stream",
     "text": [
      "This number is less than 10: 1\n",
      "This number is less than 10: 2\n",
      "This number is less than 10: 3\n",
      "This number is less than 10: 4\n",
      "This number is less than 10: 5\n",
      "This number is less than 10: 6\n",
      "This number is less than 10: 7\n",
      "This number is less than 10: 8\n",
      "This number is less than 10: 9\n",
      "This number is equal to 10: 10\n",
      "This number is greater than 10: 11\n",
      "This number is greater than 10: 12\n",
      "This number is greater than 10: 13\n",
      "This number is greater than 10: 14\n",
      "This number is greater than 10: 15\n",
      "This number is greater than 10: 16\n",
      "This number is greater than 10: 17\n",
      "This number is greater than 10: 18\n",
      "This number is greater than 10: 19\n",
      "This number is greater than 10: 20\n"
     ]
    }
   ],
   "source": [
    "# We can also apply conditions within loops\n",
    "nums = list(range(1,21,1))\n",
    "for i in nums:\n",
    "  if i < 10:\n",
    "    print(\"This number is less than 10:\",i)\n",
    "  elif i == 10:\n",
    "    print(\"This number is equal to 10:\", i)\n",
    "  else:\n",
    "    print(\"This number is greater than 10:\", i)"
   ]
  },
  {
   "cell_type": "markdown",
   "metadata": {
    "id": "mfRD8vcCTaYQ"
   },
   "source": [
    "Now we can apply these principles of `for` loops to compute our blackbody curve over a list of wavelengths!"
   ]
  },
  {
   "cell_type": "code",
   "execution_count": 21,
   "metadata": {
    "colab": {
     "base_uri": "https://localhost:8080/"
    },
    "executionInfo": {
     "elapsed": 16,
     "status": "ok",
     "timestamp": 1727282849695,
     "user": {
      "displayName": "Brandon Radzom",
      "userId": "16267160605221472520"
     },
     "user_tz": 240
    },
    "id": "0lHdA5tM2hPH",
    "outputId": "02edd354-a6a6-4276-8036-120a23cc52c4"
   },
   "outputs": [
    {
     "name": "stdout",
     "output_type": "stream",
     "text": [
      "The spectral radiance for the Sun at wavelengths of 200-1000 nm is: [1457487617270.2979, 1512432628786.3157, 1568680893331.9873, 1626237552448.583, 1685107106339.827, 1745293412603.2039, 1806799685675.8777, 1869628496979.4753, 1933781775747.2134, 1999260810516.2832, 2066066251267.679, 2134198112195.0876, 2203655775084.092, 2274437993282.313, 2346542896241.037, 2419967994608.1523, 2494710185852.3525, 2570765760398.19, 2648130408251.3003, 2726799226093.2476, 2806766724825.188, 2888026837539.6274, 2970572927899.5503, 3054397798904.2866, 3139493702021.475, 3225852346664.8877, 3313464909997.6074, 3402322047040.812, 3492413901068.1274, 3583730114266.1294, 3676259838641.6533, 3769991747156.987, 3864914045074.369, 3961014481491.279, 4058280361048.968, 4156698555796.3486, 4256255517192.218, 4356937288229.2236, 4458729515662.894, 4561617462330.25, 4665586019542.234, 4770619719535.1, 4876702747966.178, 4983818956439.733, 5091951875049.677, 5201084724925.374, 5311200430768.393, 5422281633367.45, 5534310702079.978, 5647269747269.058, 5761140632684.474, 5875904987777.934, 5991544219941.98, 6108039526663.428, 6225371907582.016, 6343522176445.663, 6462470972954.318, 6582198774483.997, 6702685907684.458, 6823912559942.736, 6945858790706.561, 7068504542661.054, 7191829652753.23, 7315813863058.571, 7440436831484.999, 7565678142309.043, 7691517316540.534, 7817933822111.161, 7944907083883.601, 8072416493477.921, 8200441418911.973, 8328961214053.224, 8457955227879.646, 8587402813547.281, 8717283337263.051, 8847576186960.635, 8978260780778.611, 9109316575339.475, 9240723073828.695, 9372459833873.48, 9504506475220.17, 9636842687211.096, 9769448236059.875, 9902302971926.023, 10035386835789.133, 10168679866122.922, 10302162205370.477, 10435814106220.854, 10569615937688.646, 10703548190997.793, 10837591485270.19, 10971726573021.854, 11105934345466.887, 11240195837631.852, 11374492233282.387, 11508804869663.277, 11643115242054.791, 11777405008147.002, 11911655992234.367, 12045850189233.0, 12179969768522.584, 12313997077616.014, 12447914645658.623, 12581705186759.812, 12715351603159.799, 12848836988233.793, 12982144629336.795, 13115258010491.111, 13248160814919.852, 13380836927429.023, 13513270436640.865, 13645445637081.746, 13777347031126.818, 13908959330804.79, 14040267459465.545, 14171256553313.496, 14301911962809.535, 14432219253944.463, 14562164209386.844, 14691732829508.248, 14820911333288.477, 14949686159104.066, 15078043965402.469, 15205971631265.09, 15333456256862.05, 15460485163800.982, 15587045895373.531, 15713126216701.309, 15838714114784.877, 15963797798458.17, 16088365698250.924, 16212406466162.062, 16335908975346.441, 16458862319717.7, 16581255813470.035, 16703078990520.572, 16824321603876.334, 16944973624926.652, 17065025242664.734, 17184466862840.324, 17303289107045.434, 17421482811736.61, 17539039027194.523, 17655949016424.76, 17772204254000.71, 17887796424851.52, 18002717422997.176, 18116959350232.47, 18230514514762.31, 18343375429790.35, 18455534812062.742, 18566985580369.344, 18677720854003.832, 18787733951184.883, 18897018387440.676, 19005567873957.355, 19113376315894.84, 19220437810670.08, 19326746646210.695, 19432297299179.996, 19537084433175.355, 19641102896901.145, 19744347722318.027, 19846814122770.375, 19948497491092.57, 20049393397696.07, 20149497588639.164, 20248805983679.36, 20347314674311.387, 20445019921790.76, 20541918155144.906, 20638005969173.082, 20733280122435.785, 20827737535235.164, 20921375287587.703, 21014190617189.84, 21106180917377.848, 21197343735083.234, 21287676768783.926, 21377177866453.062, 21465845023505.88, 21553676380745.35, 21640670222308.38, 21726824973612.14, 21812139199302.527, 21896611601204.74, 21980241016277.254, 22063026414569.59, 22144966897184.773, 22226061694247.28, 22306310162876.645, 22385711785168.223, 22464266166180.76, 22541973031932.1, 22618832227403.336, 22694843714551.734, 22770007570333.57, 22844323984736.53, 22917793258822.945, 22990415802784.066, 23062192134005.387, 23133122875144.33, 23203208752219.605, 23272450592713.863, 23340849323688.812, 23408405969913.945, 23475121652009.168, 23540997584600.99, 23606035074493.383, 23670235518853.254, 23733600403410.473, 23796131300673.55, 23857829868160.113, 23918697846643.496, 23978737058414.668, 24037949405560.62, 24096336868258.63, 24153901503086.88, 24210645441351.938, 24266570887432.375, 24321680117139.652, 24375975476095.69, 24429459378127.445, 24482134303678.883, 24534002798239.74, 24585067470791.957, 24635330992273.44, 24684796094059.066, 24733465566459.297, 24781342257236.434, 24828429070138.008, 24874728963448.457, 24920244948557.83, 24964980088548.105, 25008937496797.645, 25052120335602.66, 25094531814816.555, 25136175190507.06, 25177053763630.293, 25217170878723.117, 25256529922612.258, 25295134323141.438, 25332987547915.457, 25370093103061.918, 25406454532010.07, 25442075414286.855, 25476959364330.13, 25511110030318.938, 25544531093020.797, 25577226264655.87, 25609199287777.777, 25640453934171.438, 25670994003767.316, 25700823323572.22, 25729945746616.652, 25758365150918.176, 25786085438461.5, 25813110534194.02, 25839444385037.98, 25865090958917.957, 25890054243804.617, 25914338246773.473, 25937946993079.9, 25960884525248.875, 25983154902180.246, 26004762198269.195, 26025710502541.684, 26046003917804.45, 26065646559810.203, 26084642556437.11, 26102996046882.77, 26120711180872.547, 26137792117882.223, 26154243026374.445, 26170068083049.09, 26185271472107.76, 26199857384531.395, 26213830017371.652, 26227193573055.7, 26239952258703.805, 26252110285460.395, 26263671867837.902, 26274641223073.188, 26285022570496.863, 26294820130914.66, 26304038126001.727, 26312680777708.594, 26320752307679.375, 26328256936681.945, 26335198884049.53, 26341582367134.484, 26347411600772.9, 26352690796760.96, 26357424163342.34, 26361615904706.504, 26365270220498.15, 26368391305337.234, 26370983348349.67, 26373050532708.492, 26374597035185.133, 26375627025711.445, 26376144666951.1, 26376154113881.47, 26375659513384.867, 26374665003849.613, 26373174714780.812, 26371192766420.09, 26368723269374.777, 26365770324256.387, 26362338021327.582, 26358430440158.65, 26354051649292.082, 26349205705916.08, 26343896655546.4, 26338128531716.535, 26331905355676.367, 26325231136098.367, 26318109868792.195, 26310545536427.027, 26302542108261.547, 26294103539881.504, 26285233772944.92, 26275936734934.4, 26266216338916.97, 26256076483310.676, 26245521051658.605, 26234553912409.54, 26223178918705.402, 26211399908175.477, 26199220702737.05, 26186645108402.79, 26173676915094.066, 26160319896460.863, 26146577809707.574, 26132454395424.94, 26117953377427.93, 26103078462599.445, 26087833340739.586, 26072221684420.78, 26056247148848.223, 26039913371725.83, 26023223973127.594, 26006182555374.07, 25988792702913.89, 25971057982210.637, 25952981941634.312, 25934568111358.047, 25915820003259.152, 25896741110825.258, 25877334909064.684, 25857604854421.566, 25837554384695.527, 25817186918965.18, 25796505857516.418, 25775514581774.582, 25754216454240.805, 25732614818432.45, 25710712998827.297, 25688514300811.723, 25666022010632.586, 25643239395353.03, 25620169702811.543, 25596816161584.832, 25573181980954.207, 25549270350875.117, 25525084441950.484, 25500627405406.703, 25475902373073.418, 25450912457366.137, 25425660751271.76, 25400150328337.66, 25374384242663.14, 25348365528893.98, 25322097202219.96, 25295582258374.746, 25268823673638.926, 25241824404845.355, 25214587389387.125, 25187115545228.11, 25159411770915.96, 25131478945597.508, 25103319929036.47, 25074937561633.37, 25046334664447.97, 25017514039223.492, 24988478468413.26, 24959230715209.492, 24929773523573.676, 24900109618269.484, 24870241704897.168, 24840172469930.055, 24809904580752.934, 24779440685702.074, 24748783414106.973, 24717935376334.02, 24686899163831.562, 24655677349176.73, 24624272486123.816, 24592687109654.133, 24560923736027.258, 24528984862834.062, 24496872969050.723, 24464590515094.414, 24432139942880.12, 24399523675878.83, 24366744119177.035, 24333803659537.285, 24300704665460.094, 24267449487246.836, 24234040457063.82, 24200479889007.52, 24166770079170.625, 24132913305709.383, 24098911828911.613, 24064767891265.938, 24030483717531.715, 23996061514809.992, 23961503472615.246, 23926811762947.977, 23891988540367.94, 23857035942068.555, 23821956087951.484, 23786751080702.33, 23751423005867.0, 23715973931928.363, 23680405910384.066, 23644720975824.523, 23608921146011.668, 23573008421958.305, 23536984788007.83, 23500852211914.645, 23464612644924.95, 23428268021857.94, 23391820261187.707, 23355271265125.1, 23318622919700.562, 23281877094846.812, 23245035644482.258, 23208100406594.527, 23171073203324.402, 23133955841050.094, 23096750110471.727, 23059457786696.047, 23022080629321.52, 22984620382523.555, 22947078775139.867, 22909457520756.242, 22871758317792.29, 22833982849587.406, 22796132784486.89, 22758209775928.29, 22720215462527.65, 22682151468166.04, 22644019402076.06, 22605820858928.48, 22567557418918.965, 22529230647854.668, 22490842097241.16, 22452393304368.996, 22413885792400.652, 22375321070457.152, 22336700633704.957, 22298025963442.56, 22259298527187.184, 22220519778761.434, 22181691158379.793, 22142814092735.184, 22103889995085.28, 22064920265338.805, 22025906290141.75, 21986849442963.445, 21947751084182.547, 21908612561172.75, 21869435208388.52, 21830220347450.664, 21790969287231.566, 21751683323940.54, 21712363741208.69, 21673011810173.883, 21633628789565.22, 21594215925787.645, 21554774453006.137, 21515305593229.652, 21475810556394.996, 21436290540450.383, 21396746731438.812, 21357180303581.12, 21317592419358.824, 21277984229596.816, 21238356873545.613, 21198711478963.5, 21159049162198.37, 21119371028269.18, 21079678170947.348, 21039971672837.562, 21000252605458.69, 20960522029323.992, 20920780994021.344, 20881030538293.0, 20841271690115.082, 20801505466776.848, 20761732874959.45, 20721954910814.56, 20682172560042.688, 20642386797970.902, 20602598589630.6, 20562808889834.723, 20523018643254.62, 20483228784496.71, 20443440238178.637, 20403653919005.324, 20363870731844.402, 20324091571801.457, 20284317324294.99, 20244548865130.727, 20204787060576.023, 20165032767433.484, 20125286833114.457, 20085550095712.188, 20045823384074.434, 20006107517875.883, 19966403307690.152, 19926711555061.37, 19887033052575.492, 19847368583931.12, 19807718924010.12, 19768084838947.633, 19728467086201.992, 19688866414624.01, 19649283564525.98, 19609719267750.51, 19570174247738.58, 19530649219597.52, 19491144890168.543, 19451661958093.87, 19412201113883.46, 19372763039981.402, 19333348410831.918, 19293957892945.004, 19254592144961.535, 19215251817718.332, 19175937554312.457, 19136649990165.406, 19097389753086.754, 19058157463337.508, 19018953733693.098, 18979779169505.863, 18940634368767.336, 18901519922169.95, 18862436413168.53, 18823384418041.34, 18784364505950.676, 18745377239003.293, 18706423172310.16, 18667502854046.08, 18628616825508.844, 18589765621177.953, 18550949768773.105, 18512169789312.12, 18473426197168.664, 18434719500129.49, 18396050199451.316, 18357418789917.457, 18318825759893.848, 18280271591384.914, 18241756760088.977, 18203281735453.25, 18164846980728.613, 18126452953023.83, 18088100103359.55, 18049788876721.844, 18011519712115.492, 17973293042616.766, 17935109295425.953, 17896968891919.477, 17858872247701.676, 17820819772656.258, 17782811870997.246, 17744848941319.797, 17706931376650.484, 17669059564497.305, 17631233886899.336, 17593454720476.016, 17555722436476.041, 17518037400826.047, 17480399974178.77, 17442810511961.05, 17405269364421.252, 17367776876676.598, 17330333388760.0, 17292939235666.566, 17255594747399.889, 17218300249017.781, 17181056060677.914, 17143862497682.922, 17106719870525.32, 17069628484932.057, 17032588641908.613, 16995600637782.996, 16958664764249.186, 16921781308410.412, 16884950552822.096, 16848172775534.324, 16811448250134.188, 16774777245787.693, 16738160027281.432, 16701596855063.826, 16665087985286.17, 16628633669843.293, 16592234156413.96, 16555889688500.941, 16519600505470.744, 16483366842593.088, 16447188931080.076, 16411066998124.994, 16375001266940.918, 16338991956798.947, 16303039283066.16, 16267143457243.252, 16231304687001.938, 16195523176222.021, 16159799125028.17, 16124132729826.404, 16088524183340.34, 16052973674647.066, 16017481389212.842, 15982047508928.414, 15946672212144.096, 15911355673704.629, 15876098064983.602, 15840899553917.795, 15805760305041.121, 15770680479518.307, 15735660235178.36, 15700699726547.72, 15665799104883.156, 15630958518204.398, 15596178111326.498, 15561458025891.973, 15526798400402.584, 15492199370251.008, 15457661067752.1, 15423183622173.99, 15388767159768.936, 15354411803803.822, 15320117674590.584, 15285884889516.148, 15251713563072.383, 15217603806885.568, 15183555729745.795, 15149569437636.049, 15115645033761.04, 15081782618575.803, 15047982289814.115, 15014244142516.605, 14980568269058.639, 14946954759177.994, 14913403700002.377, 14879915176076.488, 14846489269389.104, 14813126059399.824, 14779825623065.564, 14746588034866.885, 14713413366834.074, 14680301688572.969, 14647253067290.664, 14614267567820.887, 14581345252649.271, 14548486181938.219, 14515690413551.865, 14482958003080.508, 14450289003865.016, 14417683467021.02, 14385141441462.785, 14352662973927.01, 14320248108996.332, 14287896889122.682, 14255609354650.422, 14223385543839.213, 14191225492886.875, 14159129235951.787, 14127096805175.361, 14095128230704.066, 14063223540711.484, 14031382761420.027, 13999605917122.527, 13967893030203.623, 13936244121160.957, 13904659208626.2, 13873138309385.867, 13841681438401.996, 13810288608832.564, 13778959832051.855, 13747695117670.46, 13716494473555.318, 13685357905849.398, 13654285418991.312, 13623277015734.717, 13592332697167.527, 13561452462731.025, 13530636310238.709] W m^-2 sr^−1 Hz^−1.\n",
      "The spectral radiance for the Sun at 200 nm is: 1457487617270.2979 while the radiance at 1000 nm is: 13530636310238.709 W m^-2 sr^−1 Hz^−1\n"
     ]
    }
   ],
   "source": [
    "# loop over wavelength list, calculate blackbody curve for each wavelength in nm\n",
    "wavelengths = list(range(200, 901, 1))\n",
    "# define a list to store black body values in\n",
    "radiances = []\n",
    "\n",
    "# Planck constant h in J*s\n",
    "h = 6.62607004e-34\n",
    "# speed of light c in m/s\n",
    "c = 299792458\n",
    "# Boltzmann constant k in J/K\n",
    "k = 1.38064852e-23\n",
    "# next, define a temperature variable for the Sun (in Kelvin)\n",
    "T = 5778\n",
    "\n",
    "for lam in wavelengths:\n",
    "  # convert each wavelength value to meters\n",
    "  lam = lam/(10**9)\n",
    "  # plug wavelength into Planck function\n",
    "  B = ((2 * h * c**2) / (lam)**5) * (1 / (2.7182818**(h * c / ((lam) * k * T)) - 1))\n",
    "  # append B to our radiance list\n",
    "  radiances.append(B)\n",
    "\n",
    "print(\"The spectral radiance for the Sun at wavelengths of 200-1000 nm is:\", radiances,\"W m^-2 sr^−1 Hz^−1.\")\n",
    "print(\"The spectral radiance for the Sun at 200 nm is:\", radiances[0],\"while the radiance at 1000 nm is:\", radiances[-1], \"W m^-2 sr^−1 Hz^−1\")"
   ]
  },
  {
   "cell_type": "markdown",
   "metadata": {
    "id": "JE0OqxJJ2RDI"
   },
   "source": [
    "## 4. Functions"
   ]
  },
  {
   "cell_type": "markdown",
   "metadata": {
    "id": "y6opsescmkhj"
   },
   "source": [
    "Often when programming, we need to perform the same task over and over again, but with different inputs each time. To make this easier and faster, we can define a `function`. We've already worked with a few built-in functions, like `print()` and `len()`, but we can also define our own using the built-in `def` and `return` keywords:"
   ]
  },
  {
   "cell_type": "code",
   "execution_count": 22,
   "metadata": {
    "colab": {
     "base_uri": "https://localhost:8080/"
    },
    "executionInfo": {
     "elapsed": 12,
     "status": "ok",
     "timestamp": 1727282849695,
     "user": {
      "displayName": "Brandon Radzom",
      "userId": "16267160605221472520"
     },
     "user_tz": 240
    },
    "id": "9_23qDazrmhh",
    "outputId": "86948f4c-d026-49a3-a9bf-cbb130954a45"
   },
   "outputs": [
    {
     "name": "stdout",
     "output_type": "stream",
     "text": [
      "[1, 2, 3, 4, 5]\n",
      "[1, 8, 27, 64, 125]\n"
     ]
    }
   ],
   "source": [
    "# define a function that cubes a number\n",
    "def cube(n):\n",
    "  return n**3\n",
    "\n",
    "nums = list(range(1, 6))\n",
    "cubed_nums = []\n",
    "for i in range(len(nums)):\n",
    "  result = cube(nums[i])\n",
    "  cubed_nums.append(result)\n",
    "\n",
    "print(nums)\n",
    "print(cubed_nums)"
   ]
  },
  {
   "cell_type": "markdown",
   "metadata": {
    "id": "zYLGBQ60nmLY"
   },
   "source": [
    "Python functions can perform more complicated tasks than simple mathematical functions, too! Let's say we want to separate all the odd and even numbers from a list of integers into two distinct lists. We can use the modulus operator (`%`) in Python, which returns the remainder after dividing by a number, to do this, and design our function return multiple objects like so:"
   ]
  },
  {
   "cell_type": "code",
   "execution_count": 23,
   "metadata": {
    "colab": {
     "base_uri": "https://localhost:8080/"
    },
    "executionInfo": {
     "elapsed": 8,
     "status": "ok",
     "timestamp": 1727282849695,
     "user": {
      "displayName": "Brandon Radzom",
      "userId": "16267160605221472520"
     },
     "user_tz": 240
    },
    "id": "X45A4Pftn0Ap",
    "outputId": "825ec072-f5ce-4a64-ae19-e9336683c80d"
   },
   "outputs": [
    {
     "name": "stdout",
     "output_type": "stream",
     "text": [
      "[62, 24, 390, 500, 462]\n",
      "[3, 91, 77, 201]\n"
     ]
    }
   ],
   "source": [
    "# Split a list of integers into a list of even integers and a list of odd integers\n",
    "def split_even_odd(lst):\n",
    "  # Create empty lists to store the even and odd integers\n",
    "  even = []\n",
    "  odd = []\n",
    "  # Loop through every number in the input list\n",
    "  for num in lst:\n",
    "    # If a given number is even, append it to the \"even\" list\n",
    "    if num % 2 == 0:\n",
    "      even.append(num)\n",
    "    # If it's odd instead, append the number to the \"odd\" list\n",
    "    elif num % 2 != 0:\n",
    "      odd.append(num)\n",
    "  # Return both new lists\n",
    "  return even, odd\n",
    "\n",
    "even_odd = [62, 3, 91, 24, 77, 390, 500, 201, 462]\n",
    "even, odd = split_even_odd(even_odd)\n",
    "print(even)\n",
    "print(odd)"
   ]
  },
  {
   "cell_type": "markdown",
   "metadata": {
    "id": "wg26tN6hr_So"
   },
   "source": [
    "Now that we know how to define our own functions, we can define the Planck function that we worked with at the end of Section 1 as a Python function, allowing us to call it repeatedly for different wavelengths and temperatures."
   ]
  },
  {
   "cell_type": "code",
   "execution_count": 24,
   "metadata": {
    "id": "H7021wif2b6c"
   },
   "outputs": [],
   "source": [
    "def Planck(lam, T):\n",
    "  # lam is a wavelength in nanometers\n",
    "  # T is a temperature in Kelvin\n",
    "\n",
    "  # These are the same physical constants we defined earlier, just repeated here as a reminder\n",
    "  h = 6.62607004e-34 # Planck constant h in J*s\n",
    "  c = 299792458 # speed of light c in m/s\n",
    "  k = 1.38064852e-23 # Boltzmann constant k in J/K\n",
    "\n",
    "  # Convert wavelength to meters\n",
    "  lam = lam/1e9\n",
    "  B = ((2 * h * c**2) / lam**5) * (1 / (2.7182818**(h * c / (lam * k * T)) - 1))\n",
    "  # return value of Planck function\n",
    "  return B\n",
    "\n",
    "# Define a range of wavelengths we want to sample and three stellar temperatures to test\n",
    "# wavelengths = list(range(380, 701))\n",
    "wavelengths = list(range(200, 901))\n",
    "temps = [5778, 8000, 12000] # G-type, F-type, B-type\n",
    "\n",
    "# Compute spectral radiance at each combination of temperature and wavelength\n",
    "radiances = [[], [], []]\n",
    "for i in range(len(temps)):\n",
    "  for wavelength in wavelengths:\n",
    "    radiance = Planck(wavelength, temps[i])\n",
    "    radiances[i].append(radiance)\n",
    "\n",
    "# define intuitive variables for each radiance list (a surprise tool for later)\n",
    "radiance_sun = radiances[0]\n",
    "radiance_fstar = radiances[1]\n",
    "radiance_bstar = radiances[2]"
   ]
  },
  {
   "cell_type": "markdown",
   "metadata": {
    "id": "WSuqcIhUp78y"
   },
   "source": [
    "We now have blackbody curves for 3 different temperatures (corresponding to 3 diffferent stellar types) across a range of wavelengths from the infrared to the ultraviolet. We are ready to plot our models!"
   ]
  },
  {
   "cell_type": "markdown",
   "metadata": {},
   "source": [
    "#### For more on lists, loops, and functions, as well as more advanced ways of working with data, check out the **Data Handling & Fitting**  and **Data Analysis** stations."
   ]
  },
  {
   "cell_type": "markdown",
   "metadata": {
    "id": "A6WkDlMg2pLv"
   },
   "source": [
    "## 5. Plotting"
   ]
  },
  {
   "cell_type": "markdown",
   "metadata": {
    "id": "QJZiQNNirZMy"
   },
   "source": [
    "Data visualization (i.e. plotting) is one of the most important aspects of coding, as it is perhaps the most effective way to communicate complex ideas/science. In this section, we will **plot** our blackbody curves and compare them by eye with real data.\n",
    "\n",
    "First, we will need to `import` the Python package used for plotting data: `matplotlib`. If you are interested in learning more about Matplotlib beyond this tutorial, you can go to https://matplotlib.org/stable/gallery/index"
   ]
  },
  {
   "cell_type": "code",
   "execution_count": 25,
   "metadata": {
    "id": "6HRvFs_A2qq1"
   },
   "outputs": [],
   "source": [
    "import matplotlib\n",
    "import matplotlib.pyplot as plt\n"
   ]
  },
  {
   "cell_type": "markdown",
   "metadata": {
    "id": "CdQzWcjKsLEp"
   },
   "source": [
    "There are two main plotting classes in Matplotlib: `Pyplot` and `Axes`. They both have their own pros and cons. `Pyplot` is sufficient for simple plotting task while `Axes` is better for more advanced plotting (e.g., using subplots, color bars, etc.). For this tutorial, we will use the `pyplot` class. If you are interested in learning more about `axes` you can go to https://matplotlib.org/stable/api/axes_api.html#the-axes-class, or come to the Advanced Python Workshop on October 22!\n",
    "\n",
    "When making plots, it is best practice to include the following in your plots: (1) axis labels, (2) plot title, (3) legends (especially when working with multiple data sets).\n",
    "\n",
    "![plot_outline.png](data:image/png;base64,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)"
   ]
  },
  {
   "cell_type": "markdown",
   "metadata": {
    "id": "JpizIDBzCCPT"
   },
   "source": [
    "There are different types of functions for different types of plotting. For example, when plotting discrete data points (e.g., a scatter plot), you would use `plt.scatter()`. In this case, we want to replicate the Planck curves shown at the beginning of the module, so we will use the `plt.plot` function which draws a line from point to point.\n",
    "\n",
    "Within the plot function, we can specify certain parameters using arguments. The main parameters you want to set everytime are:\n",
    "\n",
    "\n",
    "*   Color\n",
    "*   Line Width\n",
    "*   Line Style\n",
    "*   Label\n",
    "\n",
    "The color, line width, and line style have to do with aesthetic of the plot (which is just as important as the data in the plot!). However, the label will set what information is relayed in the legend."
   ]
  },
  {
   "cell_type": "code",
   "execution_count": 26,
   "metadata": {
    "colab": {
     "base_uri": "https://localhost:8080/",
     "height": 586
    },
    "executionInfo": {
     "elapsed": 839,
     "status": "ok",
     "timestamp": 1727282850529,
     "user": {
      "displayName": "Brandon Radzom",
      "userId": "16267160605221472520"
     },
     "user_tz": 240
    },
    "id": "9pxFw0WWsLaA",
    "outputId": "34b2cedd-5c65-4cd6-8012-eb147311ab34"
   },
   "outputs": [
    {
     "data": {
      "text/plain": [
       "<matplotlib.legend.Legend at 0x7f7c1cb96f50>"
      ]
     },
     "execution_count": 26,
     "metadata": {},
     "output_type": "execute_result"
    },
    {
     "data": {
      "image/png": "[encoded data removed]",
      "text/plain": [
       "<Figure size 576x432 with 1 Axes>"
      ]
     },
     "metadata": {
      "needs_background": "light"
     },
     "output_type": "display_data"
    }
   ],
   "source": [
    "## Define the figure and set the width and height\n",
    "fig = plt.figure(figsize = (8,6))\n",
    "\n",
    "## Plot the 3 blackbody curves and set those key parameters\n",
    "# plotting argument order is always (x, y)\n",
    "plt.plot(wavelengths,radiances[0],color = 'orange', linewidth = 3, linestyle = 'dotted', label=\"T = 5778 K (G-type)\")\n",
    "plt.plot(wavelengths,radiances[1],color = 'green', linewidth = 3, linestyle = 'dashed', label=\"T = 8000 K (F-type)\")\n",
    "plt.plot(wavelengths,radiances[2],color = 'red', linewidth = 3, linestyle = 'dashdot', label=\"T = 12000 K (B-type)\")\n",
    "\n",
    "## set the x axis label (wavelength in nm)\n",
    "plt.xlabel(\"Wavelength (nm)\",fontsize = 13)\n",
    "\n",
    "## set the y axis label (radiance in W m$^{-2}$ sr$^{−1}$ Hz$^{−1}$)\n",
    "plt.ylabel(\"Radiance (W m$^{-2}$ sr$^{−1}$ Hz$^{−1}$)\",fontsize = 13)\n",
    "\n",
    "## set the plot title\n",
    "plt.title(\"Blackbody Radiation Curves\",fontsize = 14)\n",
    "\n",
    "## set the legend\n",
    "plt.legend(loc = \"upper right\",fontsize=12)\n"
   ]
  },
  {
   "cell_type": "markdown",
   "metadata": {
    "id": "aTuy8-VvFr_y"
   },
   "source": [
    "Now that we have seen the basics of plotting, we can plot real data to put the blackbody curves in context! Usually when you are working with real data (e.g., for classwork, research, etc.), you will have to read in that data from an external file. There are several ways to do this depending on the nature of your data file and what you need to do in your code. However, for our purposes, we will only use the `loadtxt` function that is built in with the Python package `numpy`, which is a standard scientific package that we will cover in great detail during the Advanced Python Workshop.\n"
   ]
  },
  {
   "cell_type": "code",
   "execution_count": 31,
   "metadata": {
    "colab": {
     "base_uri": "https://localhost:8080/"
    },
    "executionInfo": {
     "elapsed": 4303,
     "status": "ok",
     "timestamp": 1727282854826,
     "user": {
      "displayName": "Brandon Radzom",
      "userId": "16267160605221472520"
     },
     "user_tz": 240
    },
    "id": "KyG4CfqH21qs",
    "outputId": "fa03c68f-585e-4242-9f27-43e63bad5770"
   },
   "outputs": [
    {
     "name": "stdout",
     "output_type": "stream",
     "text": [
      "2799 [351.14 351.28 351.42 ... 742.58 742.72 742.86]\n",
      "2799 [1.95e-12 1.96e-12 1.95e-12 ... 9.21e-13 9.16e-13 9.12e-13]\n"
     ]
    }
   ],
   "source": [
    "## read in a real stellar spectrum data\n",
    "\n",
    "# Make sure star_readin.csv is saved in the same location as this notebook\n",
    "\n",
    "import numpy as np\n",
    "data = np.loadtxt('star_readin.csv',delimiter=',',skiprows=1)\n",
    "\n",
    "## save the data in arrays\n",
    "star_wavelengths = data[:,0]/10 # convert star wavelengths to nm\n",
    "star_radiance = data[:,1]\n",
    "\n",
    "## check that the data makes sense\n",
    "print(len(star_wavelengths),star_wavelengths)\n",
    "print(len(star_radiance),star_radiance)"
   ]
  },
  {
   "cell_type": "markdown",
   "metadata": {
    "id": "G4uurypbWfRG"
   },
   "source": [
    "Now we can plot the stellar spectrum!"
   ]
  },
  {
   "cell_type": "code",
   "execution_count": 32,
   "metadata": {
    "colab": {
     "base_uri": "https://localhost:8080/",
     "height": 586
    },
    "executionInfo": {
     "elapsed": 863,
     "status": "ok",
     "timestamp": 1727282855685,
     "user": {
      "displayName": "Brandon Radzom",
      "userId": "16267160605221472520"
     },
     "user_tz": 240
    },
    "id": "gQIm6L06Wen2",
    "outputId": "e73cdb88-8270-43d5-8013-d8ea38524f41"
   },
   "outputs": [
    {
     "data": {
      "text/plain": [
       "<matplotlib.legend.Legend at 0x7f7c1c3b9a50>"
      ]
     },
     "execution_count": 32,
     "metadata": {},
     "output_type": "execute_result"
    },
    {
     "data": {
      "image/png": "[encoded data removed]",
      "text/plain": [
       "<Figure size 576x432 with 1 Axes>"
      ]
     },
     "metadata": {
      "needs_background": "light"
     },
     "output_type": "display_data"
    }
   ],
   "source": [
    "## Define the figure and set the width and height\n",
    "fig = plt.figure(figsize = (8,6))\n",
    "\n",
    "## Plot the stellar spectrum and set those key parameters\n",
    "plt.plot(star_wavelengths,star_radiance ,color = 'black', linewidth = 1.5, linestyle = 'solid',label = \"Stellar Spectrum\" )\n",
    "\n",
    "## set plot axis labels, titles, and legend\n",
    "plt.xlabel(\"Wavelength (nm)\",fontsize = 13)\n",
    "plt.ylabel(\"Radiance (arbitrary units)\",fontsize = 13)\n",
    "plt.title(\"Real Blackbody Radiation Curve (Jacoby 1984)\",fontsize = 14)\n",
    "plt.legend(loc = \"upper right\",fontsize=12)"
   ]
  },
  {
   "cell_type": "markdown",
   "metadata": {
    "id": "s0l59GmkVWWx"
   },
   "source": [
    "In order to more easily compare our Planck models with the stellar spectra, we need to do some extra data manipulation. We need scale the Planck curves to the star's flux at some wavelength. Let's choose 550 nm (green), since we investigated the Sun's radiance at this wavelength earlier in this notebook."
   ]
  },
  {
   "cell_type": "code",
   "execution_count": 33,
   "metadata": {
    "colab": {
     "base_uri": "https://localhost:8080/"
    },
    "executionInfo": {
     "elapsed": 20,
     "status": "ok",
     "timestamp": 1727282855686,
     "user": {
      "displayName": "Brandon Radzom",
      "userId": "16267160605221472520"
     },
     "user_tz": 240
    },
    "id": "9N6EL1PINjq1",
    "outputId": "33780d87-4cce-43fa-9bbb-8d4a469dd21f"
   },
   "outputs": [
    {
     "name": "stdout",
     "output_type": "stream",
     "text": [
      "550.08\n"
     ]
    }
   ],
   "source": [
    "## save the flux of the star at 550 nm (magic)\n",
    "print(star_wavelengths[1421])\n",
    "flux_reference = star_radiance[1421]\n",
    "\n",
    "## re-scale the planck curves and save them in a new array called 'radiances_rescaled'\n",
    "radiances_rescaled = []\n",
    "for temp in range(len(radiances)):\n",
    "  ## grab the planck model result at 550 nm\n",
    "  radiance_scale = radiances[temp][350]\n",
    "\n",
    "  ## compute the factor by which to scale the Planck curves\n",
    "  scale_factor = flux_reference/radiance_scale\n",
    "  radiances_rescaled.append([])\n",
    "\n",
    "  ## re-scale the Planck curves at each wavelength\n",
    "  for lam in range(len(radiances[temp])):\n",
    "    radiances_rescaled[temp].append(radiances[temp][lam]*scale_factor)\n",
    "\n",
    "# define intuitive variables for each re-scaled radiance list\n",
    "radiance_sun = radiances_rescaled[0]\n",
    "radiance_fstar = radiances_rescaled[1]\n",
    "radiance_bstar = radiances_rescaled[2]"
   ]
  },
  {
   "cell_type": "markdown",
   "metadata": {
    "id": "4kCEyOvIXkd5"
   },
   "source": [
    "Now we can put everything together by plotting our re-scaled blackbody curves against the real stellar spectrum:"
   ]
  },
  {
   "cell_type": "code",
   "execution_count": 34,
   "metadata": {
    "colab": {
     "base_uri": "https://localhost:8080/",
     "height": 586
    },
    "executionInfo": {
     "elapsed": 1589,
     "status": "ok",
     "timestamp": 1727282857259,
     "user": {
      "displayName": "Brandon Radzom",
      "userId": "16267160605221472520"
     },
     "user_tz": 240
    },
    "id": "hjOlHDhjXiYQ",
    "outputId": "c5375f55-b38a-4a9b-ac1c-84738268d9c1"
   },
   "outputs": [
    {
     "data": {
      "text/plain": [
       "<matplotlib.legend.Legend at 0x7f7c1d2f11d0>"
      ]
     },
     "execution_count": 34,
     "metadata": {},
     "output_type": "execute_result"
    },
    {
     "data": {
      "image/png": "[encoded data removed]",
      "text/plain": [
       "<Figure size 576x432 with 1 Axes>"
      ]
     },
     "metadata": {
      "needs_background": "light"
     },
     "output_type": "display_data"
    }
   ],
   "source": [
    "## Define the figure and set the width and height\n",
    "fig = plt.figure(figsize = (8,6))\n",
    "\n",
    "## Plot the real stellar spectrum\n",
    "plt.plot(star_wavelengths,star_radiance,color = 'black', linewidth = 1.5, linestyle = 'solid',label = \"Stellar Spectrum\" )\n",
    "## Plot the blackbody curves\n",
    "plt.plot(wavelengths,radiances_rescaled[0],color = 'orange', linewidth = 3, linestyle = 'dotted', label=\"T = 5778 K (G-type)\")\n",
    "plt.plot(wavelengths,radiances_rescaled[1],color = 'green', linewidth = 3, linestyle = 'dashed', label=\"T = 8000 K (F-type)\")\n",
    "plt.plot(wavelengths,radiances_rescaled[2],color = 'red', linewidth = 3, linestyle = 'dashdot', label=\"T = 12000 K (B-type)\")\n",
    "\n",
    "## set plot axis labels, titles, and legend\n",
    "plt.xlabel(\"Wavelength (nm)\",fontsize = 13)\n",
    "plt.ylabel(\"Radiance (arbitrary units)\",fontsize = 13)\n",
    "plt.title(\"Blackbody Radiation Curves\",fontsize = 14)\n",
    "plt.legend(loc = \"upper right\",fontsize=12)"
   ]
  },
  {
   "cell_type": "markdown",
   "metadata": {
    "id": "gfwv4SU6YFvl"
   },
   "source": [
    "Setting appropriate axis limits is sometimes essential to help your audience focus on the most relevant data and improve the clarity of your presentation. This can be done with the built-in `xlim` and `ylim` functions. In this case, we want to zoom in on the region where the data actually exist. We will also save our final plot using the built-in `savefig` function."
   ]
  },
  {
   "cell_type": "code",
   "execution_count": 35,
   "metadata": {
    "colab": {
     "base_uri": "https://localhost:8080/",
     "height": 569
    },
    "executionInfo": {
     "elapsed": 1866,
     "status": "ok",
     "timestamp": 1727282859120,
     "user": {
      "displayName": "Brandon Radzom",
      "userId": "16267160605221472520"
     },
     "user_tz": 240
    },
    "id": "2LHzOdEb25--",
    "outputId": "8259b5e0-bdf1-4476-8180-b88e00e9832b"
   },
   "outputs": [
    {
     "data": {
      "image/png": "[encoded data removed]",
      "text/plain": [
       "<Figure size 576x432 with 1 Axes>"
      ]
     },
     "metadata": {
      "needs_background": "light"
     },
     "output_type": "display_data"
    }
   ],
   "source": [
    "## Define the figure and set the width and height\n",
    "fig = plt.figure(figsize = (8,6))\n",
    "\n",
    "## Plot the blackbody curve and set those key parameters\n",
    "plt.plot(star_wavelengths,star_radiance,color = 'black', linewidth = 1.5, linestyle = 'solid',label = \"Stellar Spectrum\" )\n",
    "plt.plot(wavelengths,radiances_rescaled[0],color = 'orange', linewidth = 3, linestyle = 'dotted', label=\"T = 5778 K (G-type)\")\n",
    "plt.plot(wavelengths,radiances_rescaled[1],color = 'green', linewidth = 3, linestyle = 'dashed', label=\"T = 8000 K (F-type)\")\n",
    "plt.plot(wavelengths,radiances_rescaled[2],color = 'red', linewidth = 3, linestyle = 'dashdot', label=\"T = 12000 K (B-type)\")\n",
    "\n",
    "## set plot axis labels, titles, and legend\n",
    "plt.xlabel(\"Wavelength (nm)\",fontsize = 13)\n",
    "plt.ylabel(\"Radiance (arbitrary units)\",fontsize = 13)\n",
    "plt.title(\"Blackbody Radiation Curves\",fontsize = 14)\n",
    "plt.legend(loc = \"upper right\",fontsize=12)\n",
    "\n",
    "## set axis limits\n",
    "# x-axis from 300 - 750 nm\n",
    "plt.xlim(300, 750)\n",
    "# y-axis from 0.5e-12 to 4e-12\n",
    "plt.ylim(0.5e-12, 4e-12)\n",
    "\n",
    "## save figure using plt.savefig()\n",
    "plt.savefig(\"final_blackbody_comparison.png\")"
   ]
  },
  {
   "cell_type": "markdown",
   "metadata": {},
   "source": [
    "#### For more on how to customize your plots and take your data visualization to the next level, check out the **Advanced Plotting** station!"
   ]
  },
  {
   "cell_type": "markdown",
   "metadata": {
    "id": "pgB_9UMCbS7i"
   },
   "source": [
    "Based on the plot above, what is the stellar type of this star: G-type, F-type, or B-type?\n",
    "\n",
    "Bonus: What are some reasons the star isn't appearing as a perfect blackbody? What are the small wiggles and large drops caused by?\n",
    "\n",
    "You can answer these questions in the cell by using a `#` in front of your text. This makes the text appear as comments!"
   ]
  },
  {
   "cell_type": "code",
   "execution_count": null,
   "metadata": {
    "id": "HKjvfila3AC8"
   },
   "outputs": [],
   "source": [
    "## What is the stellar type of the star plotted above?\n",
    "# Answer:\n",
    "\n",
    "## Why does the real data deviate from the blackbody models?\n",
    "# Answer:"
   ]
  },
  {
   "cell_type": "markdown",
   "metadata": {},
   "source": [
    "#### Congratulations, you have now learned the basics of Python by working through a real astronomy problem! For more real world examples, check out the **Applied Problem Solving with Python** station."
   ]
  },
  {
   "cell_type": "code",
   "execution_count": null,
   "metadata": {},
   "outputs": [],
   "source": []
  }
 ],
 "metadata": {
  "colab": {
   "provenance": []
  },
  "kernelspec": {
   "display_name": "Python 3",
   "language": "python",
   "name": "python3"
  },
  "language_info": {
   "codemirror_mode": {
    "name": "ipython",
    "version": 3
   },
   "file_extension": ".py",
   "mimetype": "text/x-python",
   "name": "python",
   "nbconvert_exporter": "python",
   "pygments_lexer": "ipython3",
   "version": "3.7.7"
  }
 },
 "nbformat": 4,
 "nbformat_minor": 4
}
