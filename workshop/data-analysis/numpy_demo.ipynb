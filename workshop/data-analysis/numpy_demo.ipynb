{
 "cells": [
  {
   "cell_type": "markdown",
   "id": "2c1bcecb-1fb9-4b0d-89a4-7e78e839c316",
   "metadata": {},
   "source": [
    "# NumPy Demo\n",
    "## PyIU Advanced Python Workshop\n",
    "\n",
    "Author: \n",
    "\n",
    "Last modified: 4/17/2025\n",
    "\n",
    "This notebook covers some of the basic mechanics of working with numpy arrays."
   ]
  },
  {
   "cell_type": "code",
   "execution_count": 1,
   "id": "1QXmC-IQLViy",
   "metadata": {
    "executionInfo": {
     "elapsed": 8,
     "status": "ok",
     "timestamp": 1708990263763,
     "user": {
      "displayName": "Ethan White",
      "userId": "11064218996457242257"
     },
     "user_tz": 300
    },
    "id": "1QXmC-IQLViy"
   },
   "outputs": [],
   "source": [
    "import numpy as np"
   ]
  },
  {
   "cell_type": "code",
   "execution_count": 2,
   "id": "yViPS_I5LViy",
   "metadata": {
    "executionInfo": {
     "elapsed": 167,
     "status": "ok",
     "timestamp": 1708990263925,
     "user": {
      "displayName": "Ethan White",
      "userId": "11064218996457242257"
     },
     "user_tz": 300
    },
    "id": "yViPS_I5LViy"
   },
   "outputs": [],
   "source": [
    "test_list = [1, 2, 3, 4]"
   ]
  },
  {
   "cell_type": "markdown",
   "id": "LV2gOVNmLViz",
   "metadata": {
    "id": "LV2gOVNmLViz"
   },
   "source": [
    "Often in research, you want to do the same operations on many data points at one time. A common way to store these data would be in a list.\n",
    "\n",
    "If you wanted to multiply all the values in the list, however, it wouldn't work. Multiplying a list will just repeat the list a number of times."
   ]
  },
  {
   "cell_type": "code",
   "execution_count": 3,
   "id": "e9pPJF5dLViz",
   "metadata": {
    "colab": {
     "base_uri": "https://localhost:8080/"
    },
    "executionInfo": {
     "elapsed": 16,
     "status": "ok",
     "timestamp": 1708990263926,
     "user": {
      "displayName": "Ethan White",
      "userId": "11064218996457242257"
     },
     "user_tz": 300
    },
    "id": "e9pPJF5dLViz",
    "outputId": "e67e5a59-a41b-4459-8889-3108c39525bc"
   },
   "outputs": [
    {
     "name": "stdout",
     "output_type": "stream",
     "text": [
      "[1, 2, 3, 4]\n",
      "[1, 2, 3, 4, 1, 2, 3, 4]\n"
     ]
    }
   ],
   "source": [
    "print(test_list)\n",
    "print(test_list * 2)"
   ]
  },
  {
   "cell_type": "markdown",
   "id": "jdVYRqq8LViz",
   "metadata": {
    "id": "jdVYRqq8LViz"
   },
   "source": [
    "This is where arrays come in. There are many advantages to using numpy arrays instead of lists. We will start with math operations.\n",
    "\n",
    "One way to create an array is to turn a list into an array."
   ]
  },
  {
   "cell_type": "code",
   "execution_count": 4,
   "id": "71HiGLsGLVi0",
   "metadata": {
    "colab": {
     "base_uri": "https://localhost:8080/"
    },
    "executionInfo": {
     "elapsed": 6,
     "status": "ok",
     "timestamp": 1708990263926,
     "user": {
      "displayName": "Ethan White",
      "userId": "11064218996457242257"
     },
     "user_tz": 300
    },
    "id": "71HiGLsGLVi0",
    "outputId": "a6392491-0f4a-443e-90cb-45a2d4cd7d44"
   },
   "outputs": [
    {
     "name": "stdout",
     "output_type": "stream",
     "text": [
      "[1 2 3 4]\n",
      "[2 4 6 8]\n"
     ]
    }
   ],
   "source": [
    "list2array = np.asarray(test_list)\n",
    "print(list2array)\n",
    "print(list2array * 2)"
   ]
  },
  {
   "cell_type": "markdown",
   "id": "jSB35VyqLVi0",
   "metadata": {
    "id": "jSB35VyqLVi0"
   },
   "source": [
    "We can also create an array of random values."
   ]
  },
  {
   "cell_type": "code",
   "execution_count": 5,
   "id": "qT3KV0-zLVi0",
   "metadata": {
    "colab": {
     "base_uri": "https://localhost:8080/"
    },
    "executionInfo": {
     "elapsed": 229,
     "status": "ok",
     "timestamp": 1708990264152,
     "user": {
      "displayName": "Ethan White",
      "userId": "11064218996457242257"
     },
     "user_tz": 300
    },
    "id": "qT3KV0-zLVi0",
    "outputId": "8825af38-22dc-4fba-9543-689901ffa3c5"
   },
   "outputs": [
    {
     "name": "stdout",
     "output_type": "stream",
     "text": [
      "[[0.29074501 0.99591824 0.6744953  0.62230744]]\n"
     ]
    }
   ],
   "source": [
    "random_array = np.random.rand(1, 4)\n",
    "print(random_array)"
   ]
  },
  {
   "cell_type": "code",
   "execution_count": 6,
   "id": "hRdO1WslLVi0",
   "metadata": {
    "colab": {
     "base_uri": "https://localhost:8080/"
    },
    "executionInfo": {
     "elapsed": 8,
     "status": "ok",
     "timestamp": 1708990264154,
     "user": {
      "displayName": "Ethan White",
      "userId": "11064218996457242257"
     },
     "user_tz": 300
    },
    "id": "hRdO1WslLVi0",
    "outputId": "bb736139-5f02-486a-d9f5-b93575d727ff"
   },
   "outputs": [
    {
     "name": "stdout",
     "output_type": "stream",
     "text": [
      "[0 2 0 0]\n"
     ]
    }
   ],
   "source": [
    "rand_arr2 = np.random.randint(0,3,4)\n",
    "print(rand_arr2)"
   ]
  },
  {
   "cell_type": "markdown",
   "id": "bC6hJjv4LVi2",
   "metadata": {
    "id": "bC6hJjv4LVi2"
   },
   "source": [
    "np.randint goes from the lower value to one before the higher value. Using the example given above, you can get values from 0 (the lower value) to 2 (one before the higher value, 3). This is a bit confusing, but it is consistent with how python uses indices. Python is a 0-indexed language."
   ]
  },
  {
   "cell_type": "code",
   "execution_count": 7,
   "id": "-nApZAh-LVi2",
   "metadata": {
    "colab": {
     "base_uri": "https://localhost:8080/"
    },
    "executionInfo": {
     "elapsed": 6,
     "status": "ok",
     "timestamp": 1708990264154,
     "user": {
      "displayName": "Ethan White",
      "userId": "11064218996457242257"
     },
     "user_tz": 300
    },
    "id": "-nApZAh-LVi2",
    "outputId": "b626764e-67be-4fcb-f041-fe686fcf0be4"
   },
   "outputs": [
    {
     "name": "stdout",
     "output_type": "stream",
     "text": [
      "[1 2 3 4]\n",
      "1\n",
      "2\n",
      "3\n",
      "4\n"
     ]
    }
   ],
   "source": [
    "print(list2array)\n",
    "print(list2array[0])\n",
    "print(list2array[1])\n",
    "print(list2array[2])\n",
    "print(list2array[3])"
   ]
  },
  {
   "cell_type": "code",
   "execution_count": 8,
   "id": "HIe6Umt5LVi2",
   "metadata": {
    "executionInfo": {
     "elapsed": 173,
     "status": "ok",
     "timestamp": 1708990264324,
     "user": {
      "displayName": "Ethan White",
      "userId": "11064218996457242257"
     },
     "user_tz": 300
    },
    "id": "HIe6Umt5LVi2"
   },
   "outputs": [],
   "source": [
    "#print(list2array[4])"
   ]
  },
  {
   "cell_type": "code",
   "execution_count": 9,
   "id": "iYKk9aPsLVi2",
   "metadata": {
    "colab": {
     "base_uri": "https://localhost:8080/"
    },
    "executionInfo": {
     "elapsed": 20,
     "status": "ok",
     "timestamp": 1708990264325,
     "user": {
      "displayName": "Ethan White",
      "userId": "11064218996457242257"
     },
     "user_tz": 300
    },
    "id": "iYKk9aPsLVi2",
    "outputId": "8bccf186-bc08-456a-fce9-1209c788483f"
   },
   "outputs": [
    {
     "name": "stdout",
     "output_type": "stream",
     "text": [
      "[1 2]\n",
      "[1 2]\n"
     ]
    }
   ],
   "source": [
    "print(list2array[0:2])\n",
    "print(list2array[:2])"
   ]
  },
  {
   "cell_type": "markdown",
   "id": "Yt4E-Y9tLVi2",
   "metadata": {
    "id": "Yt4E-Y9tLVi2"
   },
   "source": [
    "Even though 4 is not an index of the array, it reads it as a higher bound. Like np.random.randint, it considers the integer before the input number. So even though it doesn't make a lot of sense, there is an internal logic to it.\n",
    "\n",
    "You can also just say to take from a value to the end by using a \":\" with no number after."
   ]
  },
  {
   "cell_type": "code",
   "execution_count": 10,
   "id": "tbEAcUYpLVi3",
   "metadata": {
    "colab": {
     "base_uri": "https://localhost:8080/"
    },
    "executionInfo": {
     "elapsed": 18,
     "status": "ok",
     "timestamp": 1708990264325,
     "user": {
      "displayName": "Ethan White",
      "userId": "11064218996457242257"
     },
     "user_tz": 300
    },
    "id": "tbEAcUYpLVi3",
    "outputId": "677b1815-9465-4ff8-8696-c75e794a482c"
   },
   "outputs": [
    {
     "name": "stdout",
     "output_type": "stream",
     "text": [
      "[3 4]\n",
      "[3 4]\n"
     ]
    }
   ],
   "source": [
    "print(list2array[2:4])\n",
    "print(list2array[2:])"
   ]
  },
  {
   "cell_type": "code",
   "execution_count": 11,
   "id": "ms8kh5JKLVi3",
   "metadata": {
    "colab": {
     "base_uri": "https://localhost:8080/"
    },
    "executionInfo": {
     "elapsed": 14,
     "status": "ok",
     "timestamp": 1708990264326,
     "user": {
      "displayName": "Ethan White",
      "userId": "11064218996457242257"
     },
     "user_tz": 300
    },
    "id": "ms8kh5JKLVi3",
    "outputId": "bba09ba0-2f6d-4c07-dd05-101292879243"
   },
   "outputs": [
    {
     "name": "stdout",
     "output_type": "stream",
     "text": [
      "[2 3]\n"
     ]
    }
   ],
   "source": [
    "print(list2array[1:3])"
   ]
  },
  {
   "cell_type": "markdown",
   "id": "jbISXFPTLVi3",
   "metadata": {
    "id": "jbISXFPTLVi3"
   },
   "source": [
    "Let's say you were curious what the final value in the array was. Maybe you are looking at distances to stars and you want to know what the last one recorded was.\n",
    "\n",
    "You can use negative indices to look at the ends of arrays."
   ]
  },
  {
   "cell_type": "code",
   "execution_count": 12,
   "id": "cTK8oaE4LVi3",
   "metadata": {
    "colab": {
     "base_uri": "https://localhost:8080/"
    },
    "executionInfo": {
     "elapsed": 13,
     "status": "ok",
     "timestamp": 1708990264327,
     "user": {
      "displayName": "Ethan White",
      "userId": "11064218996457242257"
     },
     "user_tz": 300
    },
    "id": "cTK8oaE4LVi3",
    "outputId": "fe122741-ee84-4d34-f0ab-fc3cc554ba7c"
   },
   "outputs": [
    {
     "name": "stdout",
     "output_type": "stream",
     "text": [
      "4\n"
     ]
    }
   ],
   "source": [
    "print(list2array[-1])"
   ]
  },
  {
   "cell_type": "markdown",
   "id": "-wCRrV1KLVi3",
   "metadata": {
    "id": "-wCRrV1KLVi3"
   },
   "source": [
    "Similarly, you can use negative indices to look at chunks (slices) of the arrays. Say you wanted the last two itmes of an array:"
   ]
  },
  {
   "cell_type": "code",
   "execution_count": 13,
   "id": "lr8HOBKSLVi3",
   "metadata": {
    "colab": {
     "base_uri": "https://localhost:8080/"
    },
    "executionInfo": {
     "elapsed": 142,
     "status": "ok",
     "timestamp": 1708990264460,
     "user": {
      "displayName": "Ethan White",
      "userId": "11064218996457242257"
     },
     "user_tz": 300
    },
    "id": "lr8HOBKSLVi3",
    "outputId": "32ef8e21-db33-4729-f304-8d8eb166dfdf"
   },
   "outputs": [
    {
     "name": "stdout",
     "output_type": "stream",
     "text": [
      "[3 4]\n"
     ]
    }
   ],
   "source": [
    "print(list2array[-2:])"
   ]
  },
  {
   "cell_type": "markdown",
   "id": "tzSUtB5JLVi3",
   "metadata": {
    "id": "tzSUtB5JLVi3"
   },
   "source": [
    "We can also save slices of arrays for later use."
   ]
  },
  {
   "cell_type": "code",
   "execution_count": 14,
   "id": "p05-fzZbLVi4",
   "metadata": {
    "colab": {
     "base_uri": "https://localhost:8080/"
    },
    "executionInfo": {
     "elapsed": 7,
     "status": "ok",
     "timestamp": 1708990264460,
     "user": {
      "displayName": "Ethan White",
      "userId": "11064218996457242257"
     },
     "user_tz": 300
    },
    "id": "p05-fzZbLVi4",
    "outputId": "d7e3c8e8-81f9-4486-c163-6abcb2d7a473"
   },
   "outputs": [
    {
     "name": "stdout",
     "output_type": "stream",
     "text": [
      "[3 4]\n"
     ]
    }
   ],
   "source": [
    "array_end = list2array[-2:]\n",
    "print(array_end)"
   ]
  },
  {
   "cell_type": "markdown",
   "id": "YxmfbPBALVi4",
   "metadata": {
    "id": "YxmfbPBALVi4"
   },
   "source": [
    "Now let's say that we want to look at distances to stars and we want to find the furthest one. We will use arbitrary units. The important thing to consider here is that a higher number is a larger distance."
   ]
  },
  {
   "cell_type": "code",
   "execution_count": 15,
   "id": "zMPCxSPULVi4",
   "metadata": {
    "colab": {
     "base_uri": "https://localhost:8080/"
    },
    "executionInfo": {
     "elapsed": 5,
     "status": "ok",
     "timestamp": 1708990264460,
     "user": {
      "displayName": "Ethan White",
      "userId": "11064218996457242257"
     },
     "user_tz": 300
    },
    "id": "zMPCxSPULVi4",
    "outputId": "416d9d00-f395-4669-c1d9-1dfad40e53b5"
   },
   "outputs": [
    {
     "name": "stdout",
     "output_type": "stream",
     "text": [
      "[0.70074595 0.18020306 0.4433927  0.46898905 0.5740019  0.80450002\n",
      " 0.3203275  0.38640046 0.145514   0.36097912]\n"
     ]
    }
   ],
   "source": [
    "star_dist = np.random.rand(10)\n",
    "print(star_dist)"
   ]
  },
  {
   "cell_type": "markdown",
   "id": "71CYXinNLVi4",
   "metadata": {
    "id": "71CYXinNLVi4"
   },
   "source": [
    "There are a few ways to determine the furthest point. It might be helpful for later to have the stars in order of distance. We can easily sort the array to put it in order of increasing distance."
   ]
  },
  {
   "cell_type": "code",
   "execution_count": 16,
   "id": "jjd_xJhILVi4",
   "metadata": {
    "colab": {
     "base_uri": "https://localhost:8080/"
    },
    "executionInfo": {
     "elapsed": 169,
     "status": "ok",
     "timestamp": 1708990264627,
     "user": {
      "displayName": "Ethan White",
      "userId": "11064218996457242257"
     },
     "user_tz": 300
    },
    "id": "jjd_xJhILVi4",
    "outputId": "a419950f-ce4d-4499-dae3-72d1b49350c4"
   },
   "outputs": [
    {
     "name": "stdout",
     "output_type": "stream",
     "text": [
      "[0.145514   0.18020306 0.3203275  0.36097912 0.38640046 0.4433927\n",
      " 0.46898905 0.5740019  0.70074595 0.80450002]\n",
      "0.8045000211021825\n",
      "Furthest star distance = 0.8045000211021825\n"
     ]
    }
   ],
   "source": [
    "sorted_distance = np.sort(star_dist)\n",
    "print(sorted_distance)\n",
    "print(sorted_distance[-1])\n",
    "print(\"Furthest star distance = \" + str(sorted_distance[-1]))"
   ]
  },
  {
   "cell_type": "markdown",
   "id": "8WoVWZmnLVi4",
   "metadata": {
    "id": "8WoVWZmnLVi4"
   },
   "source": [
    "There is a more direct method if we are just interested in the largest distance, however."
   ]
  },
  {
   "cell_type": "code",
   "execution_count": 17,
   "id": "Yr1LcJzfLVi4",
   "metadata": {
    "colab": {
     "base_uri": "https://localhost:8080/"
    },
    "executionInfo": {
     "elapsed": 8,
     "status": "ok",
     "timestamp": 1708990264627,
     "user": {
      "displayName": "Ethan White",
      "userId": "11064218996457242257"
     },
     "user_tz": 300
    },
    "id": "Yr1LcJzfLVi4",
    "outputId": "c15169c2-a958-4ea6-97c9-1130ab8ab13e"
   },
   "outputs": [
    {
     "name": "stdout",
     "output_type": "stream",
     "text": [
      "0.8045000211021825\n"
     ]
    }
   ],
   "source": [
    "print(np.max(star_dist))\n"
   ]
  },
  {
   "cell_type": "markdown",
   "id": "6zRpOqSkLVi4",
   "metadata": {
    "id": "6zRpOqSkLVi4"
   },
   "source": [
    "We can also use a similar method to find the smallest."
   ]
  },
  {
   "cell_type": "code",
   "execution_count": 18,
   "id": "6c6hucwyLVi4",
   "metadata": {
    "colab": {
     "base_uri": "https://localhost:8080/"
    },
    "executionInfo": {
     "elapsed": 6,
     "status": "ok",
     "timestamp": 1708990264627,
     "user": {
      "displayName": "Ethan White",
      "userId": "11064218996457242257"
     },
     "user_tz": 300
    },
    "id": "6c6hucwyLVi4",
    "outputId": "5a086f5b-0e52-4a61-daee-7a5a4a4cd0e7"
   },
   "outputs": [
    {
     "name": "stdout",
     "output_type": "stream",
     "text": [
      "0.14551399726323355\n"
     ]
    }
   ],
   "source": [
    "print(np.min(star_dist))"
   ]
  },
  {
   "cell_type": "markdown",
   "id": "kAJ6O9w6LVi5",
   "metadata": {
    "id": "kAJ6O9w6LVi5"
   },
   "source": [
    "We can also choose only values that meet certain criteria. Say we only wanted values that are above a distance of 0.5 (in our arbitrary units). Or values that are only below 0.5."
   ]
  },
  {
   "cell_type": "code",
   "execution_count": 19,
   "id": "Q3XslBweLVi5",
   "metadata": {
    "colab": {
     "base_uri": "https://localhost:8080/"
    },
    "executionInfo": {
     "elapsed": 5,
     "status": "ok",
     "timestamp": 1708990264628,
     "user": {
      "displayName": "Ethan White",
      "userId": "11064218996457242257"
     },
     "user_tz": 300
    },
    "id": "Q3XslBweLVi5",
    "outputId": "6fff2b21-cff1-4eb7-ddf6-e584372f3199"
   },
   "outputs": [
    {
     "name": "stdout",
     "output_type": "stream",
     "text": [
      "[0.5740019  0.70074595 0.80450002]\n",
      "[0.145514   0.18020306 0.3203275  0.36097912 0.38640046 0.4433927\n",
      " 0.46898905]\n",
      "[0.5740019  0.70074595]\n"
     ]
    }
   ],
   "source": [
    "print(sorted_distance[sorted_distance > 0.5])\n",
    "print(sorted_distance[sorted_distance < 0.5])\n",
    "print(sorted_distance[(sorted_distance > 0.5) & (sorted_distance < 0.75)])"
   ]
  },
  {
   "cell_type": "markdown",
   "id": "A3bFgXYWLVi5",
   "metadata": {
    "id": "A3bFgXYWLVi5"
   },
   "source": [
    "It is important to use \"&\" instead of \"and\" when doing multiple conditions as we showed above. It is also important to put each condition in parentheses. Ex (sorted_distance > 0.5)"
   ]
  },
  {
   "cell_type": "code",
   "execution_count": 20,
   "id": "I6sJtzLRLVi5",
   "metadata": {
    "colab": {
     "base_uri": "https://localhost:8080/"
    },
    "executionInfo": {
     "elapsed": 8,
     "status": "ok",
     "timestamp": 1708990264777,
     "user": {
      "displayName": "Ethan White",
      "userId": "11064218996457242257"
     },
     "user_tz": 300
    },
    "id": "I6sJtzLRLVi5",
    "outputId": "26ade4ed-4272-477e-ce57-143304b8e0d9"
   },
   "outputs": [
    {
     "name": "stdout",
     "output_type": "stream",
     "text": [
      "(array([7, 8, 9], dtype=int64),)\n"
     ]
    }
   ],
   "source": [
    "indices = np.where(sorted_distance > 0.5)\n",
    "print(np.where(sorted_distance > 0.5))"
   ]
  },
  {
   "cell_type": "code",
   "execution_count": 21,
   "id": "jO2sqNxLLVi6",
   "metadata": {
    "colab": {
     "base_uri": "https://localhost:8080/"
    },
    "executionInfo": {
     "elapsed": 6,
     "status": "ok",
     "timestamp": 1708990264777,
     "user": {
      "displayName": "Ethan White",
      "userId": "11064218996457242257"
     },
     "user_tz": 300
    },
    "id": "jO2sqNxLLVi6",
    "outputId": "63f648cd-0320-4373-ffe3-735706bf2bc0"
   },
   "outputs": [
    {
     "data": {
      "text/plain": [
       "array([0.5740019 , 0.70074595, 0.80450002])"
      ]
     },
     "execution_count": 21,
     "metadata": {},
     "output_type": "execute_result"
    }
   ],
   "source": [
    "sorted_distance[indices]"
   ]
  },
  {
   "cell_type": "markdown",
   "id": "pUuDYu37LVi6",
   "metadata": {
    "id": "pUuDYu37LVi6"
   },
   "source": [
    "You can also have multidimensional arrays. There are many uses for them and they behave very similarly to one dimensional arrays. There is a slight difference in how you get information out of them, however."
   ]
  },
  {
   "cell_type": "code",
   "execution_count": 22,
   "id": "yYiFqFhtLVi6",
   "metadata": {
    "colab": {
     "base_uri": "https://localhost:8080/"
    },
    "executionInfo": {
     "elapsed": 131,
     "status": "ok",
     "timestamp": 1708990264905,
     "user": {
      "displayName": "Ethan White",
      "userId": "11064218996457242257"
     },
     "user_tz": 300
    },
    "id": "yYiFqFhtLVi6",
    "outputId": "5a630e94-6b33-4ae1-8146-0687145fe980"
   },
   "outputs": [
    {
     "name": "stdout",
     "output_type": "stream",
     "text": [
      "[[0.25987414 0.32734164 0.71445615]\n",
      " [0.76724487 0.37625425 0.62936939]\n",
      " [0.6396576  0.53978417 0.84700974]\n",
      " [0.60580871 0.22743419 0.77712739]]\n"
     ]
    }
   ],
   "source": [
    "array3d = np.random.rand(4,3)\n",
    "print(array3d)"
   ]
  },
  {
   "cell_type": "markdown",
   "id": "STZ4XlFGLVi6",
   "metadata": {
    "id": "STZ4XlFGLVi6"
   },
   "source": [
    "Let's say these are cartesian coordinates for four stars. The first column is the x values, the second column is the y values, and the third column is the z values. The way we get the information out is a bit different."
   ]
  },
  {
   "cell_type": "code",
   "execution_count": 23,
   "id": "rKSs9BpjLVi6",
   "metadata": {
    "colab": {
     "base_uri": "https://localhost:8080/"
    },
    "executionInfo": {
     "elapsed": 15,
     "status": "ok",
     "timestamp": 1708990264905,
     "user": {
      "displayName": "Ethan White",
      "userId": "11064218996457242257"
     },
     "user_tz": 300
    },
    "id": "rKSs9BpjLVi6",
    "outputId": "9f693f46-6729-4d40-db78-10d7d9719455"
   },
   "outputs": [
    {
     "name": "stdout",
     "output_type": "stream",
     "text": [
      "The first index gets us: [0.25987414 0.32734164 0.71445615]\n"
     ]
    }
   ],
   "source": [
    "print(\"The first index gets us: \" + str(array3d[0]))"
   ]
  },
  {
   "cell_type": "code",
   "execution_count": 24,
   "id": "G9Jv1ve6LVi6",
   "metadata": {
    "colab": {
     "base_uri": "https://localhost:8080/"
    },
    "executionInfo": {
     "elapsed": 12,
     "status": "ok",
     "timestamp": 1708990264906,
     "user": {
      "displayName": "Ethan White",
      "userId": "11064218996457242257"
     },
     "user_tz": 300
    },
    "id": "G9Jv1ve6LVi6",
    "outputId": "3bcc6f51-d0c2-4994-9f8e-6f24c4ee5edb"
   },
   "outputs": [
    {
     "name": "stdout",
     "output_type": "stream",
     "text": [
      "0.2598741386640223\n"
     ]
    }
   ],
   "source": [
    "print(array3d[0][0])"
   ]
  },
  {
   "cell_type": "code",
   "execution_count": 25,
   "id": "ICAIVHYcLVi6",
   "metadata": {
    "colab": {
     "base_uri": "https://localhost:8080/"
    },
    "executionInfo": {
     "elapsed": 10,
     "status": "ok",
     "timestamp": 1708990264906,
     "user": {
      "displayName": "Ethan White",
      "userId": "11064218996457242257"
     },
     "user_tz": 300
    },
    "id": "ICAIVHYcLVi6",
    "outputId": "e7ef4fe6-861e-45ed-81eb-5d033cb4fc97"
   },
   "outputs": [
    {
     "name": "stdout",
     "output_type": "stream",
     "text": [
      "The first column (the x positions) is: [0.25987414 0.76724487 0.6396576  0.60580871]\n"
     ]
    }
   ],
   "source": [
    "print(\"The first column (the x positions) is: \" + str(array3d[:,0]))"
   ]
  },
  {
   "cell_type": "markdown",
   "id": "P7uKq7kzLVi6",
   "metadata": {
    "id": "P7uKq7kzLVi6"
   },
   "source": [
    "You can tell a multidimensional array to get the first column by using \":,\". [:,0] will get the first column, [:,1] will get the second, and so on.\n",
    "\n",
    "From that point, the array acts in the same way as we have shown before."
   ]
  },
  {
   "cell_type": "code",
   "execution_count": 26,
   "id": "5qzBbvcNLVi7",
   "metadata": {
    "colab": {
     "base_uri": "https://localhost:8080/"
    },
    "executionInfo": {
     "elapsed": 8,
     "status": "ok",
     "timestamp": 1708990264906,
     "user": {
      "displayName": "Ethan White",
      "userId": "11064218996457242257"
     },
     "user_tz": 300
    },
    "id": "5qzBbvcNLVi7",
    "outputId": "28b688de-7f4f-4f9d-a773-ccd886bbd727"
   },
   "outputs": [
    {
     "name": "stdout",
     "output_type": "stream",
     "text": [
      "The x position of the first star is: 0.2598741386640223\n"
     ]
    }
   ],
   "source": [
    "print(\"The x position of the first star is: \" + str(array3d[:,0][0]))"
   ]
  },
  {
   "cell_type": "markdown",
   "id": "f8CyiQmuLVi7",
   "metadata": {
    "id": "f8CyiQmuLVi7"
   },
   "source": [
    "Arrays are also incredibly useful when doing math. As I mentioned at the beginning, you can't multiply a list by a number. Math operations do work on arrays, however.\n",
    "\n",
    "If you multiply an array by a number, it will multiply each value in the array by that number. The same is true for any other math operation."
   ]
  },
  {
   "cell_type": "code",
   "execution_count": 27,
   "id": "ORDcKg29LVi7",
   "metadata": {
    "colab": {
     "base_uri": "https://localhost:8080/"
    },
    "executionInfo": {
     "elapsed": 7,
     "status": "ok",
     "timestamp": 1708990264906,
     "user": {
      "displayName": "Ethan White",
      "userId": "11064218996457242257"
     },
     "user_tz": 300
    },
    "id": "ORDcKg29LVi7",
    "outputId": "c648d1c0-b19d-48b8-c57b-cfbb4dbbb8ae"
   },
   "outputs": [
    {
     "name": "stdout",
     "output_type": "stream",
     "text": [
      "[1 2 3 4]\n",
      "[2 4 6 8]\n",
      "[-9 -8 -7 -6]\n",
      "[4 5 6 7]\n",
      "[0.25 0.5  0.75 1.  ]\n",
      "[ 1  4  9 16]\n",
      "[1.         1.41421356 1.73205081 2.        ]\n"
     ]
    }
   ],
   "source": [
    "print(list2array)\n",
    "print(list2array * 2)\n",
    "print(list2array - 10)\n",
    "print(list2array + 3)\n",
    "print(list2array / 4)\n",
    "print(list2array ** 2)\n",
    "print(np.sqrt(list2array))"
   ]
  },
  {
   "cell_type": "markdown",
   "id": "py1C09j3LVi7",
   "metadata": {
    "id": "py1C09j3LVi7"
   },
   "source": [
    "Let's say we want to take our cartesian coordiantes (XYZ) and turn them into a single distance (R).\n",
    "\n",
    "We can use a simple function to do this for future use too. Arrays can be fed into a function the same way a single number could be."
   ]
  },
  {
   "cell_type": "code",
   "execution_count": 28,
   "id": "DwQY6lZnLVi7",
   "metadata": {
    "executionInfo": {
     "elapsed": 152,
     "status": "ok",
     "timestamp": 1708990265053,
     "user": {
      "displayName": "Ethan White",
      "userId": "11064218996457242257"
     },
     "user_tz": 300
    },
    "id": "DwQY6lZnLVi7"
   },
   "outputs": [],
   "source": [
    "def radius(xyz):\n",
    "    x = xyz[:,0]\n",
    "    y = xyz[:,1]\n",
    "    z = xyz[:,2]\n",
    "\n",
    "    r = np.sqrt(x ** 2 + y ** 2 + z ** 2)\n",
    "\n",
    "    return(r)"
   ]
  },
  {
   "cell_type": "code",
   "execution_count": 29,
   "id": "4RWVi9SyLVi7",
   "metadata": {
    "colab": {
     "base_uri": "https://localhost:8080/"
    },
    "executionInfo": {
     "elapsed": 14,
     "status": "ok",
     "timestamp": 1708990265054,
     "user": {
      "displayName": "Ethan White",
      "userId": "11064218996457242257"
     },
     "user_tz": 300
    },
    "id": "4RWVi9SyLVi7",
    "outputId": "5a89e177-68e0-44a7-a047-cf8653822dd5"
   },
   "outputs": [
    {
     "name": "stdout",
     "output_type": "stream",
     "text": [
      "[[0.25987414 0.32734164 0.71445615]\n",
      " [0.76724487 0.37625425 0.62936939]\n",
      " [0.6396576  0.53978417 0.84700974]\n",
      " [0.60580871 0.22743419 0.77712739]]\n"
     ]
    }
   ],
   "source": [
    "print(array3d)"
   ]
  },
  {
   "cell_type": "code",
   "execution_count": 30,
   "id": "iyAA7GeELVi7",
   "metadata": {
    "colab": {
     "base_uri": "https://localhost:8080/"
    },
    "executionInfo": {
     "elapsed": 12,
     "status": "ok",
     "timestamp": 1708990265054,
     "user": {
      "displayName": "Ethan White",
      "userId": "11064218996457242257"
     },
     "user_tz": 300
    },
    "id": "iyAA7GeELVi7",
    "outputId": "78a05d51-e110-4548-bfbe-4a6c7fdc26e7"
   },
   "outputs": [
    {
     "name": "stdout",
     "output_type": "stream",
     "text": [
      "[0.82772864 1.06129062 1.19077886 1.01126529]\n",
      "[0.82772864 1.01126529 1.06129062 1.19077886]\n"
     ]
    }
   ],
   "source": [
    "r_dist = radius(array3d)\n",
    "print(r_dist)\n",
    "\n",
    "print(np.sort(r_dist))"
   ]
  },
  {
   "cell_type": "markdown",
   "id": "qeGe4BphLVi7",
   "metadata": {
    "id": "qeGe4BphLVi7"
   },
   "source": [
    "Finally, we can edit arrays. If we know how many points we need before starting a process, we can make an array of 0s with the length of the number of points we will have.\n",
    "\n",
    "For example, if we had 10 stars that we were going to analyze with a function to get their brightness, we could make an array of 0s with 10 spots."
   ]
  },
  {
   "cell_type": "code",
   "execution_count": 31,
   "id": "8svHpP7jLVi7",
   "metadata": {
    "colab": {
     "base_uri": "https://localhost:8080/"
    },
    "executionInfo": {
     "elapsed": 10,
     "status": "ok",
     "timestamp": 1708990265054,
     "user": {
      "displayName": "Ethan White",
      "userId": "11064218996457242257"
     },
     "user_tz": 300
    },
    "id": "8svHpP7jLVi7",
    "outputId": "34ac4a94-f1e3-42c6-ec65-2504044acecc"
   },
   "outputs": [
    {
     "name": "stdout",
     "output_type": "stream",
     "text": [
      "[0. 0. 0. 0. 0. 0. 0. 0. 0. 0.]\n"
     ]
    }
   ],
   "source": [
    "array0 = np.zeros(10)\n",
    "print(array0)"
   ]
  },
  {
   "cell_type": "markdown",
   "id": "VPPxS9NALVi7",
   "metadata": {
    "id": "VPPxS9NALVi7"
   },
   "source": [
    "We can then input values into the array once we have them. For now, let's just put in values 0 through 9 into the array using a loop."
   ]
  },
  {
   "cell_type": "code",
   "execution_count": 32,
   "id": "Z16n28JpLVi8",
   "metadata": {
    "colab": {
     "base_uri": "https://localhost:8080/"
    },
    "executionInfo": {
     "elapsed": 8,
     "status": "ok",
     "timestamp": 1708990265054,
     "user": {
      "displayName": "Ethan White",
      "userId": "11064218996457242257"
     },
     "user_tz": 300
    },
    "id": "Z16n28JpLVi8",
    "outputId": "90b0e55a-abb6-4d1d-e57f-f2392224bb3e"
   },
   "outputs": [
    {
     "name": "stdout",
     "output_type": "stream",
     "text": [
      "0\n",
      "1\n",
      "2\n",
      "3\n",
      "4\n",
      "5\n",
      "6\n",
      "7\n",
      "8\n",
      "9\n",
      "[0. 1. 2. 3. 4. 5. 6. 7. 8. 9.]\n"
     ]
    }
   ],
   "source": [
    "for i in range(len(array0)):\n",
    "    print(i)\n",
    "    array0[i] = i\n",
    "print(array0)"
   ]
  },
  {
   "cell_type": "markdown",
   "id": "u4wJ2StTLVi8",
   "metadata": {
    "id": "u4wJ2StTLVi8"
   },
   "source": [
    "The same is true for a multidimensional array. If we need a 2D array, we use () and input the size of the array there."
   ]
  },
  {
   "cell_type": "code",
   "execution_count": 33,
   "id": "OA8PYDfxLVi8",
   "metadata": {
    "colab": {
     "base_uri": "https://localhost:8080/"
    },
    "executionInfo": {
     "elapsed": 8,
     "status": "ok",
     "timestamp": 1708990265055,
     "user": {
      "displayName": "Ethan White",
      "userId": "11064218996457242257"
     },
     "user_tz": 300
    },
    "id": "OA8PYDfxLVi8",
    "outputId": "672577ae-6c79-44cb-e698-9431c56e5d38"
   },
   "outputs": [
    {
     "name": "stdout",
     "output_type": "stream",
     "text": [
      "[[0. 0. 0.]\n",
      " [0. 0. 0.]]\n"
     ]
    }
   ],
   "source": [
    "array0_2d = np.zeros((2,3))\n",
    "print(array0_2d)"
   ]
  },
  {
   "cell_type": "code",
   "execution_count": 34,
   "id": "3iNBAG3wLVi8",
   "metadata": {
    "colab": {
     "base_uri": "https://localhost:8080/"
    },
    "executionInfo": {
     "elapsed": 159,
     "status": "ok",
     "timestamp": 1708990265208,
     "user": {
      "displayName": "Ethan White",
      "userId": "11064218996457242257"
     },
     "user_tz": 300
    },
    "id": "3iNBAG3wLVi8",
    "outputId": "ebdc37f4-96af-428f-fc05-b50873e8f333"
   },
   "outputs": [
    {
     "name": "stdout",
     "output_type": "stream",
     "text": [
      "[[0. 0. 3.]\n",
      " [1. 0. 0.]]\n"
     ]
    }
   ],
   "source": [
    "array0_2d[0][2] = 3\n",
    "array0_2d[1][0] = 1\n",
    "print(array0_2d)"
   ]
  },
  {
   "cell_type": "code",
   "execution_count": null,
   "id": "13-CTUnsLVi8",
   "metadata": {
    "executionInfo": {
     "elapsed": 6,
     "status": "ok",
     "timestamp": 1708990265208,
     "user": {
      "displayName": "Ethan White",
      "userId": "11064218996457242257"
     },
     "user_tz": 300
    },
    "id": "13-CTUnsLVi8"
   },
   "outputs": [],
   "source": []
  },
  {
   "cell_type": "code",
   "execution_count": 35,
   "id": "UPjG3i3QLVi8",
   "metadata": {
    "colab": {
     "base_uri": "https://localhost:8080/"
    },
    "executionInfo": {
     "elapsed": 140,
     "status": "ok",
     "timestamp": 1708990968456,
     "user": {
      "displayName": "Ethan White",
      "userId": "11064218996457242257"
     },
     "user_tz": 300
    },
    "id": "UPjG3i3QLVi8",
    "outputId": "ad7d355a-37f5-457d-fe5b-e6692f8399e5"
   },
   "outputs": [
    {
     "name": "stdout",
     "output_type": "stream",
     "text": [
      "[0.25987414 0.32734164 0.71445615]\n",
      "[0. 0. 0. 0.]\n"
     ]
    }
   ],
   "source": [
    "print(array3d[0])\n",
    "r_arr = np.zeros(len(array3d))\n",
    "mass = np.asarray([0.5, 1, 1.5, 2])\n",
    "print(r_arr)\n",
    "r = []\n",
    "r_small = []\n",
    "m_small = []\n",
    "for i in range(len(array3d)):\n",
    "  r_temp = np.sqrt(array3d[i][0] ** 2 + array3d[i][1] **2 + array3d[i][2] ** 2)\n",
    "  if r_temp < 1:\n",
    "    r_small.append(r_temp)\n",
    "    m_small.append(mass[i])\n",
    "  r.append(r_temp)\n",
    "\n"
   ]
  },
  {
   "cell_type": "code",
   "execution_count": 36,
   "id": "kRotN_SJxCgm",
   "metadata": {
    "colab": {
     "base_uri": "https://localhost:8080/"
    },
    "executionInfo": {
     "elapsed": 167,
     "status": "ok",
     "timestamp": 1708991121041,
     "user": {
      "displayName": "Ethan White",
      "userId": "11064218996457242257"
     },
     "user_tz": 300
    },
    "id": "kRotN_SJxCgm",
    "outputId": "380bd254-0f20-4d94-d75d-f21031cfb0ce"
   },
   "outputs": [
    {
     "name": "stdout",
     "output_type": "stream",
     "text": [
      "[[0.25987414 0.32734164 0.71445615]\n",
      " [0.76724487 0.37625425 0.62936939]\n",
      " [0.6396576  0.53978417 0.84700974]\n",
      " [0.60580871 0.22743419 0.77712739]]\n",
      "[0.25987414 0.76724487 0.6396576  0.60580871]\n",
      "[0.82772864 1.06129062 1.19077886 1.01126529]\n"
     ]
    }
   ],
   "source": [
    "print(array3d)\n",
    "print(array3d[:,0])\n",
    "r = np.sqrt(array3d[:,0] ** 2 + array3d[:,1] ** 2 + array3d[:,2] ** 2)\n",
    "print(r)"
   ]
  },
  {
   "cell_type": "code",
   "execution_count": 37,
   "id": "JCm-RMVVzbj3",
   "metadata": {
    "colab": {
     "base_uri": "https://localhost:8080/"
    },
    "executionInfo": {
     "elapsed": 127,
     "status": "ok",
     "timestamp": 1708991201645,
     "user": {
      "displayName": "Ethan White",
      "userId": "11064218996457242257"
     },
     "user_tz": 300
    },
    "id": "JCm-RMVVzbj3",
    "outputId": "c9646dff-4d4b-4d5f-b669-bc04fbdb7cc2"
   },
   "outputs": [
    {
     "name": "stdout",
     "output_type": "stream",
     "text": [
      "[]\n",
      "[]\n"
     ]
    }
   ],
   "source": [
    "r_small_ind = np.where((r<1) & (mass == 1))\n",
    "print(r[r_small_ind])\n",
    "print(mass[r_small_ind])"
   ]
  },
  {
   "cell_type": "code",
   "execution_count": 38,
   "id": "-NQgCXD3LVi8",
   "metadata": {
    "colab": {
     "base_uri": "https://localhost:8080/",
     "height": 287
    },
    "executionInfo": {
     "elapsed": 294,
     "status": "error",
     "timestamp": 1708990394410,
     "user": {
      "displayName": "Ethan White",
      "userId": "11064218996457242257"
     },
     "user_tz": 300
    },
    "id": "-NQgCXD3LVi8",
    "outputId": "add49344-3441-4f96-e34f-29552d531325"
   },
   "outputs": [],
   "source": [
    "values = np.loadtxt('snap.dat.0001')"
   ]
  },
  {
   "cell_type": "code",
   "execution_count": null,
   "id": "qoW-vXcYNa1i",
   "metadata": {
    "executionInfo": {
     "elapsed": 946,
     "status": "aborted",
     "timestamp": 1708990264327,
     "user": {
      "displayName": "Ethan White",
      "userId": "11064218996457242257"
     },
     "user_tz": 300
    },
    "id": "qoW-vXcYNa1i"
   },
   "outputs": [],
   "source": []
  },
  {
   "cell_type": "code",
   "execution_count": 39,
   "id": "EGfiyrloLVi8",
   "metadata": {
    "executionInfo": {
     "elapsed": 945,
     "status": "aborted",
     "timestamp": 1708990264327,
     "user": {
      "displayName": "Ethan White",
      "userId": "11064218996457242257"
     },
     "user_tz": 300
    },
    "id": "EGfiyrloLVi8"
   },
   "outputs": [
    {
     "name": "stdout",
     "output_type": "stream",
     "text": [
      "[[ 1.00000000e+00  8.42000000e-06 -9.29904940e-01 ...  3.87055310e-01\n",
      "  -6.51669500e-01  1.44091460e-01]\n",
      " [ 2.00000000e+00  2.13700000e-05  2.15483080e-01 ...  4.02249310e-01\n",
      "   4.55606460e-01 -9.04775400e-02]\n",
      " [ 3.00000000e+00  7.46000000e-06 -5.16549890e-01 ... -5.12877700e-01\n",
      "  -6.14304540e-01 -7.50525400e-02]\n",
      " ...\n",
      " [ 9.99980000e+04  2.95500000e-05 -3.21275568e+00 ... -1.75248700e-01\n",
      "   2.58347480e-01  3.49744600e-02]\n",
      " [ 9.99990000e+04  1.36800000e-05 -9.34057890e-01 ... -4.57687710e-01\n",
      "   3.81196470e-01 -8.87105400e-02]\n",
      " [ 1.00000000e+05  6.93000000e-06 -4.57345009e+00 ... -1.08548700e-01\n",
      "   2.87935470e-01  2.38036450e-01]]\n"
     ]
    }
   ],
   "source": [
    "print(values)"
   ]
  },
  {
   "cell_type": "code",
   "execution_count": 40,
   "id": "gmdJ2egELVi8",
   "metadata": {
    "executionInfo": {
     "elapsed": 946,
     "status": "aborted",
     "timestamp": 1708990264328,
     "user": {
      "displayName": "Ethan White",
      "userId": "11064218996457242257"
     },
     "user_tz": 300
    },
    "id": "gmdJ2egELVi8"
   },
   "outputs": [],
   "source": [
    "FG = values[values[:,0] > 50000]\n",
    "SG = values[values[:,0] <= 50000]"
   ]
  },
  {
   "cell_type": "code",
   "execution_count": 41,
   "id": "LIH-IEKPLVi8",
   "metadata": {
    "executionInfo": {
     "elapsed": 946,
     "status": "aborted",
     "timestamp": 1708990264328,
     "user": {
      "displayName": "Ethan White",
      "userId": "11064218996457242257"
     },
     "user_tz": 300
    },
    "id": "LIH-IEKPLVi8"
   },
   "outputs": [],
   "source": [
    "xyz_FG = FG[:,2:5]\n",
    "xyz_SG = SG[:,2:5]"
   ]
  },
  {
   "cell_type": "code",
   "execution_count": 42,
   "id": "-1LdOct2LVi9",
   "metadata": {
    "executionInfo": {
     "elapsed": 945,
     "status": "aborted",
     "timestamp": 1708990264328,
     "user": {
      "displayName": "Ethan White",
      "userId": "11064218996457242257"
     },
     "user_tz": 300
    },
    "id": "-1LdOct2LVi9"
   },
   "outputs": [],
   "source": [
    "from matplotlib import pyplot as plt"
   ]
  },
  {
   "cell_type": "code",
   "execution_count": 43,
   "id": "9phA7mEHLVi9",
   "metadata": {
    "executionInfo": {
     "elapsed": 945,
     "status": "aborted",
     "timestamp": 1708990264328,
     "user": {
      "displayName": "Ethan White",
      "userId": "11064218996457242257"
     },
     "user_tz": 300
    },
    "id": "9phA7mEHLVi9"
   },
   "outputs": [
    {
     "data": {
      "text/plain": [
       "[<matplotlib.lines.Line2D at 0x21fc20beb20>]"
      ]
     },
     "execution_count": 43,
     "metadata": {},
     "output_type": "execute_result"
    },
    {
     "data": {
      "image/png": "[encoded data removed]",
      "text/plain": [
       "<Figure size 700x700 with 1 Axes>"
      ]
     },
     "metadata": {},
     "output_type": "display_data"
    }
   ],
   "source": [
    "fig, ax = plt.subplots(figsize = (7,7))\n",
    "ax.set_xlim(-50,50)\n",
    "ax.set_ylim(-50,50)\n",
    "ax.plot(xyz_FG[:,0], xyz_FG[:,2], 'o')\n",
    "ax.plot(xyz_SG[:,0], xyz_SG[:,2], 'o')"
   ]
  },
  {
   "cell_type": "code",
   "execution_count": null,
   "id": "56d59c23-7e39-4bbe-ba1e-237de614ea21",
   "metadata": {},
   "outputs": [],
   "source": []
  },
  {
   "cell_type": "code",
   "execution_count": 44,
   "id": "t72mumfrLVi9",
   "metadata": {
    "executionInfo": {
     "elapsed": 137,
     "status": "ok",
     "timestamp": 1708991908408,
     "user": {
      "displayName": "Ethan White",
      "userId": "11064218996457242257"
     },
     "user_tz": 300
    },
    "id": "t72mumfrLVi9"
   },
   "outputs": [],
   "source": [
    "def rad(x, y, z):\n",
    "  r = np.sqrt(x ** 2 + y ** 2 + z ** 2)\n",
    "  return(r)"
   ]
  },
  {
   "cell_type": "code",
   "execution_count": 45,
   "id": "8DhcWjbv2WJI",
   "metadata": {
    "colab": {
     "base_uri": "https://localhost:8080/"
    },
    "executionInfo": {
     "elapsed": 152,
     "status": "ok",
     "timestamp": 1708991919957,
     "user": {
      "displayName": "Ethan White",
      "userId": "11064218996457242257"
     },
     "user_tz": 300
    },
    "id": "8DhcWjbv2WJI",
    "outputId": "f912d76e-2dff-4196-e0c7-b8343832e447"
   },
   "outputs": [
    {
     "data": {
      "text/plain": [
       "8.831760866327848"
      ]
     },
     "execution_count": 45,
     "metadata": {},
     "output_type": "execute_result"
    }
   ],
   "source": [
    "rad(2, 5,7)"
   ]
  },
  {
   "cell_type": "code",
   "execution_count": 46,
   "id": "u4o0dADS2zXI",
   "metadata": {
    "colab": {
     "base_uri": "https://localhost:8080/"
    },
    "executionInfo": {
     "elapsed": 138,
     "status": "ok",
     "timestamp": 1708991960630,
     "user": {
      "displayName": "Ethan White",
      "userId": "11064218996457242257"
     },
     "user_tz": 300
    },
    "id": "u4o0dADS2zXI",
    "outputId": "780fa133-b90e-4900-e62e-536700e459a9"
   },
   "outputs": [
    {
     "data": {
      "text/plain": [
       "array([0.82772864, 1.06129062, 1.19077886, 1.01126529])"
      ]
     },
     "execution_count": 46,
     "metadata": {},
     "output_type": "execute_result"
    }
   ],
   "source": [
    "rad(array3d[:,0], array3d[:,1], array3d[:,2])"
   ]
  }
 ],
 "metadata": {
  "colab": {
   "provenance": []
  },
  "kernelspec": {
   "display_name": "Python 3 (ipykernel)",
   "language": "python",
   "name": "python3"
  },
  "language_info": {
   "codemirror_mode": {
    "name": "ipython",
    "version": 3
   },
   "file_extension": ".py",
   "mimetype": "text/x-python",
   "name": "python",
   "nbconvert_exporter": "python",
   "pygments_lexer": "ipython3",
   "version": "3.8.18"
  }
 },
 "nbformat": 4,
 "nbformat_minor": 5
}
