{
  "nbformat": 4,
  "nbformat_minor": 0,
  "metadata": {
    "colab": {
      "provenance": []
    },
    "kernelspec": {
      "name": "python3",
      "display_name": "Python 3"
    },
    "language_info": {
      "name": "python"
    }
  },
  "cells": [
    {
      "cell_type": "markdown",
      "source": [
        "# Python for Astronomers Crash Course\n",
        "## Fall 2023\n",
        "\n",
        "#### Authors: Brandon Radzom, Robert Howard, Kristin Baker, Lexi Gault, Ethan White, Sarah Popp, Jessica Ranshaw"
      ],
      "metadata": {
        "id": "3sNJasugOFWB"
      }
    },
    {
      "cell_type": "markdown",
      "source": [
        "### \"Hello World!\" and Variables"
      ],
      "metadata": {
        "id": "Vqhbq6KYAdwh"
      }
    },
    {
      "cell_type": "markdown",
      "source": [
        "The `print` function is one of many built-in functions in Python, and it will display whatever you give it!"
      ],
      "metadata": {
        "id": "qeba2yD63nd9"
      }
    },
    {
      "cell_type": "code",
      "execution_count": null,
      "metadata": {
        "id": "gRFH7czcHw3B",
        "colab": {
          "base_uri": "https://localhost:8080/"
        },
        "outputId": "537d39d8-fea6-441a-bb4c-f78a21de58ce"
      },
      "outputs": [
        {
          "output_type": "stream",
          "name": "stdout",
          "text": [
            "hello world\n",
            "3.14\n"
          ]
        }
      ],
      "source": [
        "print('hello world')\n",
        "print(3.14)"
      ]
    },
    {
      "cell_type": "code",
      "source": [
        "block_text = '''\n",
        "PPPPPPPP    YY      YY  TTTTTTTTTT  HH      HH    OOOOOO    NN      NN\n",
        "PP      PP    YY  YY        TT      HH      HH  OO      OO  NNNN    NN\n",
        "PP      PP      YY          TT      HH      HH  OO      OO  NN  NN  NN\n",
        "PPPPPPPP        YY          TT      HHHHHHHHHH  OO      OO  NN    NNNN\n",
        "PP              YY          TT      HH      HH  OO      OO  NN      NN\n",
        "PP              YY          TT      HH      HH  OO      OO  NN      NN\n",
        "PP              YY          TT      HH      HH    OOOOOO    NN      NN'''\n",
        "print(block_text)"
      ],
      "metadata": {
        "id": "RQ4rqCA8wXLf",
        "colab": {
          "base_uri": "https://localhost:8080/"
        },
        "outputId": "42e1343d-9900-47dd-a3ee-ba93e5ab16ae"
      },
      "execution_count": null,
      "outputs": [
        {
          "output_type": "stream",
          "name": "stdout",
          "text": [
            "\n",
            "PPPPPPPP    YY      YY  TTTTTTTTTT  HH      HH    OOOOOO    NN      NN\n",
            "PP      PP    YY  YY        TT      HH      HH  OO      OO  NNNN    NN\n",
            "PP      PP      YY          TT      HH      HH  OO      OO  NN  NN  NN\n",
            "PPPPPPPP        YY          TT      HHHHHHHHHH  OO      OO  NN    NNNN\n",
            "PP              YY          TT      HH      HH  OO      OO  NN      NN\n",
            "PP              YY          TT      HH      HH  OO      OO  NN      NN\n",
            "PP              YY          TT      HH      HH    OOOOOO    NN      NN\n"
          ]
        }
      ]
    },
    {
      "cell_type": "markdown",
      "source": [
        "In that last cell, we stored a data type called a string inside a variable that we named `block_text`. Strings are used to hold letters, words, and sentences, and they can hold numbers too. They're normally represented using single or double quotes, like `'hello world'` or `\"Inconceivable!\"`, but you can also use triple quotes like I did above if you have a string that won't fit on one line.\n",
        "\n",
        "Some other basic data types include:\n",
        "- Integers (or ints): Whole numbers\n",
        "- Floats (short for floating-point numbers): Decimals\n",
        "- Booleans: True or False\n",
        "- Lists: Collections of any other objects you want\n",
        "\n",
        "We can store *anything* in Python inside a variable! This allows us to manipulate those objects further after defining them. When doing anything involved, it's good practice to give your variables informative names so that anyone else reading your code can understand what they do. Here are some more examples of variables and data types, including a versatile string formatting technique called an f-string:"
      ],
      "metadata": {
        "id": "_Pvfe8sLyBeq"
      }
    },
    {
      "cell_type": "code",
      "source": [
        "research = 'emission-line galaxies'\n",
        "print('I work on ' + research)\n",
        "print(f'I work on {research}')\n",
        "\n",
        "x = 3\n",
        "y = 4\n",
        "print(x**y)\n",
        "print(f'{x} plus {y} is {x + y}')\n",
        "\n",
        "t = True\n",
        "f = False\n",
        "print(t and not f)"
      ],
      "metadata": {
        "id": "b1DVxhBky2S6",
        "colab": {
          "base_uri": "https://localhost:8080/"
        },
        "outputId": "6b0a43bc-79ad-43c6-cfd1-688b5815a381"
      },
      "execution_count": null,
      "outputs": [
        {
          "output_type": "stream",
          "name": "stdout",
          "text": [
            "I work on emission-line galaxies\n",
            "I work on emission-line galaxies\n",
            "81\n",
            "3 plus 4 is 7\n",
            "True\n"
          ]
        }
      ]
    },
    {
      "cell_type": "code",
      "source": [
        "my_list = [0, 1, 1, 2, 3, 5, 8, 13]\n",
        "print(my_list)\n",
        "\n",
        "my_list.append(21)\n",
        "print(my_list)\n",
        "\n",
        "my_list += [34, 55, 89, 144, 233, 377]\n",
        "print(my_list)"
      ],
      "metadata": {
        "id": "ZvyGWjy_4S63",
        "colab": {
          "base_uri": "https://localhost:8080/"
        },
        "outputId": "e32feed8-5c5c-4cbf-be90-81fa4e08b79d"
      },
      "execution_count": null,
      "outputs": [
        {
          "output_type": "stream",
          "name": "stdout",
          "text": [
            "[0, 1, 1, 2, 3, 5, 8, 13]\n",
            "[0, 1, 1, 2, 3, 5, 8, 13, 21]\n",
            "[0, 1, 1, 2, 3, 5, 8, 13, 21, 34, 55, 89, 144, 233, 377]\n"
          ]
        }
      ]
    },
    {
      "cell_type": "markdown",
      "source": [
        "Python contains many other data types that can come in handy in various situations:\n",
        "- Dictionaries: Ordered `key:value` pairs of information\n",
        "  - Ex: `{'Jessica':'exoplanets', 'Kristin':'green pea galaxies', 'Ethan':'globular clusters'}`\n",
        "- Tuples: Similar to lists, but can't be changed after assignment\n",
        "  - Ex: `(2, 3, 5, 7, 11, 13)`\n",
        "- Sets: Similar to lists, but can't contain duplicate entries\n",
        "  - Ex: `{'According', 'to', 'all', 'known', 'laws', 'of', 'aviation'}`\n",
        "- Complex numbers: Complex numbers represented in the form $a+bj$, where $a$ is the real part and $b$ is the imaginary part. Python is very insistent that you use `j` instead of `i`.\n",
        "  - Ex: `(0 + 1j)**2 = -1 + 0j`\n",
        "\n",
        "Some modules, like `numpy`, which we'll see later, include definitions of still more useful data types, like arrays. And if none of these data types suit your needs, you can always define your own data type using a `class` (this is called object-oriented programming and is really cool but beyond the scope of this crash course)."
      ],
      "metadata": {
        "id": "ZaG4Bycw0diH"
      }
    },
    {
      "cell_type": "markdown",
      "source": [
        "# ***Markdown and Comments***\n",
        "\n",
        "# 1. Markdown"
      ],
      "metadata": {
        "id": "eusaScIm_PIu"
      }
    },
    {
      "cell_type": "markdown",
      "source": [
        "#This is the largest header you can use\n",
        "## This is getting smaller...\n",
        "### And smaller\n",
        "#### And even more\n",
        "##### And just a little more\n",
        "###### And the tiniest\n",
        "####### After 6 hashtags you would just use the default!\n",
        "\n"
      ],
      "metadata": {
        "id": "levBm50gg6TH"
      }
    },
    {
      "cell_type": "markdown",
      "source": [
        "How about __lists__ to outline your project?\n",
        "\n",
        "1. We\n",
        "2. can do\n",
        "3. that!\n",
        "\n",
        "- It doesn't\n",
        "- need to be\n",
        "- numbered either!"
      ],
      "metadata": {
        "id": "9vQYJ8ywtr-9"
      }
    },
    {
      "cell_type": "markdown",
      "source": [
        "Pictures can be really fun too and can be a great tool for visualization!\n",
        "\n",
        "![meme](https://assets-global.website-files.com/5f3c19f18169b62a0d0bf387/60d33bf3a2121cc74f72a286_0AEnnZYBAYzmSXzyGaopjvEGKKO1yFqf_zMXqFTAT6vUDfXVPRifI3J8oBjZUl51PnRQqf2tqpjiRt33IKgg4sTiJi2YShGTN5iNUIoYbNj2HXobiQg4-k7yBiNT54EKOGYyZOR2.png)"
      ],
      "metadata": {
        "id": "GOxr6_3auefm"
      }
    },
    {
      "cell_type": "markdown",
      "source": [
        "You can even add clickable [hyperlinks](https://www.youtube.com/watch?v=dQw4w9WgXcQ) to easily access references!"
      ],
      "metadata": {
        "id": "441-9dbu0RiR"
      }
    },
    {
      "cell_type": "markdown",
      "source": [
        "Markdown cells are also great to show the formulae and functions you will be working with in your code. Let's look at some common formulae!\n",
        "\n",
        "1. Newton's Second Law\n",
        "\n",
        "\n",
        ">$F = m * a$\n",
        "\n",
        "2. Pythagorean Theorem\n",
        "\n",
        "> $a^{2x}+b^2=c^2$\n",
        "\n",
        "3. Area of a Circle\n",
        "\n",
        ">$A=π × r^2$"
      ],
      "metadata": {
        "id": "Q8Zgr8wB4eg-"
      }
    },
    {
      "cell_type": "markdown",
      "source": [
        "#2. Comments"
      ],
      "metadata": {
        "id": "YHob45jn691F"
      }
    },
    {
      "cell_type": "code",
      "source": [
        "#What can you use comments for?\n",
        "\n",
        "#Defining!!!!\n",
        "#Planning\n",
        "#To Dos"
      ],
      "metadata": {
        "id": "BNosHiaO_Jjo"
      },
      "execution_count": null,
      "outputs": []
    },
    {
      "cell_type": "code",
      "source": [
        "# This is a comment"
      ],
      "metadata": {
        "id": "SZ199V6QAjhy"
      },
      "execution_count": null,
      "outputs": []
    },
    {
      "cell_type": "code",
      "source": [
        "print(\"This will run.\")  # This won't run"
      ],
      "metadata": {
        "colab": {
          "base_uri": "https://localhost:8080/"
        },
        "id": "E5CJhjHt7HaE",
        "outputId": "bbd322b0-a285-4aa9-9b11-de034061c9c9"
      },
      "execution_count": null,
      "outputs": [
        {
          "output_type": "stream",
          "name": "stdout",
          "text": [
            "This will run.\n"
          ]
        }
      ]
    },
    {
      "cell_type": "code",
      "source": [
        "#Let's comment this confusing code together\n",
        "\n",
        "#Variables from data\n",
        "x = 2\n",
        "y = 3\n",
        "z = 4\n",
        "\n",
        "#Take average\n",
        "a = (x+y+z)/3\n",
        "\n",
        "#Print\n",
        "print(a)\n",
        "\n",
        "#Restating variables\n",
        "x = 4\n",
        "y = 6\n",
        "\n",
        "#Print\n",
        "print(x,y,z)\n",
        "\n",
        "#Change third variable\n",
        "z = 8\n",
        "\n",
        "#print\n",
        "print(x,y,z)\n",
        "\n",
        "#New average\n",
        "b = (x+y+z)/3\n",
        "\n",
        "#print\n",
        "print(b)\n",
        "\n",
        "#Find difference\n",
        "print(b-a)"
      ],
      "metadata": {
        "colab": {
          "base_uri": "https://localhost:8080/"
        },
        "id": "T9GYTrcJ7TPW",
        "outputId": "21246ad3-478e-4d43-85ca-6f748c9f3b9b"
      },
      "execution_count": null,
      "outputs": [
        {
          "output_type": "stream",
          "name": "stdout",
          "text": [
            "3.0\n",
            "4 6 4\n",
            "4 6 8\n",
            "6.0\n",
            "3.0\n"
          ]
        }
      ]
    },
    {
      "cell_type": "markdown",
      "source": [
        "### Logic and Loops\n",
        "Loops can be used to repeatedly perform a process.\\\n",
        "Logic allows you to see if a condition is met. You can then use that to conditionally perform a task.\n"
      ],
      "metadata": {
        "id": "CTpaxI9Owfj6"
      }
    },
    {
      "cell_type": "code",
      "source": [
        "# for i range(10) tells Python to repeat this process (printing) 10 times\n",
        "for i in range(10):\n",
        "  print(i)"
      ],
      "metadata": {
        "id": "xlfLLgsawo4j",
        "colab": {
          "base_uri": "https://localhost:8080/"
        },
        "outputId": "2251417d-4b2d-414b-ce30-189987f59bb6"
      },
      "execution_count": null,
      "outputs": [
        {
          "output_type": "stream",
          "name": "stdout",
          "text": [
            "0\n",
            "1\n",
            "2\n",
            "3\n",
            "4\n",
            "5\n",
            "6\n",
            "7\n",
            "8\n",
            "9\n"
          ]
        }
      ]
    },
    {
      "cell_type": "code",
      "source": [
        "#We can also loop through items in a list or an array\n",
        "letters = ['a', 'b', 'c']\n",
        "\n",
        "for j in letters:\n",
        "  print(j)"
      ],
      "metadata": {
        "id": "nIZFcFZxuWl5",
        "colab": {
          "base_uri": "https://localhost:8080/"
        },
        "outputId": "603d85ef-b7b6-44a8-8805-b44be148ca80"
      },
      "execution_count": null,
      "outputs": [
        {
          "output_type": "stream",
          "name": "stdout",
          "text": [
            "a\n",
            "b\n",
            "c\n"
          ]
        }
      ]
    },
    {
      "cell_type": "code",
      "source": [
        "#We can also loop through two lists at the same time\n",
        "numbers = [3, 4, 5]\n",
        "\n",
        "#the length of both of these lists is 3\n",
        "print(len(letters))\n",
        "print(len(numbers))"
      ],
      "metadata": {
        "colab": {
          "base_uri": "https://localhost:8080/"
        },
        "id": "q8fLRW477oSd",
        "outputId": "f9ea4b95-1865-4b3c-a8e0-0ecad6929abe"
      },
      "execution_count": null,
      "outputs": [
        {
          "output_type": "stream",
          "name": "stdout",
          "text": [
            "3\n",
            "3\n"
          ]
        }
      ]
    },
    {
      "cell_type": "code",
      "source": [
        "# numbers = [3,4,5]\n",
        "\n",
        "print(len(numbers))\n",
        "print(len(letters))"
      ],
      "metadata": {
        "id": "w7SKTz9GyShH",
        "colab": {
          "base_uri": "https://localhost:8080/"
        },
        "outputId": "a47a9180-0684-4bfa-dabf-f15f54038507"
      },
      "execution_count": null,
      "outputs": [
        {
          "output_type": "stream",
          "name": "stdout",
          "text": [
            "3\n",
            "3\n"
          ]
        }
      ]
    },
    {
      "cell_type": "code",
      "source": [
        "for i in range(len(letters)):\n",
        "  print('i=' + str(i))\n",
        "  print(letters[i])\n",
        "  print(numbers[i])"
      ],
      "metadata": {
        "colab": {
          "base_uri": "https://localhost:8080/"
        },
        "id": "Wwy2-DyggrcB",
        "outputId": "86b49a5b-75a1-4d9c-c40b-1b683dcdd319"
      },
      "execution_count": null,
      "outputs": [
        {
          "output_type": "stream",
          "name": "stdout",
          "text": [
            "i=0\n",
            "a\n",
            "3\n",
            "i=1\n",
            "b\n",
            "4\n",
            "i=2\n",
            "c\n",
            "5\n"
          ]
        }
      ]
    },
    {
      "cell_type": "code",
      "source": [
        "#We can then make the loop do something other than just printing, for example:\n",
        "#Add a number to a variable\n",
        "#Print the variable each time to see that it is increasing\n",
        "\n",
        "#We have shown how a for loop works already, so let's look at a different kind of loop: A \"while\" loop\n",
        "\n",
        "#If we want the variable to stop after a certain value, we can instead use a \"while\" loop\n",
        "var1 = 0\n",
        "var2 = 0\n",
        "\n",
        "while var1 < 20:\n",
        "  var1 += var2\n",
        "  var2 += 1\n",
        "  print('var1 ='+str(var1))\n",
        "\n",
        "print(\"final var1 value = \" + str(var1))"
      ],
      "metadata": {
        "id": "7wm8TfAss9or",
        "colab": {
          "base_uri": "https://localhost:8080/"
        },
        "outputId": "ab0ad792-9927-46d1-9fac-94e0516271dd"
      },
      "execution_count": null,
      "outputs": [
        {
          "output_type": "stream",
          "name": "stdout",
          "text": [
            "var1 =0\n",
            "var1 =1\n",
            "var1 =3\n",
            "var1 =6\n",
            "var1 =10\n",
            "var1 =15\n",
            "var1 =21\n",
            "final var1 value = 21\n"
          ]
        }
      ]
    },
    {
      "cell_type": "code",
      "source": [
        "#If we want to automatically check that the loop worked without all the print statements, we can use an 'if' statement.\n",
        "\n",
        "if var1 > 20:\n",
        "  print('yay!')"
      ],
      "metadata": {
        "id": "0MLzZwcGzT0K",
        "colab": {
          "base_uri": "https://localhost:8080/"
        },
        "outputId": "acaa0454-df48-4486-b89b-7e40f0d1d0a7"
      },
      "execution_count": null,
      "outputs": [
        {
          "output_type": "stream",
          "name": "stdout",
          "text": [
            "yay!\n"
          ]
        }
      ]
    },
    {
      "cell_type": "code",
      "source": [
        "#If for some reason we wrote something incorrectly in our loop and caused our variable to not meet the criterion, we can introduce an \"else\" statement.\n",
        "#Let's pretend instead of 20, we wanted the variable to have been greater than 30 to end the loop.\n",
        "#We 'accidentally' put 20 in our 'while' loop and so the number never gets greater than 30.\n",
        "if var1 > 30:\n",
        "  print('ERROR')\n",
        "else:\n",
        "  print('var1 is smol.')"
      ],
      "metadata": {
        "id": "PfJ5bfOO2VRZ",
        "colab": {
          "base_uri": "https://localhost:8080/"
        },
        "outputId": "01ec139c-f8d6-4a0d-f0a1-2f5086adc017"
      },
      "execution_count": null,
      "outputs": [
        {
          "output_type": "stream",
          "name": "stdout",
          "text": [
            "var1 is smol.\n"
          ]
        }
      ]
    },
    {
      "cell_type": "code",
      "source": [
        "#The 'else' statement checks if the opposite thing is true. In this case: is variable <= 30."
      ],
      "metadata": {
        "id": "CJVQf-Mv27RI"
      },
      "execution_count": null,
      "outputs": []
    },
    {
      "cell_type": "code",
      "source": [
        "#You can also set statements with strings or Boolean types\n",
        "\n",
        "var = 'yes'\n",
        "if var == 'yes':\n",
        "  print('yay')\n",
        "else:\n",
        "  print('boo')"
      ],
      "metadata": {
        "id": "OcH-pgaE3jgo",
        "colab": {
          "base_uri": "https://localhost:8080/"
        },
        "outputId": "a494fc6a-87b6-4dbf-d312-6efff13d4268"
      },
      "execution_count": null,
      "outputs": [
        {
          "output_type": "stream",
          "name": "stdout",
          "text": [
            "yay\n"
          ]
        }
      ]
    },
    {
      "cell_type": "code",
      "source": [
        "var = False\n",
        "if var == True:\n",
        "  print('true bestie')\n",
        "else:\n",
        "  print('dangit')"
      ],
      "metadata": {
        "id": "5Fved6ajj2Pm",
        "colab": {
          "base_uri": "https://localhost:8080/"
        },
        "outputId": "40ab5025-faa0-457e-8f9f-6faaaab604d3"
      },
      "execution_count": null,
      "outputs": [
        {
          "output_type": "stream",
          "name": "stdout",
          "text": [
            "dangit\n"
          ]
        }
      ]
    },
    {
      "cell_type": "code",
      "source": [
        "#We can also use the elif statement\n",
        "if var1 == 30:\n",
        "  print('ERROR')\n",
        "elif var1 == 21:\n",
        "  print('9+10')\n",
        "else:\n",
        "  print('var1 is smol.')"
      ],
      "metadata": {
        "colab": {
          "base_uri": "https://localhost:8080/"
        },
        "id": "5OCeTzGxj4eZ",
        "outputId": "26efc303-fb86-45cc-ed12-d0c68b5e1ab8"
      },
      "execution_count": null,
      "outputs": [
        {
          "output_type": "stream",
          "name": "stdout",
          "text": [
            "9+10\n"
          ]
        }
      ]
    },
    {
      "cell_type": "markdown",
      "source": [
        "### $\\texttt{NumPy}$"
      ],
      "metadata": {
        "id": "VP9u2QHNA2vQ"
      }
    },
    {
      "cell_type": "markdown",
      "source": [
        "What is NumPy?\n",
        "NumPy is \"the fundamental package for scientific computing in Python.\" This package allows you create and manipulate multidimensional array objects quickly. The main object in NumPy are ndarrays, which are n-dimensional arrays of the same data types, and you can perform many operations on an ndarray. You can find more about the basic characteristics and uses of NumPy [here.](https://numpy.org/doc/stable/user/whatisnumpy.html)  \n",
        "\n",
        "As with any package that we want to use in Python, we first have to import it! Oftentimes, we will import numpy as 'np' to prevent from having to write out 'numpy' in full everytime you want to use it."
      ],
      "metadata": {
        "id": "jGPmlgTmWGzb"
      }
    },
    {
      "cell_type": "code",
      "source": [
        "import numpy as np"
      ],
      "metadata": {
        "id": "Kt8wERY131_w"
      },
      "execution_count": null,
      "outputs": []
    },
    {
      "cell_type": "markdown",
      "source": [
        "**Types of arrays:**"
      ],
      "metadata": {
        "id": "Xc6-bINgX9os"
      }
    },
    {
      "cell_type": "code",
      "source": [
        "## Basic array: creates a simple array from passing a list to it\n",
        "arr = np.array([1,2,3,4])\n",
        "print(arr)\n",
        "\n",
        "## Zeros array: creates an array of 0s of the length you specify\n",
        "zeros = np.zeros(4)\n",
        "print(zeros)\n",
        "\n",
        "## Ones array: creates an array of 1s of the length you specify\n",
        "ones = np.ones(4)\n",
        "print(ones)\n",
        "\n",
        "## Empty array: creates an empty array of the length you specify\n",
        "empt = np.empty(4)\n",
        "# Note!: if we print our empty array, it will be filled with random values. Typically, you will make an empty array to fill values in later.\n",
        "# It's marginally faster than a zeros array and should be used with caution.\n",
        "print(empt)\n",
        "\n",
        "## A range: creates an array that contains a range of evenly spaced values, will take inputs as np.array(min,max,stepsize)\n",
        "arange = np.arange(1,10,1)\n",
        "print(arange)\n",
        "\n",
        "## Linear space: creates an array of values that are linearly spaced in a specified interval, will take inputs as np.array(min,max,number of total elements)\n",
        "linspace = np.linspace(0,20,10)\n",
        "print(linspace)\n",
        "\n",
        "## Note!: remember Python is a 0 indexing language!"
      ],
      "metadata": {
        "id": "FiYh1gaBX5D1",
        "colab": {
          "base_uri": "https://localhost:8080/"
        },
        "outputId": "e95d0231-08cf-4234-df44-66e9590af890"
      },
      "execution_count": null,
      "outputs": [
        {
          "output_type": "stream",
          "name": "stdout",
          "text": [
            "[1 2 3 4]\n",
            "[0. 0. 0. 0.]\n",
            "[1. 1. 1. 1.]\n",
            "[1. 1. 1. 1.]\n",
            "[1 2 3 4 5 6 7 8 9]\n",
            "[ 0.          2.22222222  4.44444444  6.66666667  8.88888889 11.11111111\n",
            " 13.33333333 15.55555556 17.77777778 20.        ]\n"
          ]
        }
      ]
    },
    {
      "cell_type": "markdown",
      "source": [
        "**Sorting and concatenating:**\n",
        "\n",
        "np.sort will sort your array in ascending order. There are other kinds of sorting that you can do, and you can find more about that [here.](https://numpy.org/doc/stable/reference/generated/numpy.sort.html#numpy.sort)\n",
        "\n",
        "np.concatenate allows you to combine arrays into a single array. More about that [here.](https://numpy.org/doc/stable/reference/generated/numpy.concatenate.html#numpy.concatenate)"
      ],
      "metadata": {
        "id": "e-xAsJTGbFZX"
      }
    },
    {
      "cell_type": "code",
      "source": [
        " ## Let's sort an array\n",
        " #generating a numpy array with 12 random entries between 0 and 9\n",
        "rand = np.random.randint(10, size=12)\n",
        "print(rand)\n",
        "\n",
        "  #will sort the entries in ascending order\n",
        "rand_sorted = np.sort(rand)\n",
        "print(rand_sorted)\n",
        "\n",
        " ## Let's combine our unsorted and sorted arrays\n",
        "combine = np.concatenate((rand,rand_sorted),axis=0)\n",
        "print(combine)"
      ],
      "metadata": {
        "id": "89c0agE6VqLo",
        "colab": {
          "base_uri": "https://localhost:8080/"
        },
        "outputId": "6aebf7a1-c1b7-4db6-b1a2-2c4f9ebf2ca7"
      },
      "execution_count": null,
      "outputs": [
        {
          "output_type": "stream",
          "name": "stdout",
          "text": [
            "[7 1 6 2 1 3 1 7 0 6 4 5]\n",
            "[0 1 1 1 2 3 4 5 6 6 7 7]\n",
            "[7 1 6 2 1 3 1 7 0 6 4 5 0 1 1 1 2 3 4 5 6 6 7 7]\n"
          ]
        }
      ]
    },
    {
      "cell_type": "markdown",
      "source": [
        "**Masking and Indexing**"
      ],
      "metadata": {
        "id": "d2DmK4WwHcDG"
      }
    },
    {
      "cell_type": "code",
      "source": [
        "# Let's make an array to use!\n",
        "vals = np.linspace(1,20,20)\n",
        "\n",
        "# We can mask an array in a number of ways.\n",
        "#will print whether an entry is above the value 5 or not with a True or False\n",
        "valsup = vals > 5\n",
        "print(valsup)\n",
        "\n",
        "# Using indexing we can select a certain range of values out of an array.\n",
        "print(vals[0:5])#Includes the start index but not the end index\n",
        "print(vals[5:]) #Includes starting index to the end of the array\n",
        "print(vals[:5])#Includes anything from the beginning of the array up until the ending index (not including it)\n",
        "print(vals[0:5:2])#Prints every other element from elements 0 to 5 (not including 5)\n",
        "print(vals[::2])#Every other element in the entire array\n",
        "\n",
        "# Using a for loop to enter values into an empty list from the numpy array."
      ],
      "metadata": {
        "id": "WgmVMbQGp4Y5",
        "colab": {
          "base_uri": "https://localhost:8080/"
        },
        "outputId": "9aede44a-0719-4c40-db7e-1fad5484bd83"
      },
      "execution_count": null,
      "outputs": [
        {
          "output_type": "stream",
          "name": "stdout",
          "text": [
            "[False False False False False  True  True  True  True  True  True  True\n",
            "  True  True  True  True  True  True  True  True]\n",
            "[1. 2. 3. 4. 5.]\n",
            "[ 6.  7.  8.  9. 10. 11. 12. 13. 14. 15. 16. 17. 18. 19. 20.]\n",
            "[1. 2. 3. 4. 5.]\n",
            "[1. 3. 5.]\n",
            "[ 1.  3.  5.  7.  9. 11. 13. 15. 17. 19.]\n"
          ]
        }
      ]
    },
    {
      "cell_type": "markdown",
      "source": [
        "**Math with numpy**\n",
        "\n",
        "Numpy has a number of mathematical capabilities that you can use. I will go over a couple of basic examples below, but for a full list, you can visit the documentation here: https://numpy.org/doc/stable/reference/routines.math.html"
      ],
      "metadata": {
        "id": "t19han47fPma"
      }
    },
    {
      "cell_type": "code",
      "source": [
        "# The nice thing about numpy arrays is that you can do math to all elements in the array at one time.\n",
        "nums = np.arange(1,11,1)\n",
        "print(nums)\n",
        "twonums = nums*2\n",
        "print(twonums)\n",
        "mathnums = (2*nums+8)**3\n",
        "print(mathnums)\n",
        "\n",
        "#Let's do some cosine and sine calculations!\n",
        "angles = np.arange(0,360,30)\n",
        "\n",
        "sine = np.sin(angles*(np.pi/180))\n",
        "print(sine)\n",
        "cosine = np.cos(angles*(np.pi/180))\n",
        "print(cosine)\n",
        " #The numpy sine and cosine functions take values in radians, so you need to convert!\n",
        "\n",
        "\n",
        "\n",
        "#Oh wait! But if you don't want to write out the whole conversion to go from degrees to radians?\n",
        "rads = np.radians(angles)\n",
        "print(rads)\n",
        "degs = np.degrees(rads)\n",
        "print(degs)"
      ],
      "metadata": {
        "id": "BOxPGRJ5evm5",
        "colab": {
          "base_uri": "https://localhost:8080/"
        },
        "outputId": "c185f75d-3e1c-4974-f351-159d5201691f"
      },
      "execution_count": null,
      "outputs": [
        {
          "output_type": "stream",
          "name": "stdout",
          "text": [
            "[ 1  2  3  4  5  6  7  8  9 10]\n",
            "[ 2  4  6  8 10 12 14 16 18 20]\n",
            "[ 1000  1728  2744  4096  5832  8000 10648 13824 17576 21952]\n",
            "[ 0.00000000e+00  5.00000000e-01  8.66025404e-01  1.00000000e+00\n",
            "  8.66025404e-01  5.00000000e-01  1.22464680e-16 -5.00000000e-01\n",
            " -8.66025404e-01 -1.00000000e+00 -8.66025404e-01 -5.00000000e-01]\n",
            "[ 1.00000000e+00  8.66025404e-01  5.00000000e-01  6.12323400e-17\n",
            " -5.00000000e-01 -8.66025404e-01 -1.00000000e+00 -8.66025404e-01\n",
            " -5.00000000e-01 -1.83697020e-16  5.00000000e-01  8.66025404e-01]\n",
            "[0.         0.52359878 1.04719755 1.57079633 2.0943951  2.61799388\n",
            " 3.14159265 3.66519143 4.1887902  4.71238898 5.23598776 5.75958653]\n",
            "[  0.  30.  60.  90. 120. 150. 180. 210. 240. 270. 300. 330.]\n"
          ]
        }
      ]
    },
    {
      "cell_type": "markdown",
      "source": [
        "### Plotting"
      ],
      "metadata": {
        "id": "--BzVzk1BBlZ"
      }
    },
    {
      "cell_type": "markdown",
      "source": [
        "Leave this here!\n"
      ],
      "metadata": {
        "id": "YomF5d7AEF8B"
      }
    },
    {
      "cell_type": "code",
      "source": [
        "import numpy as np\n",
        "x_data1 = np.linspace(0,20,20)\n",
        "## plot\n",
        "y_data1 = -(x_data1-10)**2 + 100\n",
        "\n",
        "## scatter\n",
        "np.random.seed(143)\n",
        "y_data2 = np.random.randint(1,high= 100, size = 20)\n",
        "\n",
        "np.random.seed(2048)\n",
        "y_data3 = np.random.randint(1,high= 100, size = 20)\n"
      ],
      "metadata": {
        "id": "e_GIWrKt48Hg"
      },
      "execution_count": null,
      "outputs": []
    },
    {
      "cell_type": "markdown",
      "source": [
        "Data visualization (i.e. plotting) is one of the most important aspect in coding as that is the main way you convey important data to your audience. In this section, I will go over important aspects of a plot and how to implented them via code!\n",
        "\n",
        "\n",
        "First, we will begin by importing the python package for plotting data: \"Matplotlib\". If you are interested in learning more about Matplotlib beyond this tutorial, you can go to https://matplotlib.org/stable/gallery/index"
      ],
      "metadata": {
        "id": "JyLVh7pW3hLI"
      }
    },
    {
      "cell_type": "code",
      "source": [
        "import matplotlib.pyplot as plt"
      ],
      "metadata": {
        "id": "gK-OIQhW4BFI"
      },
      "execution_count": null,
      "outputs": []
    },
    {
      "cell_type": "markdown",
      "source": [
        "\n",
        "There are two main plotting classes in Matplotlib: Pyplot and Axes. They both have their own pros and cons. Pyplot is sufficient for simple plotting task while Axes is better for more advanced plotting (e.g. subplots, color bars, etc.) For this tutorial, we will use the pyplot class. If you are interested in learning more about axes you can go to https://matplotlib.org/stable/api/axes_api.html#the-axes-class, or come to the advanced workshop!\n",
        "\n",
        "In general, you want to include the following in your plots: (1) axis titles, (2) plot title, (3) legends (especially when working with multiple data sets). The commands below show you how to do this!\n",
        "\n",
        "\n",
        "<!-- When beginning a plot, you should first set up a figure. Here you can do things like setting the size of your image in inches. This is done with figsize. Let's go ahead and plot the quadratic from earlier! -->"
      ],
      "metadata": {
        "id": "DE3IbAIM6Jnc"
      }
    },
    {
      "cell_type": "code",
      "source": [
        "fig  = plt.figure(figsize = (8,6))\n",
        "plt.plot(x_data1,y_data1,label = \"Mass = 1 kg\",color = \"orange\", linestyle = \"--\")\n",
        "\n",
        "plt.xlabel(\"Distance (m)\",fontsize = 18)\n",
        "plt.ylabel(\"Height (m)\",fontsize = 18)\n",
        "\n",
        "plt.title(\"Projectile Motion\",fontsize = 18)\n",
        "\n",
        "plt.legend(loc = \"upper left\",fontsize = 15)\n",
        "\n",
        "plt.savefig(\"dummy_plot.png\")"
      ],
      "metadata": {
        "colab": {
          "base_uri": "https://localhost:8080/",
          "height": 579
        },
        "id": "J4uAa5O97RC7",
        "outputId": "3158f36c-6eea-40e6-8325-1a1a14faf400"
      },
      "execution_count": null,
      "outputs": [
        {
          "output_type": "display_data",
          "data": {
            "text/plain": [
              "<Figure size 800x600 with 1 Axes>"
            ],
            "image/png": "[encoded data removed]"
          },
          "metadata": {}
        }
      ]
    },
    {
      "cell_type": "markdown",
      "source": [
        "Now that we know the basics of good plots, let's talk about how to adjust the different settings to make your plot look better/be more informative\n",
        "\n",
        "In each of the plotting commands, you can specify certain parameters. For example, in the plt.plot or plt.scatter, we can specify the parameters of how the data are presented (e.g. color, point/line size, marker type, etc.). We can also labale"
      ],
      "metadata": {
        "id": "ct_XnWrUvevO"
      }
    },
    {
      "cell_type": "code",
      "source": [
        "fig = plt.figure(figsize = (8,6)) ## (width, height)\n",
        "plt.scatter(x_data1,y_data2,color = 'maroon', s = 100,label= \"data set #1\")#, linewidth = 2, linestyle = '--', label=\"Mass = 1 kg\")\n",
        "plt.scatter(x_data1,y_data3,color = 'orange', marker = '^', s = 100,label = \"data set #2\")\n",
        "\n",
        "plt.xlabel(\"x-axis label\",fontsize = 18)\n",
        "plt.ylabel(\"y-axis label\",fontsize = 18)\n",
        "plt.title(\"Scatter Plot\",fontsize = 18)\n",
        "\n",
        "plt.xticks([0,2,4,6,8,10,12,14,16,18,20],fontsize=14)\n",
        "plt.yticks([0,10,20,30,40,50,60,70,80,90,100],fontsize=14)\n",
        "# plt.xticklabels(fontsize = 20)\n",
        "\n",
        "plt.legend(bbox_to_anchor=(1, 1),fontsize=14)#,loc = \"upper right\")"
      ],
      "metadata": {
        "colab": {
          "base_uri": "https://localhost:8080/",
          "height": 426
        },
        "id": "hS5EoyXxEL6d",
        "outputId": "d53d68a1-0b5f-4933-f9ef-24148089be75"
      },
      "execution_count": null,
      "outputs": [
        {
          "output_type": "execute_result",
          "data": {
            "text/plain": [
              "<matplotlib.legend.Legend at 0x78a4e8038bb0>"
            ]
          },
          "metadata": {},
          "execution_count": 4
        },
        {
          "output_type": "display_data",
          "data": {
            "text/plain": [
              "<Figure size 800x600 with 1 Axes>"
            ],
            "image/png": "[encoded data removed]"
          },
          "metadata": {}
        }
      ]
    },
    {
      "cell_type": "markdown",
      "source": [
        "### Functions"
      ],
      "metadata": {
        "id": "rtd58RyHBGl1"
      }
    },
    {
      "cell_type": "markdown",
      "source": [
        "Functions are very useful when you will need to run the same code multiple times. Instead of having to retype all of the code every time, you can just call the function!"
      ],
      "metadata": {
        "id": "YwfFLvnshnds"
      }
    },
    {
      "cell_type": "code",
      "source": [
        "# To set up a function (note that this example will not actually run):\n",
        "def function_name(inputs):\n",
        "  # this is where your function does stuff!\n",
        "  return output"
      ],
      "metadata": {
        "id": "kL_aQYJfBJi7"
      },
      "execution_count": null,
      "outputs": []
    },
    {
      "cell_type": "code",
      "source": [
        "# Example of a simple function: f(x) = x^2\n",
        "# This function takes in a variable (x) and returns the square of that variable.\n",
        "def f1(x):\n",
        "  return x**2\n",
        "# Let's try it!\n",
        "print(f1(3))\n",
        "print(f1(4))"
      ],
      "metadata": {
        "id": "-htrLry9iyAl",
        "colab": {
          "base_uri": "https://localhost:8080/"
        },
        "outputId": "c0f424df-46bc-49cd-bda1-bb161f71726c"
      },
      "execution_count": null,
      "outputs": [
        {
          "output_type": "stream",
          "name": "stdout",
          "text": [
            "9\n",
            "16\n"
          ]
        }
      ]
    },
    {
      "cell_type": "code",
      "source": [
        "# Functions can also have multiple inputs:\n",
        "def f2(x,y):\n",
        "  return x+2*y\n",
        "\n",
        "print(f2(1,2))"
      ],
      "metadata": {
        "id": "fCbRr0SojseZ",
        "colab": {
          "base_uri": "https://localhost:8080/"
        },
        "outputId": "50fcb9c1-bfa0-4dd8-eb0d-5a6e36821158"
      },
      "execution_count": null,
      "outputs": [
        {
          "output_type": "stream",
          "name": "stdout",
          "text": [
            "5\n"
          ]
        }
      ]
    },
    {
      "cell_type": "code",
      "source": [
        "# And multiple outputs:\n",
        "def f3(x,y):\n",
        "  return x,2*y\n",
        "\n",
        "print(f3(1,2))"
      ],
      "metadata": {
        "id": "hKN6XS1skE5u",
        "colab": {
          "base_uri": "https://localhost:8080/"
        },
        "outputId": "7113e0e9-6452-4d77-b2c4-bc3b811bdde2"
      },
      "execution_count": null,
      "outputs": [
        {
          "output_type": "stream",
          "name": "stdout",
          "text": [
            "(1, 4)\n"
          ]
        }
      ]
    },
    {
      "cell_type": "code",
      "source": [
        "# That last function returned two outputs as a tuple. We can access one of those outputs with the index:\n",
        "example_var = f3(1,2)\n",
        "print(example_var[1])"
      ],
      "metadata": {
        "id": "lil5_qVrkcvL",
        "colab": {
          "base_uri": "https://localhost:8080/"
        },
        "outputId": "6849fd56-aefa-4fac-ca8b-6a9c5a161e0f"
      },
      "execution_count": null,
      "outputs": [
        {
          "output_type": "stream",
          "name": "stdout",
          "text": [
            "4\n"
          ]
        }
      ]
    },
    {
      "cell_type": "code",
      "source": [
        "# you can also include optional inputs with a default value:\n",
        "def f4(x,a=1,b=2):\n",
        "  return a*x**b"
      ],
      "metadata": {
        "id": "qAZNzATMuu5R"
      },
      "execution_count": null,
      "outputs": []
    },
    {
      "cell_type": "code",
      "source": [
        "# a=1 and b=2 by default -> f(x) = x^2\n",
        "print(f4(3))\n",
        "# set a=2, b=2 by default -> f(x) = 2x^2\n",
        "print(f4(3,a=2))\n",
        "# set b=3, a=1 by default -> f(x) = x^3\n",
        "print(f4(3,b=3))\n",
        "# set a=2 and b=3 -> f(x) = 2x^3\n",
        "print(f4(3,a=2,b=3))"
      ],
      "metadata": {
        "id": "miXDo35-0NSU",
        "colab": {
          "base_uri": "https://localhost:8080/"
        },
        "outputId": "f3eafb87-75af-442f-a061-0813c459250c"
      },
      "execution_count": null,
      "outputs": [
        {
          "output_type": "stream",
          "name": "stdout",
          "text": [
            "9\n",
            "18\n",
            "27\n",
            "54\n"
          ]
        }
      ]
    },
    {
      "cell_type": "code",
      "source": [],
      "metadata": {
        "id": "-iRqHy1p0ZHz"
      },
      "execution_count": null,
      "outputs": []
    }
  ]
}