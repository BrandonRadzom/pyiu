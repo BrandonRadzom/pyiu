{
 "cells": [
  {
   "cell_type": "markdown",
   "id": "6f7eb436-a521-417a-ab0b-7ca64f9f3dd4",
   "metadata": {},
   "source": [
    "# Basics of Programming\n",
    "\n",
    "This notebook should cover the **basics** of programming. Although the syntax will differ by language, *the logic* can be applied to any progamming language of your choice. Exercises are left to do in your own time, along with some suggested links or readings. It is impossible to cover everything in such a short time, so I highly suggest looking for other tutorials and examples online."
   ]
  },
  {
   "cell_type": "markdown",
   "id": "fba748c7-ff33-4eef-86de-09cb21877cc3",
   "metadata": {},
   "source": [
    "## Part 0: Basic Commands\n",
    "Before we get started, we should probably explain how to do basic operations in python. Baisc mathematical commands are listed below"
   ]
  },
  {
   "cell_type": "code",
   "execution_count": 1,
   "id": "e5ac3086",
   "metadata": {},
   "outputs": [
    {
     "data": {
      "text/plain": [
       "14"
      ]
     },
     "execution_count": 1,
     "metadata": {},
     "output_type": "execute_result"
    }
   ],
   "source": [
    "7+7"
   ]
  },
  {
   "cell_type": "code",
   "execution_count": 2,
   "id": "37ccc885",
   "metadata": {},
   "outputs": [
    {
     "name": "stdout",
     "output_type": "stream",
     "text": [
      "14\n"
     ]
    }
   ],
   "source": [
    "print(7+7)"
   ]
  },
  {
   "cell_type": "code",
   "execution_count": 3,
   "id": "66c5c884-9136-4e62-bca8-a6bc7903e1c2",
   "metadata": {},
   "outputs": [],
   "source": [
    "add=7+7\n",
    "subtract=10-2\n",
    "multiply=4*5\n",
    "divide=6/3\n",
    "modulus=10%3\n",
    "exponent=2**3"
   ]
  },
  {
   "cell_type": "markdown",
   "id": "1c7feba7-55fe-4ade-a10e-64c6b15a77d3",
   "metadata": {},
   "source": [
    "## Part 1: Variables\n",
    "\n",
    "To do any sort of work in python, we need to have a way to store information. To start we can declare a **variable**"
   ]
  },
  {
   "cell_type": "markdown",
   "id": "02b55274-e07a-4b61-b6c9-f73baca0f311",
   "metadata": {},
   "source": [
    "### Delcaration"
   ]
  },
  {
   "cell_type": "code",
   "execution_count": 4,
   "id": "9d3a3cf7-69ae-4af1-920a-c46c9bd7ebb3",
   "metadata": {},
   "outputs": [
    {
     "name": "stdout",
     "output_type": "stream",
     "text": [
      "1\n"
     ]
    }
   ],
   "source": [
    "my_first_variable=1\n",
    "print(my_first_variable)"
   ]
  },
  {
   "cell_type": "markdown",
   "id": "0d5bfe38-5d2d-47ae-8ec8-0b048083e0ff",
   "metadata": {},
   "source": [
    "Here I have defined a variable called \"my_first_variable\" to be the number 1.\n",
    "**Note:** I did not use any space when typing out the variable name. There are special rules for what can and cannot go into a variable name, such as no spaces. A full list can be found here: https://www.w3schools.com/python/gloss_python_variable_names.asp\n",
    "\n",
    "In general, you want a variable name to be descriptive, but not too long. *Remember, we are storing data to use later.* You must write out the variable name to use that data later, so you do not want variables that are 50 chaarcters long. For example, it might be good to shorten my variable in the following way."
   ]
  },
  {
   "cell_type": "code",
   "execution_count": 5,
   "id": "b8bf3245-122d-4a36-b563-970d2217b230",
   "metadata": {},
   "outputs": [],
   "source": [
    "my_first_var=my_first_variable"
   ]
  },
  {
   "cell_type": "markdown",
   "id": "27c056ec-25b2-423b-a70c-11ce5d5329f6",
   "metadata": {},
   "source": [
    "This name is still descriptive, but shorter. **Notice:** I set my_first_var equal to my_first_variable insetad of 1. This is an example of using data stored in a variable. Python will replace whatever variable name you type out with its actual value when running a command. Below you can see how this gives the same value."
   ]
  },
  {
   "cell_type": "code",
   "execution_count": 6,
   "id": "2cdc3326-3ec9-4add-a26b-c30ebd1ef1d6",
   "metadata": {},
   "outputs": [
    {
     "name": "stdout",
     "output_type": "stream",
     "text": [
      "my_first_variable:  1\n",
      "my_first_var:  1\n"
     ]
    }
   ],
   "source": [
    "print('my_first_variable: ', my_first_variable)\n",
    "print('my_first_var: ',my_first_var)"
   ]
  },
  {
   "cell_type": "markdown",
   "id": "94d001a5-6352-4306-a221-ca83163085f6",
   "metadata": {},
   "source": [
    "### Data Types\n",
    "\n",
    "One important thing to know is all variables in python have a **type**. You cann assign types, or python will infer them for you."
   ]
  },
  {
   "cell_type": "code",
   "execution_count": 7,
   "id": "898a44e5-9824-43a2-9bed-eee2fcd7f2de",
   "metadata": {},
   "outputs": [
    {
     "name": "stdout",
     "output_type": "stream",
     "text": [
      "Variable type:  <class 'int'>\n"
     ]
    }
   ],
   "source": [
    "print('Variable type: ',type(my_first_var))"
   ]
  },
  {
   "cell_type": "markdown",
   "id": "2ebb358c-0b16-4104-977b-e9d42c1b0627",
   "metadata": {},
   "source": [
    "The type of the variable is listed in quotations after class. Our first variable is an 'int', short for **integer**. Since we gave python a number with no decimals, it inferred we wanted an integer. We can test out how python will interpet declarations of different variables."
   ]
  },
  {
   "cell_type": "code",
   "execution_count": 8,
   "id": "d0d41bd5-3ccd-47c1-ada9-c4846140cb1f",
   "metadata": {},
   "outputs": [
    {
     "name": "stdout",
     "output_type": "stream",
     "text": [
      "Variable type of my_name:  <class 'str'>\n",
      "Variable type of decimal:  <class 'float'>\n"
     ]
    }
   ],
   "source": [
    "##Declare some variables\n",
    "my_name='Kyle'\n",
    "decimal=1.0\n",
    "\n",
    "#check variable types\n",
    "print('Variable type of my_name: ',type(my_name))\n",
    "print('Variable type of decimal: ',type(decimal))"
   ]
  },
  {
   "cell_type": "markdown",
   "id": "053c9f68-4284-4c80-8130-eeea9502391a",
   "metadata": {},
   "source": [
    "You can see when I gave python a word (or any series of letters) it defines the variable as 'str', short for **string**. If I use a decimal point, my number is now a **float**. It is important to keep in mind data types because certian operations can only work on certain types. For example, you can multiply two numbers together:"
   ]
  },
  {
   "cell_type": "markdown",
   "id": "a5c1f03f-a6ba-475c-aa2b-192ac7375ff3",
   "metadata": {},
   "source": [
    "But you **cannot** multiply a string with a float"
   ]
  },
  {
   "cell_type": "code",
   "execution_count": 9,
   "id": "47e44c4c-8bfe-4e10-afe7-a5b1c1a62616",
   "metadata": {},
   "outputs": [
    {
     "ename": "TypeError",
     "evalue": "can't multiply sequence by non-int of type 'float'",
     "output_type": "error",
     "traceback": [
      "\u001b[0;31m---------------------------------------------------------------------------\u001b[0m",
      "\u001b[0;31mTypeError\u001b[0m                                 Traceback (most recent call last)",
      "Input \u001b[0;32mIn [9]\u001b[0m, in \u001b[0;36m<cell line: 1>\u001b[0;34m()\u001b[0m\n\u001b[0;32m----> 1\u001b[0m \u001b[38;5;28mprint\u001b[39m(\u001b[43mmy_name\u001b[49m\u001b[38;5;241;43m*\u001b[39;49m\u001b[43mdecimal\u001b[49m)\n",
      "\u001b[0;31mTypeError\u001b[0m: can't multiply sequence by non-int of type 'float'"
     ]
    }
   ],
   "source": [
    "print(my_name*decimal)"
   ]
  },
  {
   "cell_type": "markdown",
   "id": "dac9a249-9b8e-4bbf-8b6f-df4f917c4404",
   "metadata": {},
   "source": [
    "If you wanted to declare your own variable type instead of having python infer it, do so in the following manner:"
   ]
  },
  {
   "cell_type": "code",
   "execution_count": 10,
   "id": "98697da9-32fb-48cb-a772-69cc306a7bf9",
   "metadata": {},
   "outputs": [
    {
     "name": "stdout",
     "output_type": "stream",
     "text": [
      "my_new_var:  1.0 is a float:  <class 'float'>\n",
      "my_new_str:  1 is a string:  <class 'str'>\n"
     ]
    }
   ],
   "source": [
    "my_new_var=float(1)\n",
    "my_new_str=str(1)\n",
    "print('my_new_var: ',my_new_var, 'is a float: ',type(my_new_var))\n",
    "print('my_new_str: ',my_new_str, 'is a string: ',type(my_new_str))"
   ]
  },
  {
   "cell_type": "markdown",
   "id": "450dde7d-c700-41ad-a005-d1e37c526d7e",
   "metadata": {},
   "source": [
    "See how you can define a simple integer number to be different tpyes of variables. https://www.tutorialspoint.com/python/python_variable_types.htm gives some extra info on variables for further reading."
   ]
  },
  {
   "cell_type": "markdown",
   "id": "faaabf4a-30df-4b84-afe3-cb6609365177",
   "metadata": {},
   "source": [
    "### Exercise\n",
    "Create 3 variables of different types and confirm there type. For an extra challenge, do not use any variable types discussed above."
   ]
  },
  {
   "cell_type": "code",
   "execution_count": 11,
   "id": "441fdc8e-d565-46a3-bb29-78afdda8481d",
   "metadata": {},
   "outputs": [],
   "source": [
    "#enter code here"
   ]
  },
  {
   "cell_type": "markdown",
   "id": "920c035f-0eae-44d8-b1d3-19bc20276b0c",
   "metadata": {
    "tags": []
   },
   "source": [
    "## Part 2: Lists\n",
    "A special type of variable is the list. This allows you to store multiple pieces of data in one location. This will be extremely usefull for working with data. Lets define a list."
   ]
  },
  {
   "cell_type": "code",
   "execution_count": 12,
   "id": "04580140-4ce8-4e53-a0d6-4e00d402211c",
   "metadata": {},
   "outputs": [
    {
     "name": "stdout",
     "output_type": "stream",
     "text": [
      "[1, 2, 3, 4]\n"
     ]
    }
   ],
   "source": [
    "my_list=[1,2,3,4]\n",
    "\n",
    "print(my_list)"
   ]
  },
  {
   "cell_type": "markdown",
   "id": "52337a9f-4723-44ab-a3bc-45c41add702e",
   "metadata": {},
   "source": [
    "To define a list, you give a name (just like other variabl types) and set it equal to data in [] brackets. We could also have a list of strings."
   ]
  },
  {
   "cell_type": "code",
   "execution_count": 13,
   "id": "d6bffe84-cc5f-4b7e-bd6a-e1084474da45",
   "metadata": {},
   "outputs": [
    {
     "name": "stdout",
     "output_type": "stream",
     "text": [
      "['blue', 'red', 'green']\n"
     ]
    }
   ],
   "source": [
    "color_list=['blue','red','green']\n",
    "\n",
    "print(color_list)"
   ]
  },
  {
   "cell_type": "markdown",
   "id": "7668e279-b081-4b40-9b0e-98386682f806",
   "metadata": {},
   "source": [
    "### Accessing elements of a list\n",
    "We can access elements of a list using **indexing**. Python is **a 0 index language**. This means python starts counting at 0. The first element of a list is 0, the second is 1, and so on. Some other programming languages are 1 based indexed. It is important to know this so you access the right data. To use indexing, simply call the index number of the item you want. For example"
   ]
  },
  {
   "cell_type": "code",
   "execution_count": 14,
   "id": "c6b93aeb-6ef3-4367-933e-5e5501876bc9",
   "metadata": {},
   "outputs": [
    {
     "name": "stdout",
     "output_type": "stream",
     "text": [
      "The second number in our color list is:  2\n"
     ]
    }
   ],
   "source": [
    "second_number=my_list[1]\n",
    "\n",
    "print('The second number in our color list is: ',second_number)"
   ]
  },
  {
   "cell_type": "markdown",
   "id": "705ce9c0-ce72-4a27-8659-5be73e1100f0",
   "metadata": {},
   "source": [
    "There are many ways you can manipulate lists. Read through https://docs.python.org/3/tutorial/datastructures.html to learn more. One simple one is adding and element. To do so we **append** to the list."
   ]
  },
  {
   "cell_type": "code",
   "execution_count": 15,
   "id": "5da0e458",
   "metadata": {},
   "outputs": [
    {
     "data": {
      "text/plain": [
       "[2, 3, 4]"
      ]
     },
     "execution_count": 15,
     "metadata": {},
     "output_type": "execute_result"
    }
   ],
   "source": [
    "my_list[1:]"
   ]
  },
  {
   "cell_type": "code",
   "execution_count": 16,
   "id": "5708d83f-cf3e-4a97-9c8d-9b51ce3b0b9b",
   "metadata": {},
   "outputs": [
    {
     "name": "stdout",
     "output_type": "stream",
     "text": [
      "[1, 2, 3, 4, 5]\n"
     ]
    }
   ],
   "source": [
    "my_list.append(5)\n",
    "print(my_list)"
   ]
  },
  {
   "cell_type": "markdown",
   "id": "e05d42d0-0bd6-46ff-857e-2680d2954683",
   "metadata": {},
   "source": [
    "When appending, your new element is added to the end of the list."
   ]
  },
  {
   "cell_type": "markdown",
   "id": "897e09cf-b704-4f12-872a-c5b86043fc52",
   "metadata": {
    "tags": []
   },
   "source": [
    "### List alternatives\n",
    "Lists are convenient as they are built into python. Yet, there are many alternatives you may find useful. Below are some list-like variables to store data\n",
    "\n",
    "* dictionary  \n",
    "    * built into python  \n",
    "    * allows you to assign a key (basically a user chosen word to index data)\n",
    "    * https://www.w3schools.com/python/python_dictionaries.asp\n",
    "* numpy array  \n",
    "    * requires numpy  \n",
    "    * faster than lists  \n",
    "    * many useful functions for computation  \n",
    "    * https://numpy.org/doc/stable/reference/generated/numpy.array.html  \n",
    "* pandas series and data frames  \n",
    "    * requires pandas  \n",
    "    * greater for storing large data sets  \n",
    "    * not the most user friendly  \n",
    "    * https://pandas.pydata.org/docs/reference/api/pandas.Series.html  \n",
    "    \n",
    "If you are grasping the basics, you probably will want to start using numpy arrays instead of lists for most use cases."
   ]
  },
  {
   "cell_type": "markdown",
   "id": "9c9634a3-752b-4657-a665-de18b4f738a1",
   "metadata": {},
   "source": [
    "### Exercise\n",
    "1) Create a list with 5 elements\n",
    "2) Append two additional items to that list of another data type"
   ]
  },
  {
   "cell_type": "code",
   "execution_count": 17,
   "id": "b22e707f-8431-4c12-bb19-69f707ffcb31",
   "metadata": {},
   "outputs": [],
   "source": [
    "### enter code"
   ]
  },
  {
   "cell_type": "markdown",
   "id": "af770b5d-102c-4d4e-bd63-839819d32623",
   "metadata": {},
   "source": [
    "## Part 3: Functions\n",
    "Functions are a *fundamental* part of programming. Functions are basically a way to store operations so you can easily call them for repeated use. Functions can be declared the following way."
   ]
  },
  {
   "cell_type": "code",
   "execution_count": 18,
   "id": "2f12494f-74b1-4c21-aa74-d748a38fe1d9",
   "metadata": {},
   "outputs": [],
   "source": [
    "def my_function(number):\n",
    "    number_to_add=5\n",
    "    new_sum=number+number_to_add\n",
    "    \n",
    "    return new_sum"
   ]
  },
  {
   "cell_type": "markdown",
   "id": "0887a416-230d-44d0-8607-d50ad977fafa",
   "metadata": {},
   "source": [
    "There are some key things to note with creating a function. Use 'def' followed by a space and then choose your function name. The function name is followed by paranethesis where you put variable names for all of the inputs you will pass your function. End the first line with a colon. All of your operations are indented below. You end a function with return. Return will pass whatever variable (or variables) you chose to your original funciton call. The function we made adds 5 to a number. We can test this works."
   ]
  },
  {
   "cell_type": "code",
   "execution_count": 19,
   "id": "7e18aa29-e451-4ce7-aca6-b46ac8c999de",
   "metadata": {},
   "outputs": [
    {
     "name": "stdout",
     "output_type": "stream",
     "text": [
      "6\n"
     ]
    }
   ],
   "source": [
    "original_number=1\n",
    "number_plus_five=my_function(original_number)\n",
    "print(number_plus_five)"
   ]
  },
  {
   "cell_type": "markdown",
   "id": "06dd164c-d9ed-4955-834b-5960236bb892",
   "metadata": {},
   "source": [
    "We can even test this on elements on our list."
   ]
  },
  {
   "cell_type": "code",
   "execution_count": 20,
   "id": "cb6caa8a-6177-44ce-9f7a-627618733fe9",
   "metadata": {},
   "outputs": [
    {
     "name": "stdout",
     "output_type": "stream",
     "text": [
      "8\n"
     ]
    }
   ],
   "source": [
    "list_number_plus_five=my_function(my_list[2])\n",
    "print(list_number_plus_five)"
   ]
  },
  {
   "cell_type": "markdown",
   "id": "d7d8aaeb-96ae-4a6f-82c0-f9c09a0dad37",
   "metadata": {},
   "source": [
    "A general template for a function is below"
   ]
  },
  {
   "cell_type": "code",
   "execution_count": 21,
   "id": "272fab5d-e28e-4e66-a067-73013cca8ba4",
   "metadata": {},
   "outputs": [],
   "source": [
    "def function_name(func_param1,func_param2,func_param3):\n",
    "    #replace above function name\n",
    "    # you can add or remove any number of function parameters\n",
    "    \n",
    "    #function operations\n",
    "    #type out what you want you want your function to do\n",
    "    \n",
    "    #return what variables you want\n",
    "    #can return multiple variables by separating them with a comma\n",
    "    #ex: retrun var1, var2\n",
    "    return"
   ]
  },
  {
   "cell_type": "markdown",
   "id": "8a56128c-fe49-4d54-9d14-064ea832e39a",
   "metadata": {},
   "source": [
    "### Exercise\n",
    "1) Create a function to divide any number by 2\n",
    "2) Create a list of 3 floating numbers and a second list of 3 integers.\n",
    "3) Apply your function to each element of the loop\n",
    "4) Check the data type of each value returned from your function"
   ]
  },
  {
   "cell_type": "code",
   "execution_count": 22,
   "id": "4d96b82b-8fdc-4366-a092-fa69e714ae1c",
   "metadata": {},
   "outputs": [],
   "source": [
    "###enter code"
   ]
  },
  {
   "cell_type": "markdown",
   "id": "8b22aef8-f957-4d2c-971b-8a55fb3076cd",
   "metadata": {},
   "source": [
    "## Part 4: Conditionals\n",
    "**Conditional statements** are when you start telling your computer to use logic to solve problems. For example, you may only want data that meets a certain condition. A simple way to accomplish this is with the **if statement**."
   ]
  },
  {
   "cell_type": "code",
   "execution_count": 23,
   "id": "3be8a300-4104-4088-bb6f-88c34e05b273",
   "metadata": {},
   "outputs": [
    {
     "name": "stdout",
     "output_type": "stream",
     "text": [
      "Our number is less than 10\n"
     ]
    }
   ],
   "source": [
    "x=5\n",
    "\n",
    "if x<10:\n",
    "    print('Our number is less than 10')"
   ]
  },
  {
   "cell_type": "markdown",
   "id": "64cb831f-51ca-4037-88b2-45265db9a43e",
   "metadata": {},
   "source": [
    "You can play around with the above x value. Notice what happens if it no longer meets our criteria."
   ]
  },
  {
   "cell_type": "code",
   "execution_count": 24,
   "id": "b51cd0c5-e254-457e-a739-84d36186fcc8",
   "metadata": {},
   "outputs": [],
   "source": [
    "x=11\n",
    "\n",
    "if x<10:\n",
    "    print('Our number is less than 10')"
   ]
  },
  {
   "cell_type": "markdown",
   "id": "9efe9095-6fc2-4b2a-8036-77741a7b3b7d",
   "metadata": {},
   "source": [
    "The statement did not print because 11<10 is a false statement, so python passed over the if condition. The basic way this works is if the conditions is true, python will execute the indented code below, if it is false, python will skip the indented code and carry on to the next line outside of the if statement. We can extend our conditions using **elif** and **else** statements. Lets say if we knwo a number is not less than 10, but we want to know if it less than 50. We can use an elif statement"
   ]
  },
  {
   "cell_type": "code",
   "execution_count": 25,
   "id": "cf573943-8402-4829-8cde-336aaad04050",
   "metadata": {},
   "outputs": [
    {
     "name": "stdout",
     "output_type": "stream",
     "text": [
      "Our number is greater than 10 but less than 50\n"
     ]
    }
   ],
   "source": [
    "x=11\n",
    "\n",
    "if x<10:\n",
    "    print('Our number is less than 10')\n",
    "elif x<50:\n",
    "    print('Our number is greater than 10 but less than 50')"
   ]
  },
  {
   "cell_type": "markdown",
   "id": "112965de-7152-4adb-8dd2-b0bd12a24ed0",
   "metadata": {},
   "source": [
    "elif statement work as extensions of if statements for multiple conditions. else is typically used as your last possible condition. So for our example lets say we only care about numbers less than 50. We can add an else: statement that lets us know when the conditions we care about are not met"
   ]
  },
  {
   "cell_type": "code",
   "execution_count": 26,
   "id": "cbd6f702-bb7e-49b9-9423-228146ba3dd9",
   "metadata": {},
   "outputs": [
    {
     "name": "stdout",
     "output_type": "stream",
     "text": [
      "This number is greater than 50. We do not care\n"
     ]
    }
   ],
   "source": [
    "x=51\n",
    "\n",
    "if x<10:\n",
    "    print('Our number is less than 10')\n",
    "elif x<50:\n",
    "    print('Our number is greater than 10 but less than 50')\n",
    "else:\n",
    "    print('This number is greater than 50. We do not care')"
   ]
  },
  {
   "cell_type": "markdown",
   "id": "bb44de5e-26f9-4159-b7ac-f9c3eb10d993",
   "metadata": {},
   "source": [
    "else statements are used as catch alls for any other possible conditon. When using multiple conditionals, be careful of your indentation. Each statement needs its corresponding code indented. Further reading on conditionals can be found here: https://realpython.com/python-conditional-statements/"
   ]
  },
  {
   "cell_type": "markdown",
   "id": "ef68d202-44f7-4df9-8c9e-94f36bdb75bc",
   "metadata": {},
   "source": [
    "### Exercises\n",
    "1) Using conditionals, to determine if a number is less than 1.\n",
    "<br>\n",
    "2) Use a conditional statement that applies a function. A good practice would be to write a function that \n",
    "multiplies a given number by another, but only use conditionals to only apply this function to an odd number.\n",
    "<br>\n",
    "3) Write an if statement to check if a variable is a \"int\". This may require you to look up logical and bitwise operators."
   ]
  },
  {
   "cell_type": "code",
   "execution_count": 27,
   "id": "fe555e29-4523-4149-97a9-515da7d48c20",
   "metadata": {},
   "outputs": [],
   "source": [
    "###enter code"
   ]
  },
  {
   "cell_type": "markdown",
   "id": "bda6c9b4-be93-4527-807d-a3671d1d6b03",
   "metadata": {},
   "source": [
    "## Part 5: Loops\n",
    "Loops are one of the most *fundamental* aspects of coding. Loops are used to repeat the same lines of code so you do ont need to retype anything. In python, there are 2 main types of loops.\n",
    "\n",
    "1) for loops\n",
    "2) while loops\n",
    "\n",
    "**for loops** will probably be the ones you use most. They work in the follwing way"
   ]
  },
  {
   "cell_type": "code",
   "execution_count": 28,
   "id": "5e8835c6-ffbc-4936-8837-4c5d62dcb672",
   "metadata": {},
   "outputs": [
    {
     "name": "stdout",
     "output_type": "stream",
     "text": [
      "0\n",
      "1\n",
      "2\n",
      "3\n",
      "4\n"
     ]
    }
   ],
   "source": [
    "N=5\n",
    "for i in range(N):\n",
    "    print(i)"
   ]
  },
  {
   "cell_type": "markdown",
   "id": "e885989e-a2b3-43e9-a603-0db0b7368381",
   "metadata": {},
   "source": [
    "To understand this you may want to rear about the range function (https://www.w3schools.com/python/ref_func_range.asp) . We define an indexing variable, in this case i. This variable takes on the value of the current item in the loop. Once the code in the loop is one, i changes to be the next iterable. This can be better illustrated with a list"
   ]
  },
  {
   "cell_type": "code",
   "execution_count": 29,
   "id": "4ffaae2c-6fe1-4cd2-b945-7713ed13ad5c",
   "metadata": {},
   "outputs": [
    {
     "name": "stdout",
     "output_type": "stream",
     "text": [
      "a\n",
      "b\n",
      "c\n"
     ]
    }
   ],
   "source": [
    "test_list=['a','b','c']\n",
    "for j in test_list:\n",
    "    print(j)"
   ]
  },
  {
   "cell_type": "markdown",
   "id": "cffd3a00-a41d-4a05-bc55-3aa3ae1a4bb7",
   "metadata": {},
   "source": [
    "the variable j clearly changes to be the next element of the list after it is printed. I highly recommend googling python iterables to learn more about what can be looped through in this manner."
   ]
  },
  {
   "cell_type": "markdown",
   "id": "8e77d224-dcdd-4717-9224-8b91ce88fa4f",
   "metadata": {},
   "source": [
    "for loops work under the condition that the will run for whatever data is provided. **while loops** operate as long as a condition is *true*. An example is below"
   ]
  },
  {
   "cell_type": "code",
   "execution_count": 30,
   "id": "0fd96834-de78-4bd7-9647-cb7b053cfc6c",
   "metadata": {},
   "outputs": [
    {
     "name": "stdout",
     "output_type": "stream",
     "text": [
      "1\n",
      "2\n",
      "3\n",
      "4\n",
      "5\n",
      "6\n",
      "7\n",
      "8\n",
      "9\n"
     ]
    }
   ],
   "source": [
    "y=1\n",
    "while y<10:\n",
    "    print(y)\n",
    "    y+=1"
   ]
  },
  {
   "cell_type": "markdown",
   "id": "8a8ab4a8-a44b-418d-9e0f-f5913edd83c9",
   "metadata": {},
   "source": [
    "A key thing to note, it while loops do not iterate through something like a for loop. if we just said print(y) we would have an **infinite loop**. If we set y=1 and we never tell y to change, we will be stuck in our loop forever!. y+=1 tells our computer to add 1 to the current value of y. You can see it goes up by one each time until y is no longer less than 10. If we were to print y now it would be 10, becasue 10 is the first value for which y<10 is false, so this is where the loop breaks."
   ]
  },
  {
   "cell_type": "code",
   "execution_count": 31,
   "id": "41fb4326-68ae-4dcb-b61b-6a9df09d7b18",
   "metadata": {},
   "outputs": [
    {
     "name": "stdout",
     "output_type": "stream",
     "text": [
      "10\n"
     ]
    }
   ],
   "source": [
    "print(y)"
   ]
  },
  {
   "cell_type": "markdown",
   "id": "22d99870-51b3-4be8-9988-78ded16a6612",
   "metadata": {},
   "source": [
    "while loops operate by checking a condtion and then running the subsequent code. Other languages, like C++, have do-while loops. These are similar, but run code and then check if a condition is met. You can emulate this in python, but there is no built in way to do this in python. If you want to learn more, read here https://www.freecodecamp.org/news/python-do-while-loop-example/ . Addtionaly, feel free to read about statement to break out of loops. *These also work for conditional statements!* https://www.digitalocean.com/community/tutorials/how-to-use-break-continue-and-pass-statements-when-working-with-loops-in-python-3\n"
   ]
  },
  {
   "cell_type": "markdown",
   "id": "f44b9a00-ef3c-48a8-9cef-92fe1efbb24a",
   "metadata": {},
   "source": [
    "### Exercises\n",
    "1) Make a for loop to count to 10\n",
    "<br>\n",
    "2) Make a while loop to count by twos upto 100.\n",
    "<br>\n",
    "3) Make a for loop to count to 10. Have your loop print whether the value is even or odd\n",
    "<br>\n",
    "4) Make a loop to append 10 different values to an empty list\n",
    "<br>\n",
    "5) Write a function that divides a given number by 10. Loop through a list of 5 values. If a given value is less than 3, apply your function, otherwise have your loop print the variables type."
   ]
  },
  {
   "cell_type": "code",
   "execution_count": 32,
   "id": "11b19916-682d-47e4-90ac-d43aa0ab4f1f",
   "metadata": {},
   "outputs": [],
   "source": [
    "###enter code here"
   ]
  }
 ],
 "metadata": {
  "kernelspec": {
   "display_name": "Python 3 (ipykernel)",
   "language": "python",
   "name": "python3"
  },
  "language_info": {
   "codemirror_mode": {
    "name": "ipython",
    "version": 3
   },
   "file_extension": ".py",
   "mimetype": "text/x-python",
   "name": "python",
   "nbconvert_exporter": "python",
   "pygments_lexer": "ipython3",
   "version": "3.8.13"
  }
 },
 "nbformat": 4,
 "nbformat_minor": 5
}
